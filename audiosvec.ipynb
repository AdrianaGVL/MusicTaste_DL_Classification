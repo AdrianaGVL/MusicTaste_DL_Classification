{
 "cells": [
  {
   "cell_type": "code",
   "execution_count": 4,
   "id": "initial_id",
   "metadata": {
    "collapsed": true,
    "ExecuteTime": {
     "end_time": "2024-01-05T14:58:28.177420Z",
     "start_time": "2024-01-05T14:58:28.170640Z"
    }
   },
   "outputs": [],
   "source": [
    "# libraries\n",
    "import numpy as np\n",
    "import librosa\n",
    "import os\n",
    "from pathlib import Path"
   ]
  },
  {
   "cell_type": "code",
   "outputs": [],
   "source": [
    "# Path to each genre folder\n",
    "parent_path = str(Path(Path.cwd()).parents[4])\n",
    "data_path = f'{parent_path}/Estudios/Universidad/Máster/PRDL+MLLB/used_dataset/val'\n",
    "genres = [x for x in os.listdir(data_path) if os.path.isdir(os.path.join(data_path, x))]\n",
    "\n",
    "# Save path\n",
    "savePath = f'dataset/audio_vectors/val'"
   ],
   "metadata": {
    "collapsed": false,
    "ExecuteTime": {
     "end_time": "2024-01-05T14:58:30.302207Z",
     "start_time": "2024-01-05T14:58:30.293574Z"
    }
   },
   "id": "770627b02b251488",
   "execution_count": 5
  },
  {
   "cell_type": "code",
   "outputs": [
    {
     "name": "stdout",
     "output_type": "stream",
     "text": [
      "Number of files in Alternative folder: 34\n"
     ]
    },
    {
     "ename": "ModuleNotFoundError",
     "evalue": "No module named 'scipy.signal'",
     "output_type": "error",
     "traceback": [
      "\u001B[0;31m---------------------------------------------------------------------------\u001B[0m",
      "\u001B[0;31mModuleNotFoundError\u001B[0m                       Traceback (most recent call last)",
      "Cell \u001B[0;32mIn[7], line 23\u001B[0m\n\u001B[1;32m     19\u001B[0m     \u001B[38;5;28;01mcontinue\u001B[39;00m\n\u001B[1;32m     21\u001B[0m \u001B[38;5;28;01melse\u001B[39;00m:\n\u001B[1;32m     22\u001B[0m     \u001B[38;5;66;03m# Audio load\u001B[39;00m\n\u001B[0;32m---> 23\u001B[0m     audio, sr \u001B[38;5;241m=\u001B[39m \u001B[43mlibrosa\u001B[49m\u001B[38;5;241;43m.\u001B[39;49m\u001B[43mload\u001B[49m(\u001B[38;5;124mf\u001B[39m\u001B[38;5;124m'\u001B[39m\u001B[38;5;132;01m{\u001B[39;00mmusic\u001B[38;5;132;01m}\u001B[39;00m\u001B[38;5;124m/\u001B[39m\u001B[38;5;132;01m{\u001B[39;00msong\u001B[38;5;132;01m}\u001B[39;00m\u001B[38;5;124m'\u001B[39m)\n\u001B[1;32m     24\u001B[0m     \u001B[38;5;66;03m# Audio vector\u001B[39;00m\n\u001B[1;32m     25\u001B[0m     first_30s \u001B[38;5;241m=\u001B[39m audio[:\u001B[38;5;28mmin\u001B[39m(\u001B[38;5;28mint\u001B[39m(sr \u001B[38;5;241m*\u001B[39m \u001B[38;5;241m30\u001B[39m), \u001B[38;5;28mlen\u001B[39m(audio))]\n",
      "File \u001B[0;32m~/opt/anaconda3/envs/DLMT/lib/python3.8/site-packages/lazy_loader/__init__.py:78\u001B[0m, in \u001B[0;36mattach.<locals>.__getattr__\u001B[0;34m(name)\u001B[0m\n\u001B[1;32m     76\u001B[0m submod_path \u001B[38;5;241m=\u001B[39m \u001B[38;5;124mf\u001B[39m\u001B[38;5;124m\"\u001B[39m\u001B[38;5;132;01m{\u001B[39;00mpackage_name\u001B[38;5;132;01m}\u001B[39;00m\u001B[38;5;124m.\u001B[39m\u001B[38;5;132;01m{\u001B[39;00mattr_to_modules[name]\u001B[38;5;132;01m}\u001B[39;00m\u001B[38;5;124m\"\u001B[39m\n\u001B[1;32m     77\u001B[0m submod \u001B[38;5;241m=\u001B[39m importlib\u001B[38;5;241m.\u001B[39mimport_module(submod_path)\n\u001B[0;32m---> 78\u001B[0m attr \u001B[38;5;241m=\u001B[39m \u001B[38;5;28;43mgetattr\u001B[39;49m\u001B[43m(\u001B[49m\u001B[43msubmod\u001B[49m\u001B[43m,\u001B[49m\u001B[43m \u001B[49m\u001B[43mname\u001B[49m\u001B[43m)\u001B[49m\n\u001B[1;32m     80\u001B[0m \u001B[38;5;66;03m# If the attribute lives in a file (module) with the same\u001B[39;00m\n\u001B[1;32m     81\u001B[0m \u001B[38;5;66;03m# name as the attribute, ensure that the attribute and *not*\u001B[39;00m\n\u001B[1;32m     82\u001B[0m \u001B[38;5;66;03m# the module is accessible on the package.\u001B[39;00m\n\u001B[1;32m     83\u001B[0m \u001B[38;5;28;01mif\u001B[39;00m name \u001B[38;5;241m==\u001B[39m attr_to_modules[name]:\n",
      "File \u001B[0;32m~/opt/anaconda3/envs/DLMT/lib/python3.8/site-packages/lazy_loader/__init__.py:77\u001B[0m, in \u001B[0;36mattach.<locals>.__getattr__\u001B[0;34m(name)\u001B[0m\n\u001B[1;32m     75\u001B[0m \u001B[38;5;28;01melif\u001B[39;00m name \u001B[38;5;129;01min\u001B[39;00m attr_to_modules:\n\u001B[1;32m     76\u001B[0m     submod_path \u001B[38;5;241m=\u001B[39m \u001B[38;5;124mf\u001B[39m\u001B[38;5;124m\"\u001B[39m\u001B[38;5;132;01m{\u001B[39;00mpackage_name\u001B[38;5;132;01m}\u001B[39;00m\u001B[38;5;124m.\u001B[39m\u001B[38;5;132;01m{\u001B[39;00mattr_to_modules[name]\u001B[38;5;132;01m}\u001B[39;00m\u001B[38;5;124m\"\u001B[39m\n\u001B[0;32m---> 77\u001B[0m     submod \u001B[38;5;241m=\u001B[39m \u001B[43mimportlib\u001B[49m\u001B[38;5;241;43m.\u001B[39;49m\u001B[43mimport_module\u001B[49m\u001B[43m(\u001B[49m\u001B[43msubmod_path\u001B[49m\u001B[43m)\u001B[49m\n\u001B[1;32m     78\u001B[0m     attr \u001B[38;5;241m=\u001B[39m \u001B[38;5;28mgetattr\u001B[39m(submod, name)\n\u001B[1;32m     80\u001B[0m     \u001B[38;5;66;03m# If the attribute lives in a file (module) with the same\u001B[39;00m\n\u001B[1;32m     81\u001B[0m     \u001B[38;5;66;03m# name as the attribute, ensure that the attribute and *not*\u001B[39;00m\n\u001B[1;32m     82\u001B[0m     \u001B[38;5;66;03m# the module is accessible on the package.\u001B[39;00m\n",
      "File \u001B[0;32m~/opt/anaconda3/envs/DLMT/lib/python3.8/importlib/__init__.py:127\u001B[0m, in \u001B[0;36mimport_module\u001B[0;34m(name, package)\u001B[0m\n\u001B[1;32m    125\u001B[0m             \u001B[38;5;28;01mbreak\u001B[39;00m\n\u001B[1;32m    126\u001B[0m         level \u001B[38;5;241m+\u001B[39m\u001B[38;5;241m=\u001B[39m \u001B[38;5;241m1\u001B[39m\n\u001B[0;32m--> 127\u001B[0m \u001B[38;5;28;01mreturn\u001B[39;00m \u001B[43m_bootstrap\u001B[49m\u001B[38;5;241;43m.\u001B[39;49m\u001B[43m_gcd_import\u001B[49m\u001B[43m(\u001B[49m\u001B[43mname\u001B[49m\u001B[43m[\u001B[49m\u001B[43mlevel\u001B[49m\u001B[43m:\u001B[49m\u001B[43m]\u001B[49m\u001B[43m,\u001B[49m\u001B[43m \u001B[49m\u001B[43mpackage\u001B[49m\u001B[43m,\u001B[49m\u001B[43m \u001B[49m\u001B[43mlevel\u001B[49m\u001B[43m)\u001B[49m\n",
      "File \u001B[0;32m<frozen importlib._bootstrap>:1014\u001B[0m, in \u001B[0;36m_gcd_import\u001B[0;34m(name, package, level)\u001B[0m\n",
      "File \u001B[0;32m<frozen importlib._bootstrap>:991\u001B[0m, in \u001B[0;36m_find_and_load\u001B[0;34m(name, import_)\u001B[0m\n",
      "File \u001B[0;32m<frozen importlib._bootstrap>:975\u001B[0m, in \u001B[0;36m_find_and_load_unlocked\u001B[0;34m(name, import_)\u001B[0m\n",
      "File \u001B[0;32m<frozen importlib._bootstrap>:671\u001B[0m, in \u001B[0;36m_load_unlocked\u001B[0;34m(spec)\u001B[0m\n",
      "File \u001B[0;32m<frozen importlib._bootstrap_external>:843\u001B[0m, in \u001B[0;36mexec_module\u001B[0;34m(self, module)\u001B[0m\n",
      "File \u001B[0;32m<frozen importlib._bootstrap>:219\u001B[0m, in \u001B[0;36m_call_with_frames_removed\u001B[0;34m(f, *args, **kwds)\u001B[0m\n",
      "File \u001B[0;32m~/opt/anaconda3/envs/DLMT/lib/python3.8/site-packages/librosa/core/audio.py:13\u001B[0m\n\u001B[1;32m     11\u001B[0m \u001B[38;5;28;01mimport\u001B[39;00m \u001B[38;5;21;01maudioread\u001B[39;00m\n\u001B[1;32m     12\u001B[0m \u001B[38;5;28;01mimport\u001B[39;00m \u001B[38;5;21;01mnumpy\u001B[39;00m \u001B[38;5;28;01mas\u001B[39;00m \u001B[38;5;21;01mnp\u001B[39;00m\n\u001B[0;32m---> 13\u001B[0m \u001B[38;5;28;01mimport\u001B[39;00m \u001B[38;5;21;01mscipy\u001B[39;00m\u001B[38;5;21;01m.\u001B[39;00m\u001B[38;5;21;01msignal\u001B[39;00m\n\u001B[1;32m     14\u001B[0m \u001B[38;5;28;01mimport\u001B[39;00m \u001B[38;5;21;01msoxr\u001B[39;00m\n\u001B[1;32m     15\u001B[0m \u001B[38;5;28;01mimport\u001B[39;00m \u001B[38;5;21;01mlazy_loader\u001B[39;00m \u001B[38;5;28;01mas\u001B[39;00m \u001B[38;5;21;01mlazy\u001B[39;00m\n",
      "\u001B[0;31mModuleNotFoundError\u001B[0m: No module named 'scipy.signal'"
     ]
    }
   ],
   "source": [
    "# Iteration loop to read every song and obtain the spectrogram and chroma\n",
    "for genre in genres:\n",
    "    if genre == '.idea':\n",
    "        continue\n",
    "    if not os.path.exists(f'{savePath}/{genre}'):\n",
    "        os.makedirs(f'{savePath}/{genre}')\n",
    "    # Music path\n",
    "    music = f'{data_path}/{genre}'\n",
    "    songs = os.listdir(music)\n",
    "    print(f'Number of files in {genre} folder: {len(songs)}')\n",
    "    for song in songs:\n",
    "        file, extension = os.path.splitext(song)\n",
    "        if os.path.exists(f'{savePath}/{genre}/{file}.npy'):\n",
    "            continue\n",
    "        if not extension == '.mp3': # Sometimes folders contains file automatically generated by the OS.\n",
    "            print(f'The {genre} folder not only contains songs')\n",
    "            print(f'\\tNot valid file: {file}')\n",
    "            songs.remove(song)\n",
    "            continue\n",
    "\n",
    "        else:\n",
    "            # Audio load\n",
    "            audio, sr = librosa.load(f'{music}/{song}')\n",
    "            # Audio vector\n",
    "            first_30s = audio[:min(int(sr * 30), len(audio))]\n",
    "            reshaped_vector = first_30s.reshape((1, len(first_30s), 1))\n",
    "            # Save vector\n",
    "            np.save(f'{savePath}/{genre}/{file}.npy', reshaped_vector)\n",
    "            "
   ],
   "metadata": {
    "collapsed": false,
    "ExecuteTime": {
     "end_time": "2024-01-05T14:59:35.266258Z",
     "start_time": "2024-01-05T14:59:31.190183Z"
    }
   },
   "id": "87a123b69fc2491a",
   "execution_count": 7
  },
  {
   "cell_type": "code",
   "outputs": [],
   "source": [],
   "metadata": {
    "collapsed": false
   },
   "id": "72074782f4b2465e"
  }
 ],
 "metadata": {
  "kernelspec": {
   "display_name": "Python 3",
   "language": "python",
   "name": "python3"
  },
  "language_info": {
   "codemirror_mode": {
    "name": "ipython",
    "version": 2
   },
   "file_extension": ".py",
   "mimetype": "text/x-python",
   "name": "python",
   "nbconvert_exporter": "python",
   "pygments_lexer": "ipython2",
   "version": "2.7.6"
  }
 },
 "nbformat": 4,
 "nbformat_minor": 5
}
