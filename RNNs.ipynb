{
 "cells": [
  {
   "cell_type": "markdown",
   "id": "bb0d6687ae528b96",
   "metadata": {},
   "source": [
    "# Recurrent Neural Networks\n",
    "The following Recurrent Neural Networks (RNN) will be used for musical genre classification. This is because the task of classify all the new music that is released nowadays it is impossible to be done by a human being."
   ]
  },
  {
   "cell_type": "markdown",
   "id": "eb81561098710186",
   "metadata": {},
   "source": [
    "## Initialization"
   ]
  },
  {
   "cell_type": "markdown",
   "id": "dfb268d9f436970f",
   "metadata": {},
   "source": [
    "### Libraries"
   ]
  },
  {
   "cell_type": "code",
   "execution_count": 2,
   "id": "2fc2d92666dc5b8e",
   "metadata": {
    "collapsed": false,
    "is_executing": true,
    "tags": []
   },
   "outputs": [
    {
     "name": "stderr",
     "output_type": "stream",
     "text": [
      "2024-01-06 11:42:58.241818: I tensorflow/core/platform/cpu_feature_guard.cc:182] This TensorFlow binary is optimized to use available CPU instructions in performance-critical operations.\n",
      "To enable the following instructions: SSE4.1 SSE4.2 AVX AVX2 AVX512F FMA, in other operations, rebuild TensorFlow with the appropriate compiler flags.\n"
     ]
    }
   ],
   "source": [
    "# Import general purpose python libraries\n",
    "import os\n",
    "from pathlib import Path\n",
    "import numpy as np\n",
    "import tensorflow as tf\n",
    "from keras.models import Sequential\n",
    "from keras.layers import Embedding, LSTM, Bidirectional, Dense, Attention\n",
    "from keras.optimizers import SGD, Adam\n",
    "\n",
    "# Import function to plot the results\n",
    "import plots"
   ]
  },
  {
   "cell_type": "markdown",
   "id": "48172dfa13adaa0a",
   "metadata": {},
   "source": [
    "### Data Configuration Parameters\n",
    "Configuration variables related to the data"
   ]
  },
  {
   "cell_type": "code",
   "execution_count": 3,
   "id": "887f631e6b37e9ae",
   "metadata": {
    "collapsed": false,
    "tags": []
   },
   "outputs": [
    {
     "name": "stdout",
     "output_type": "stream",
     "text": [
      "The classess to classify are: ['Alternative', 'Classical', 'Dance', 'Pop', 'Rock', 'Techno']\n"
     ]
    }
   ],
   "source": [
    "# Randomize the initial network weights\n",
    "random_seed = True\n",
    "\n",
    "# Paths to where training, testing, and validation images are\n",
    "database_dir = 'dataset'\n",
    "train_dir = f'{database_dir}/audio_vectors/training'\n",
    "val_dir = f'{database_dir}/audio_vectors/val'\n",
    "test_dir = f'{database_dir}/audio_vectors/test'\n",
    "\n",
    "# Directory where to store weights of the model and results\n",
    "root_dir = \"results\"\n",
    "# Create root directory for results if it does not exist\n",
    "if not os.path.exists(root_dir):\n",
    "    os.makedirs(root_dir)\n",
    "\n",
    "# Input dimension (number of subjects in our problem)\n",
    "num_classes = 6\n",
    "\n",
    "# Name of each gesture of the database\n",
    "CLASSES = [x for x in os.listdir(train_dir) if os.path.isdir(os.path.join(train_dir, x))]\n",
    "print(f'The classess to classify are: {CLASSES}')\n",
    "#CLASSES = ['Alternative', 'Pop', 'Rock', 'Dance', 'Classical', 'Techno']\n",
    "\n",
    "# Parameters that characterize the audios\n",
    "output_dim = 128\n",
    "sequence_length = 330750"
   ]
  },
  {
   "cell_type": "markdown",
   "id": "7afe71daea5ae029",
   "metadata": {},
   "source": [
    "### Configuration Training Parameters"
   ]
  },
  {
   "cell_type": "code",
   "execution_count": 4,
   "id": "8853fec419604f04",
   "metadata": {
    "collapsed": false,
    "tags": []
   },
   "outputs": [],
   "source": [
    "# Parameters that configures the training process\n",
    "batch_size = 1  # Batch size\n",
    "epochs = 5  # Number of epochs\n",
    "initial_lr = 1e-5   # Learning rate\n",
    "seed = 42  # Random number\n",
    "modelRNN = 'LSTM'  # RNN model which will be used\n",
    "version = f'{modelRNN}_BS{batch_size}_E{epochs}_LR{initial_lr}'\n",
    "experiment_dir = f'{root_dir}/{modelRNN}'\n",
    "# Create experiment directory if it does not exist\n",
    "if not os.path.exists(experiment_dir):\n",
    "    os.makedirs(experiment_dir)"
   ]
  },
  {
   "cell_type": "markdown",
   "id": "ed346f5407b79d14",
   "metadata": {},
   "source": [
    "### Loading of training, validation and test datasets\n",
    "1.   Training dataset\n",
    "2.   Validation dataset\n",
    "3.   Test dataset"
   ]
  },
  {
   "cell_type": "code",
   "execution_count": null,
   "id": "5810510c6ba78977",
   "metadata": {
    "collapsed": false,
    "tags": []
   },
   "outputs": [
    {
     "name": "stdout",
     "output_type": "stream",
     "text": [
      "Number of files in Alternative folder: 198\n",
      "Number of files in Classical folder: 198\n",
      "Number of files in Dance folder: 198\n",
      "Number of files in Pop folder: 198\n",
      "Number of files in Rock folder: 197\n",
      "Number of files in Techno folder: 197\n"
     ]
    }
   ],
   "source": [
    "# 1. Generate train dataset (ds) from directory of samples\n",
    "X_train = []\n",
    "y_train = []\n",
    "\n",
    "for genre in CLASSES:\n",
    "    if genre == '.idea':\n",
    "        continue\n",
    "    dataset = f'{train_dir}/{genre}'\n",
    "    vectrs = os.listdir(dataset)\n",
    "    print(f'Number of files in {genre} folder: {len(vectrs)}')\n",
    "    for vectr in vectrs:\n",
    "        file, extension = os.path.splitext(vectr)\n",
    "        # Sometimes folders contains file automatically generated by the OS.\n",
    "        if not extension == '.npy':\n",
    "            print(f'\\tNot valid file: {file}')\n",
    "            vectrs.remove(vectr)\n",
    "            continue\n",
    "\n",
    "        data = np.load(f'{dataset}/{vectr}')\n",
    "        X_train.append(data)\n",
    "        y_train.append(genre)\n",
    "\n",
    "\n",
    "train_ds = tf.data.Dataset.from_tensor_slices((X_train, y_train))\n",
    "train_ds = train_ds.shuffle(buffer_size=len(X_train), seed=seed).batch(batch_size)\n",
    "print(f'Total files in training dataset:{len(X_train)}')"
   ]
  },
  {
   "cell_type": "code",
   "execution_count": null,
   "id": "889392419fe81aca",
   "metadata": {
    "collapsed": false
   },
   "outputs": [],
   "source": [
    "# 2. Generate validation dataset (ds) from directory of samples\n",
    "X_val = []\n",
    "y_val = []\n",
    "\n",
    "for genre in CLASSES:\n",
    "    if genre == '.idea':\n",
    "        continue\n",
    "    dataset = f'{val_dir}/{genre}'\n",
    "    vectrs = os.listdir(dataset)\n",
    "    print(f'Number of files in {genre} folder: {len(vectrs)}')\n",
    "    for vectr in vectrs:\n",
    "        file, extension = os.path.splitext(vectr)\n",
    "        if not extension == '.npy':\n",
    "            print(f'\\tNot valid file: {file}')\n",
    "            vectrs.remove(vectr)\n",
    "            continue\n",
    "\n",
    "        data = np.load(f'{dataset}/{vectr}')\n",
    "        X_val.append(data)\n",
    "        y_val.append(genre)\n",
    "\n",
    "\n",
    "val_ds = tf.data.Dataset.from_tensor_slices((X_val, y_val))\n",
    "val_ds = val_ds.shuffle(buffer_size=len(X_val), seed=seed).batch(batch_size)\n",
    "print(f'Total files in validation dataset:{len(X_val)}')"
   ]
  },
  {
   "cell_type": "code",
   "execution_count": null,
   "id": "9e7a1c84ed79f6cc",
   "metadata": {
    "collapsed": false
   },
   "outputs": [],
   "source": [
    "# 3. Generate test dataset (ds) from directory of samples\n",
    "X_test = []\n",
    "y_test = []\n",
    "\n",
    "for genre in CLASSES:\n",
    "    if genre == '.idea':\n",
    "        continue\n",
    "    dataset = f'{test_dir}/{genre}'\n",
    "    vectrs = os.listdir(dataset)\n",
    "    print(f'Number of files in {genre} folder: {len(vectrs)}')\n",
    "    for vectr in vectrs:\n",
    "        file, extension = os.path.splitext(vectr)\n",
    "        if not extension == '.npy':\n",
    "            print(f'\\tNot valid file: {file}')\n",
    "            vectrs.remove(vectr)\n",
    "            continue\n",
    "\n",
    "        data = np.load(f'{dataset}/{vectr}')\n",
    "        X_test.append(data)\n",
    "        y_test.append(genre)\n",
    "\n",
    "\n",
    "test_ds = tf.data.Dataset.from_tensor_slices((X_test, y_test))\n",
    "test_ds = test_ds.shuffle(buffer_size=len(X_test), seed=seed).batch(batch_size)\n",
    "print(f'Total files in test dataset:{len(X_test)}')"
   ]
  },
  {
   "cell_type": "markdown",
   "id": "c9aa25c303dfd0a",
   "metadata": {},
   "source": [
    "# Training process\n",
    "#### Available Models: LSTM & BiLSTM"
   ]
  },
  {
   "cell_type": "markdown",
   "id": "1603ec4ae8ddf8a8",
   "metadata": {},
   "source": [
    "### Long Short-Term Memory (LSTM)"
   ]
  },
  {
   "cell_type": "code",
   "execution_count": null,
   "id": "57d645b4b6708c8d",
   "metadata": {
    "collapsed": false
   },
   "outputs": [],
   "source": [
    "def lstm(vocab_dim, out_dim, seq_length):\n",
    "    # Sequential Model\n",
    "    model_lstm = Sequential()\n",
    "\n",
    "    # Embedding layer\n",
    "    model_lstm.add(Embedding(input_dim=vocab_dim, output_dim=out_dim, input_length=seq_length))\n",
    "\n",
    "    # LSTM layer\n",
    "    model_lstm.add(LSTM(out_dim, input_shape=(X_train.shape[1], X_train.shape[2]), activation='relu'))\n",
    "\n",
    "    # Attention layer\n",
    "    model_lstm.add(Attention(dropout=0.2, seed=seed, activation='relu'))\n",
    "\n",
    "    # Dense layer\n",
    "    model_lstm.add(Dense(1, activation='relu'))\n",
    "\n",
    "    return model_lstm"
   ]
  },
  {
   "cell_type": "markdown",
   "id": "16fcf4d8a61976d8",
   "metadata": {},
   "source": [
    "### Bidirectional Long Short-Term Memory (BiLSTM)"
   ]
  },
  {
   "cell_type": "code",
   "execution_count": null,
   "id": "b925c88eb5734b67",
   "metadata": {
    "collapsed": false
   },
   "outputs": [],
   "source": [
    "def bi_lstm(vocab_dim, out_dim, seq_length):\n",
    "    # Sequential Model\n",
    "    model_bilstm = Sequential()\n",
    "\n",
    "    # Embedding layer\n",
    "    model_bilstm.add(Embedding(input_dim=vocab_dim, output_dim=out_dim, input_length=seq_length))\n",
    "\n",
    "    # LSTM layer\n",
    "    model_bilstm.add(LSTM(out_dim, input_shape=(X_train.shape[1], X_train.shape[2]), activation='relu'))\n",
    "\n",
    "    # Attention layer\n",
    "    model_bilstm.add(Attention(dropout=0.2, seed=seed, activation='relu'))\n",
    "\n",
    "    # Dense layer\n",
    "    model_bilstm.add(Dense(1, activation='relu'))\n",
    "\n",
    "    return model_bilstm"
   ]
  },
  {
   "cell_type": "markdown",
   "id": "716c09b96942b87b",
   "metadata": {},
   "source": [
    "## Model execution"
   ]
  },
  {
   "cell_type": "code",
   "execution_count": null,
   "id": "527931905fff8484",
   "metadata": {
    "collapsed": false
   },
   "outputs": [],
   "source": [
    "#Model\n",
    "model = ''\n",
    "if modelRNN == 'LSTM':\n",
    "    model = lstm(num_classes, output_dim, sequence_length)\n",
    "elif modelRNN == 'BiLSTM':\n",
    "    model = bi_lstm(num_classes, output_dim, sequence_length)\n",
    "else:\n",
    "    print('Wrong model selection or Model no available\\n')\n",
    "\n",
    "# Print the architecture of the model\n",
    "model.summary()"
   ]
  },
  {
   "cell_type": "markdown",
   "id": "27217df4509fb041",
   "metadata": {},
   "source": [
    "## Set model training process\n",
    "#### Configuration of several training decisions:\n",
    "1. Optimizer using `Adam`\n",
    "2. Model training configuration using `compile` with `categorical_crossentropy` due to the classification labeling"
   ]
  },
  {
   "cell_type": "code",
   "execution_count": null,
   "id": "219f30ba984cdd19",
   "metadata": {
    "collapsed": false
   },
   "outputs": [],
   "source": [
    "# Set random seed\n",
    "if random_seed:\n",
    "    seed = np.random.randint(0,2*31-1)\n",
    "else:\n",
    "    seed = 5\n",
    "np.random.seed(seed)\n",
    "tf.random.set_seed(seed)\n",
    "\n",
    "\n",
    "# 1. Configure optimizer\n",
    "adam = Adam(learning_rate=initial_lr)\n",
    "\n",
    "# 2. Configure training process\n",
    "model.compile(loss='categorical_crossentropy', optimizer=adam, metrics=['categorical_accuracy'])\n"
   ]
  },
  {
   "cell_type": "markdown",
   "id": "efe94cc7505ca778",
   "metadata": {},
   "source": [
    "## Train the model\n",
    "1. Load parameters from previous trainings if they exist.\n",
    "2. Fit the model\n",
    "3. Save the weights"
   ]
  },
  {
   "cell_type": "code",
   "execution_count": null,
   "id": "6cfceea94efd9b8f",
   "metadata": {
    "collapsed": false
   },
   "outputs": [],
   "source": [
    "# Load pretrained model\n",
    "weights_path = f\"weights_{version}.h5\" # Name of the file to store the weights\n",
    "weights_file = Path(weights_path)\n",
    "weights_load_path = f'{experiment_dir}/{weights_path}'\n",
    "if weights_load_path:\n",
    "    try:\n",
    "        model.load_weights(weights_load_path)\n",
    "        print(\"Loaded model from {}\".format(weights_load_path))\n",
    "    except:\n",
    "        print(\"Impossible to find weight path. Returning untrained model\")\n",
    "\n",
    "# Fit the model\n",
    "history = model.fit(train_ds, validation_data=val_ds, epochs=epochs, batch_size=batch_size)\n",
    "\n",
    "# Save weights\n",
    "weights_save_path = os.path.join(experiment_dir, weights_path)\n",
    "model.save_weights(weights_save_path)"
   ]
  },
  {
   "cell_type": "markdown",
   "id": "c7b5a0d9448e1867",
   "metadata": {},
   "source": []
  },
  {
   "cell_type": "markdown",
   "id": "54b7b1d4defb43cd",
   "metadata": {},
   "source": [
    "## Training Results\n",
    "Accuracy and Loss obtained along the training process"
   ]
  },
  {
   "cell_type": "code",
   "execution_count": null,
   "id": "188c2061f0390d85",
   "metadata": {
    "collapsed": false
   },
   "outputs": [],
   "source": [
    "plots.accloss(history, modelRNN, experiment_dir, version)"
   ]
  },
  {
   "cell_type": "markdown",
   "id": "92d061710524b2fc",
   "metadata": {},
   "source": [
    "# Testing\n",
    "### Model Testing\n",
    "1. Compute the loss function and accuracy for the test data\n",
    "2. Confusion Matrix obtained from testing results"
   ]
  },
  {
   "cell_type": "code",
   "execution_count": null,
   "id": "5968047ecafdcc8a",
   "metadata": {
    "collapsed": false
   },
   "outputs": [],
   "source": [
    "# Evaluate model\n",
    "scores = model.evaluate(test_ds, verbose=0)\n",
    "print(\"Accuracy: %.2f%%\" % (scores[1]*100))\n",
    "print(\"Loss: %.2f\" % scores[0])\n",
    "\n",
    "# Obtain results to present the confusion matrix\n",
    "prob_class = model.predict(test_ds, batch_size=batch_size)\n",
    "# Classified labels\n",
    "y_pred = tf.argmax(prob_class, axis=-1)\n",
    "# Ground truth\n",
    "y_true = tf.argmax(tf.concat([label for image, label in test_ds], axis=0), axis=1)\n",
    "# Visualize confusion matrix                                           \n",
    "plots.cm(y_true, y_pred, modelRNN, CLASSES, experiment_dir, version)"
   ]
  }
 ],
 "metadata": {
  "kernelspec": {
   "display_name": "sagemaker-distribution:Python",
   "language": "python",
   "name": "conda-env-sagemaker-distribution-py"
  },
  "language_info": {
   "codemirror_mode": {
    "name": "ipython",
    "version": 3
   },
   "file_extension": ".py",
   "mimetype": "text/x-python",
   "name": "python",
   "nbconvert_exporter": "python",
   "pygments_lexer": "ipython3",
   "version": "3.8.17"
  }
 },
 "nbformat": 4,
 "nbformat_minor": 5
}
