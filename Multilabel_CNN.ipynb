{
 "cells": [
  {
   "cell_type": "markdown",
   "source": [
    "# Multilabel Classificator\n",
    "The results obtained with the CNN models for just one label classification where is not great enough, maybe de cause of those results is that some songs are not only classify as one genre, it could be in various. Due to this  possible reason, this notebook has been created."
   ],
   "metadata": {
    "collapsed": false
   },
   "id": "e73bd11a013832ae"
  },
  {
   "cell_type": "markdown",
   "source": [
    "## Initialisation"
   ],
   "metadata": {
    "collapsed": false
   },
   "id": "e106c43a332989b1"
  },
  {
   "cell_type": "markdown",
   "source": [
    "### Libraries"
   ],
   "metadata": {
    "collapsed": false
   },
   "id": "ea20abb4708328cb"
  },
  {
   "cell_type": "code",
   "outputs": [
    {
     "name": "stderr",
     "output_type": "stream",
     "text": [
      "2024-01-14 20:22:33.932742: I tensorflow/core/platform/cpu_feature_guard.cc:193] This TensorFlow binary is optimized with oneAPI Deep Neural Network Library (oneDNN) to use the following CPU instructions in performance-critical operations:  SSE4.1 SSE4.2 AVX AVX2 FMA\n",
      "To enable them in other operations, rebuild TensorFlow with the appropriate compiler flags.\n"
     ]
    }
   ],
   "source": [
    "from keras.models import Sequential\n",
    "from keras_preprocessing.image import ImageDataGenerator\n",
    "from keras.layers import Dense, Activation, Flatten, Input, Dropout, BatchNormalization\n",
    "from tensorflow.keras.models import Model, Sequential\n",
    "from keras.layers import Conv2D, MaxPooling2D\n",
    "from keras import regularizers, optimizers\n",
    "from keras.optimizers import SGD, Adam\n",
    "import tensorflow as tf\n",
    "from sklearn.preprocessing import MultiLabelBinarizer\n",
    "import pandas as pd\n",
    "import numpy as np\n",
    "import os\n",
    "import ast\n",
    "from pathlib import Path\n",
    "\n",
    "# Import function to plot the results\n",
    "import matplotlib.pyplot as plt\n",
    "from sklearn.metrics import confusion_matrix\n",
    "import seaborn as sns\n",
    "import plots"
   ],
   "metadata": {
    "collapsed": false,
    "ExecuteTime": {
     "end_time": "2024-01-14T19:22:38.359215Z",
     "start_time": "2024-01-14T19:22:33.914370Z"
    }
   },
   "id": "c8592ddbc2dc9c3a",
   "execution_count": 1
  },
  {
   "cell_type": "markdown",
   "source": [
    "### Data Configuration Parameters\n",
    "Configuration variables related to the data"
   ],
   "metadata": {
    "collapsed": false
   },
   "id": "7ec793bda83ea372"
  },
  {
   "cell_type": "code",
   "outputs": [
    {
     "name": "stdout",
     "output_type": "stream",
     "text": [
      "The classess to classify are: ['Alternative', 'Pop', 'Rock', 'Dance', 'Classical', 'Techno']\n"
     ]
    }
   ],
   "source": [
    "# Randomize the initial network weights\n",
    "random_seed = True\n",
    "\n",
    "# Paths to where training, testing, and validation images are\n",
    "database_dir = 'dataset_multilabel'\n",
    "train_dir = f'{database_dir}/training/spectrogram'\n",
    "val_dir = f'{database_dir}/val/spectrogram'\n",
    "test_dir = f'{database_dir}/test/spectrogram'\n",
    "\n",
    "# Directory where to store weights of the model and results\n",
    "root_dir = \"results\"\n",
    "# Create root directory for results if it does not exist\n",
    "if not os.path.exists(root_dir):\n",
    "    os.makedirs(root_dir)\n",
    "\n",
    "# Input dimension (number of subjects in our problem)\n",
    "num_classes = 6\n",
    "\n",
    "# Name of each gesture of the database\n",
    "# CLASSES = [x for x in os.listdir(train_dir) if os.path.isdir(os.path.join(train_dir, x))]\n",
    "CLASSES = ['Alternative', 'Pop', 'Rock', 'Dance', 'Classical', 'Techno']\n",
    "print(f'The classess to classify are: {CLASSES}')\n",
    "\n",
    "# Parameters that characterise the spectrogram\n",
    "img_height = 369\n",
    "img_width = 496\n",
    "img_channels = 3\n",
    "color_mode = 'rgb'"
   ],
   "metadata": {
    "collapsed": false,
    "ExecuteTime": {
     "end_time": "2024-01-14T19:22:38.370178Z",
     "start_time": "2024-01-14T19:22:38.363910Z"
    }
   },
   "id": "8f9bb415c9d39bcf",
   "execution_count": 2
  },
  {
   "cell_type": "markdown",
   "source": [
    "### Configuration Training Parameters"
   ],
   "metadata": {
    "collapsed": false
   },
   "id": "49407cb251cddb41"
  },
  {
   "cell_type": "code",
   "outputs": [],
   "source": [
    "# Parameters that configures the training process\n",
    "batch_size = 32  # Batch size\n",
    "epochs = 5  # Number of epochs\n",
    "initial_lr = 1e-2   # Learning rate\n",
    "seed = 42  # Random number\n",
    "modelCNN = 'LSTM'  # RNN model which will be used\n",
    "version = f'BS{batch_size}_E{epochs}_LR{initial_lr}'\n",
    "experiment_dir = f'{root_dir}/{modelCNN}'\n",
    "\n",
    "# Create experiment directory if it does not exist\n",
    "if not os.path.exists(experiment_dir):\n",
    "    os.makedirs(experiment_dir)\n",
    "\n",
    "# Set random seed\n",
    "if random_seed:\n",
    "    seed = np.random.randint(0,2*31-1)\n",
    "else:\n",
    "    seed = 5\n",
    "np.random.seed(seed)\n",
    "tf.random.set_seed(seed)"
   ],
   "metadata": {
    "collapsed": false,
    "ExecuteTime": {
     "end_time": "2024-01-14T19:22:38.381713Z",
     "start_time": "2024-01-14T19:22:38.376399Z"
    }
   },
   "id": "8483d03018e0dce5",
   "execution_count": 3
  },
  {
   "cell_type": "markdown",
   "source": [
    "### Loading of training, validation and test datasets of images\n",
    "1. Dataframes with multiabel info\n",
    "2. Training dataset\n",
    "3. Validation dataset\n",
    "4. Test dataset"
   ],
   "metadata": {
    "collapsed": false
   },
   "id": "161fcb133285ae7d"
  },
  {
   "cell_type": "code",
   "outputs": [],
   "source": [
    "# mlb = MultiLabelBinarizer()\n",
    "\n",
    "# Training labels\n",
    "train_df = pd.read_csv(f'{database_dir}/training_multilabel.csv', delimiter='\\t')\n",
    "train_df['Genres']= train_df['Genres'].apply(lambda x:x.split(\", \"))\n",
    "# train_df['Genres'] = mlb.fit_transform(train_df['Genres'])\n",
    "train_df['TRACK_ID'] = train_df['TRACK_ID'].astype(str)\n",
    "\n",
    "# Validation labels\n",
    "val_df = pd.read_csv(f'{database_dir}/validation_multilabel.csv', delimiter='\\t')\n",
    "val_df['Genres']= val_df['Genres'].apply(lambda x:x.split(\", \"))\n",
    "val_df['TRACK_ID'] = val_df['TRACK_ID'].astype(str)\n",
    "\n",
    "# Test labels\n",
    "test_df = pd.read_csv(f'{database_dir}/test_multilabel.csv', delimiter='\\t')\n",
    "test_df['Genres'] = test_df['Genres'].apply(lambda x:x.split(\", \"))\n",
    "test_df['TRACK_ID'] = test_df['TRACK_ID'].astype(str)"
   ],
   "metadata": {
    "collapsed": false,
    "ExecuteTime": {
     "end_time": "2024-01-14T19:22:38.408714Z",
     "start_time": "2024-01-14T19:22:38.384091Z"
    }
   },
   "id": "a4caf404f0147fa2",
   "execution_count": 4
  },
  {
   "cell_type": "code",
   "outputs": [
    {
     "name": "stdout",
     "output_type": "stream",
     "text": [
      "Found 1186 validated image filenames belonging to 6 classes.\n",
      "Found 204 validated image filenames belonging to 6 classes.\n",
      "Found 204 validated image filenames.\n"
     ]
    },
    {
     "name": "stderr",
     "output_type": "stream",
     "text": [
      "/Users/agv/opt/anaconda3/envs/DLMT/lib/python3.8/site-packages/keras_preprocessing/image/dataframe_iterator.py:279: UserWarning: Found 14 invalid image filename(s) in x_col=\"TRACK_ID\". These filename(s) will be ignored.\n",
      "  warnings.warn(\n"
     ]
    }
   ],
   "source": [
    "train_generator=ImageDataGenerator().flow_from_dataframe(\n",
    "    dataframe=train_df,\n",
    "    directory=train_dir,\n",
    "    x_col='TRACK_ID',\n",
    "    y_col='Genres',\n",
    "    batch_size=batch_size,\n",
    "    seed=seed,\n",
    "    shuffle=True,\n",
    "    class_mode='categorical',\n",
    "    classes=CLASSES,\n",
    "    target_size=(100,100))\n",
    "\n",
    "val_generator=ImageDataGenerator().flow_from_dataframe(\n",
    "    dataframe=val_df,\n",
    "    directory=val_dir,\n",
    "    x_col='TRACK_ID',\n",
    "    y_col='Genres',\n",
    "    batch_size=batch_size,\n",
    "    seed=seed,\n",
    "    shuffle=True,\n",
    "    class_mode='categorical',\n",
    "    classes=CLASSES,\n",
    "    target_size=(100,100))\n",
    "\n",
    "test_generator=ImageDataGenerator().flow_from_dataframe(\n",
    "    dataframe=test_df,\n",
    "    directory=test_dir,\n",
    "    x_col='TRACK_ID',\n",
    "    y_col='Genres',\n",
    "    batch_size=batch_size,\n",
    "    seed=seed,\n",
    "    shuffle=False,\n",
    "    class_mode=None,\n",
    "    target_size=(100,100))\n",
    "\n",
    "\n",
    "# x_generator = ImageDataGenerator().flow_from_dataframe(\n",
    "#     dataframe=train_df.tail(10),  # Seleccionar las últimas 10 filas del DataFrame\n",
    "#     directory=train_dir,\n",
    "#     x_col='TRACK_ID',\n",
    "#     y_col='Genres',\n",
    "#     batch_size=batch_size,\n",
    "#     seed=seed,\n",
    "#     shuffle=True,\n",
    "#     class_mode='categorical',\n",
    "#     classes=CLASSES\n",
    "# )\n",
    "# \n",
    "# # Obtener una muestra de lotes del generador de entrenamiento\n",
    "# sample_batch = next(x_generator)\n",
    "# \n",
    "# # Imprimir información sobre las columnas X e y del lote de muestra\n",
    "# print(\"\\nLote de muestra:\")\n",
    "# print(\"Columna X (features):\")\n",
    "# print(sample_batch[0])  # Este será el lote de imágenes (X)\n",
    "# print(\"\\nColumna y (etiquetas):\")\n",
    "# print(sample_batch[1])  # Este será el lote de etiquetas (y)"
   ],
   "metadata": {
    "collapsed": false,
    "ExecuteTime": {
     "end_time": "2024-01-14T19:22:38.466613Z",
     "start_time": "2024-01-14T19:22:38.406694Z"
    }
   },
   "id": "8196373f5a50c16f",
   "execution_count": 5
  },
  {
   "cell_type": "markdown",
   "source": [],
   "metadata": {
    "collapsed": false
   },
   "id": "ad32749ec10de66"
  },
  {
   "cell_type": "code",
   "outputs": [],
   "source": [
    "def generator_wrapper(generator):\n",
    "    for batch_x,batch_y in generator:\n",
    "        yield (batch_x,[batch_y[:,i] for i in range(6)])"
   ],
   "metadata": {
    "collapsed": false,
    "ExecuteTime": {
     "end_time": "2024-01-14T19:22:38.467471Z",
     "start_time": "2024-01-14T19:22:38.461502Z"
    }
   },
   "id": "cb1ee663a243b1a",
   "execution_count": 6
  },
  {
   "cell_type": "markdown",
   "source": [
    "## Training process\n",
    "#### Available Models: CNN"
   ],
   "metadata": {
    "collapsed": false
   },
   "id": "e614a7ec9a101a86"
  },
  {
   "cell_type": "markdown",
   "source": [
    "### VGG-16"
   ],
   "metadata": {
    "collapsed": false
   },
   "id": "f8b39d5fe748b5dc"
  },
  {
   "cell_type": "code",
   "outputs": [],
   "source": [
    "def build_model():\n",
    "    model = Sequential()\n",
    "    model.add(Conv2D(256, (3, 3), padding='same', input_shape=(100,100,img_channels)))\n",
    "    model.add(Activation('relu'))\n",
    "    model.add(Conv2D(256, (3, 3)))\n",
    "    model.add(Activation('relu'))\n",
    "    model.add(MaxPooling2D(pool_size=(2, 2)))\n",
    "    model.add(Dropout(0.25))\n",
    "    model.add(Conv2D(512, (3, 3), padding='same'))\n",
    "    model.add(Activation('relu'))\n",
    "    model.add(Conv2D(512, (3, 3)))\n",
    "    model.add(Activation('relu'))\n",
    "    model.add(MaxPooling2D(pool_size=(2, 2)))\n",
    "    model.add(Dropout(0.25))\n",
    "    model.add(Flatten())\n",
    "    model.add(Dense(512))\n",
    "    model.add(Activation('relu'))\n",
    "    model.add(Dropout(0.5))\n",
    "    model.add(Dense(6, activation='sigmoid'))\n",
    "    return model"
   ],
   "metadata": {
    "collapsed": false,
    "ExecuteTime": {
     "end_time": "2024-01-14T19:22:38.479693Z",
     "start_time": "2024-01-14T19:22:38.464642Z"
    }
   },
   "id": "4b08010f9346c2ae",
   "execution_count": 7
  },
  {
   "cell_type": "markdown",
   "source": [
    "## Model execution"
   ],
   "metadata": {
    "collapsed": false
   },
   "id": "dba733e460437fa"
  },
  {
   "cell_type": "code",
   "outputs": [
    {
     "name": "stderr",
     "output_type": "stream",
     "text": [
      "2024-01-14 20:22:38.476095: I tensorflow/core/platform/cpu_feature_guard.cc:193] This TensorFlow binary is optimized with oneAPI Deep Neural Network Library (oneDNN) to use the following CPU instructions in performance-critical operations:  SSE4.1 SSE4.2 AVX AVX2 FMA\n",
      "To enable them in other operations, rebuild TensorFlow with the appropriate compiler flags.\n"
     ]
    },
    {
     "name": "stdout",
     "output_type": "stream",
     "text": [
      "Model: \"sequential\"\n",
      "_________________________________________________________________\n",
      " Layer (type)                Output Shape              Param #   \n",
      "=================================================================\n",
      " conv2d (Conv2D)             (None, 100, 100, 256)     7168      \n",
      "                                                                 \n",
      " activation (Activation)     (None, 100, 100, 256)     0         \n",
      "                                                                 \n",
      " conv2d_1 (Conv2D)           (None, 98, 98, 256)       590080    \n",
      "                                                                 \n",
      " activation_1 (Activation)   (None, 98, 98, 256)       0         \n",
      "                                                                 \n",
      " max_pooling2d (MaxPooling2D  (None, 49, 49, 256)      0         \n",
      " )                                                               \n",
      "                                                                 \n",
      " dropout (Dropout)           (None, 49, 49, 256)       0         \n",
      "                                                                 \n",
      " conv2d_2 (Conv2D)           (None, 49, 49, 512)       1180160   \n",
      "                                                                 \n",
      " activation_2 (Activation)   (None, 49, 49, 512)       0         \n",
      "                                                                 \n",
      " conv2d_3 (Conv2D)           (None, 47, 47, 512)       2359808   \n",
      "                                                                 \n",
      " activation_3 (Activation)   (None, 47, 47, 512)       0         \n",
      "                                                                 \n",
      " max_pooling2d_1 (MaxPooling  (None, 23, 23, 512)      0         \n",
      " 2D)                                                             \n",
      "                                                                 \n",
      " dropout_1 (Dropout)         (None, 23, 23, 512)       0         \n",
      "                                                                 \n",
      " flatten (Flatten)           (None, 270848)            0         \n",
      "                                                                 \n",
      " dense (Dense)               (None, 512)               138674688 \n",
      "                                                                 \n",
      " activation_4 (Activation)   (None, 512)               0         \n",
      "                                                                 \n",
      " dropout_2 (Dropout)         (None, 512)               0         \n",
      "                                                                 \n",
      " dense_1 (Dense)             (None, 6)                 3078      \n",
      "                                                                 \n",
      "=================================================================\n",
      "Total params: 142,814,982\n",
      "Trainable params: 142,814,982\n",
      "Non-trainable params: 0\n",
      "_________________________________________________________________\n"
     ]
    }
   ],
   "source": [
    "#Model\n",
    "model = build_model()\n",
    "# Print the architecture of the model\n",
    "model.summary()"
   ],
   "metadata": {
    "collapsed": false,
    "ExecuteTime": {
     "end_time": "2024-01-14T19:22:39.172701Z",
     "start_time": "2024-01-14T19:22:38.477059Z"
    }
   },
   "id": "de3b61de620171a5",
   "execution_count": 8
  },
  {
   "cell_type": "markdown",
   "source": [
    "## Set model training process\n",
    "#### Configuration of several training decisions:\n",
    "1. Optimizer using `Adam`\n",
    "2. Model training configuration using `compile` with `binary_crossentropy` due to the classification labeling"
   ],
   "metadata": {
    "collapsed": false
   },
   "id": "d89e0fc3e5404a02"
  },
  {
   "cell_type": "code",
   "outputs": [],
   "source": [
    "# 1. Configure optimizer\n",
    "adam = Adam(learning_rate=initial_lr)\n",
    "\n",
    "# 2. Configure training process\n",
    "model.compile(loss = ['binary_crossentropy'],optimizer=adam, metrics=['accuracy'])"
   ],
   "metadata": {
    "collapsed": false,
    "ExecuteTime": {
     "end_time": "2024-01-14T19:22:39.207668Z",
     "start_time": "2024-01-14T19:22:39.181339Z"
    }
   },
   "id": "9e6fb2219bc7eaa1",
   "execution_count": 9
  },
  {
   "cell_type": "markdown",
   "source": [
    "## Train the model\n",
    "1. Load parameters from previous trainings if they exist.\n",
    "2. Fit the model\n",
    "3. Save the weights"
   ],
   "metadata": {
    "collapsed": false
   },
   "id": "8c71c58da9c59f92"
  },
  {
   "cell_type": "code",
   "outputs": [
    {
     "name": "stdout",
     "output_type": "stream",
     "text": [
      "Impossible to find weight path. Returning untrained model\n",
      "Epoch 1/5\n",
      " 6/38 [===>..........................] - ETA: 4:43 - loss: 365145.6250 - accuracy: 0.1458"
     ]
    }
   ],
   "source": [
    "# Load pretrained model\n",
    "weights_path = f\"weights_{version}.h5\" # Name of the file to store the weights\n",
    "weights_file = Path(weights_path)\n",
    "weights_load_path = f'{experiment_dir}/{weights_path}'\n",
    "if weights_load_path:\n",
    "    try:\n",
    "        model.load_weights(weights_load_path)\n",
    "        print(\"Loaded model from {}\".format(weights_load_path))\n",
    "    except:\n",
    "        print(\"Impossible to find weight path. Returning untrained model\")\n",
    "\n",
    "# Fit the model\n",
    "history = model.fit(train_generator, validation_data=val_generator, epochs=epochs, batch_size=batch_size)\n",
    "\n",
    "# Save weights\n",
    "weights_save_path = os.path.join(experiment_dir, weights_path)\n",
    "model.save_weights(weights_save_path)"
   ],
   "metadata": {
    "collapsed": false,
    "is_executing": true,
    "ExecuteTime": {
     "start_time": "2024-01-14T19:22:39.186523Z"
    }
   },
   "id": "781c6af472fffde5",
   "execution_count": null
  },
  {
   "cell_type": "markdown",
   "source": [
    "## Training Results\n",
    "Accuracy and Loss obtained along the training process"
   ],
   "metadata": {
    "collapsed": false
   },
   "id": "e048a004c99c75bc"
  },
  {
   "cell_type": "code",
   "outputs": [],
   "source": [
    "# plots.accloss(history, modelCNN, experiment_dir, version)\n",
    "plt.figure()\n",
    "plt.plot(history.history['dense_23_accuracy'])\n",
    "plt.plot(history.history['val_dense_23_accuracy'])\n",
    "plt.title(f'CNN Accuracy')\n",
    "plt.ylabel('Accuracy')\n",
    "plt.xlabel('Epoch')\n",
    "plt.legend(['Training', 'Validation'], loc='upper left')\n",
    "\n",
    "# Save the figure\n",
    "fig_save_path = f'{experiment_dir}/accuracy_{version}.png'\n",
    "plt.savefig(fig_save_path)\n",
    "\n",
    "# Show figure\n",
    "plt.show()\n",
    "\n",
    "# 2. Plot loss\n",
    "plt.figure()\n",
    "plt.plot(history.history['loss'])\n",
    "plt.plot(history.history['val_loss'])\n",
    "plt.title(f'CNN Loss')\n",
    "plt.ylabel('Loss')\n",
    "plt.xlabel('Epoch')\n",
    "plt.legend(['Training', 'Validation'], loc='upper left')\n",
    "fig_save_path = f'{experiment_dir}/loss_{version}.png'\n",
    "plt.savefig(fig_save_path)\n",
    "plt.show()"
   ],
   "metadata": {
    "collapsed": false,
    "is_executing": true
   },
   "id": "130da649b8274036",
   "execution_count": null
  },
  {
   "cell_type": "markdown",
   "source": [
    "## Testing\n",
    "### Model Testing\n",
    "1. Compute the loss function and accuracy for the test data\n",
    "2. Confusion Matrix obtained from testing results"
   ],
   "metadata": {
    "collapsed": false
   },
   "id": "a0915e72fb478ff6"
  },
  {
   "cell_type": "code",
   "outputs": [],
   "source": [
    "test_generator.reset()\n",
    "pred=model.predict(test_generator, verbose=1)"
   ],
   "metadata": {
    "collapsed": false,
    "is_executing": true
   },
   "id": "33be2e379bc858d2",
   "execution_count": null
  },
  {
   "cell_type": "code",
   "outputs": [],
   "source": [
    "pred_bool = (pred >0.5)\n",
    "predictions = pred_bool.astype(int)\n",
    "columns=CLASSES\n",
    "#columns should be the same order of y_col\n",
    "results=pd.DataFrame(predictions, columns=columns)\n",
    "results[\"Filenames\"]=test_generator.filenames\n",
    "ordered_cols=[\"Filenames\"]+columns\n",
    "results=results[ordered_cols]#To get the same column order\n",
    "results.to_csv(f\"{experiment_dir}/results_{version}.csv\",index=False)"
   ],
   "metadata": {
    "collapsed": false,
    "is_executing": true
   },
   "id": "68ffa5c96697f989",
   "execution_count": null
  },
  {
   "cell_type": "code",
   "outputs": [],
   "source": [
    "# Evaluate model\n",
    "scores = model.evaluate(test_generator, verbose=0)\n",
    "print(\"Accuracy: %.2f%%\" % (scores[1]*100))\n",
    "print(\"Loss: %.2f\" % scores[0])\n",
    "\n",
    "# Obtain results to present the confusion matrix\n",
    "prob_class = model.predict(test_generator, batch_size=batch_size)\n",
    "# Classified labels\n",
    "y_pred = tf.argmax(prob_class, axis=-1)\n",
    "# Ground truth\n",
    "y_true = tf.argmax(tf.concat([label for image, label in test_generator], axis=0), axis=1)\n",
    "# Visualize confusion matrix                                           \n",
    "plots.cm(y_true, y_pred, modelCNN, CLASSES, experiment_dir, version)"
   ],
   "metadata": {
    "collapsed": false,
    "is_executing": true
   },
   "id": "582e5e9cb61f5469",
   "execution_count": null
  },
  {
   "cell_type": "code",
   "outputs": [],
   "source": [],
   "metadata": {
    "collapsed": false,
    "is_executing": true
   },
   "id": "e5ba9ffe7ac59765"
  }
 ],
 "metadata": {
  "kernelspec": {
   "display_name": "Python 3",
   "language": "python",
   "name": "python3"
  },
  "language_info": {
   "codemirror_mode": {
    "name": "ipython",
    "version": 2
   },
   "file_extension": ".py",
   "mimetype": "text/x-python",
   "name": "python",
   "nbconvert_exporter": "python",
   "pygments_lexer": "ipython2",
   "version": "2.7.6"
  }
 },
 "nbformat": 4,
 "nbformat_minor": 5
}
