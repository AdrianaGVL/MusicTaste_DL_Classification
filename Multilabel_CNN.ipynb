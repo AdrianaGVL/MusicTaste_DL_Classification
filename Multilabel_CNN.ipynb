{
 "cells": [
  {
   "cell_type": "markdown",
   "source": [
    "# Multilabel Classificator\n",
    "The results obtained with the CNN models for just one label classification where is not great enough, maybe de cause of those results is that some songs are not only classify as one genre, it could be in various. Due to this  possible reason, this notebook has been created."
   ],
   "metadata": {
    "collapsed": false
   },
   "id": "e73bd11a013832ae"
  },
  {
   "cell_type": "markdown",
   "source": [
    "## Initialisation"
   ],
   "metadata": {
    "collapsed": false
   },
   "id": "e106c43a332989b1"
  },
  {
   "cell_type": "markdown",
   "source": [
    "### Libraries"
   ],
   "metadata": {
    "collapsed": false
   },
   "id": "ea20abb4708328cb"
  },
  {
   "cell_type": "code",
   "outputs": [],
   "source": [
    "from keras.models import Sequential\n",
    "from keras_preprocessing.image import ImageDataGenerator\n",
    "from keras.layers import Dense, Activation, Flatten, Input, Dropout, Add\n",
    "from tensorflow.keras.models import Model, Sequential\n",
    "from keras.layers import Conv2D, MaxPooling2D\n",
    "from keras.constraints import MaxNorm\n",
    "from keras.optimizers import SGD, Adam\n",
    "import tensorflow as tf\n",
    "from sklearn.preprocessing import MultiLabelBinarizer\n",
    "from sklearn.metrics import classification_report\n",
    "import pandas as pd\n",
    "import numpy as np\n",
    "import os\n",
    "import ast\n",
    "from pathlib import Path\n",
    "\n",
    "# Import function to plot the results\n",
    "import plots"
   ],
   "metadata": {
    "collapsed": false,
    "ExecuteTime": {
     "end_time": "2024-01-14T22:48:57.555381Z",
     "start_time": "2024-01-14T22:48:57.513130Z"
    }
   },
   "id": "c8592ddbc2dc9c3a",
   "execution_count": 9
  },
  {
   "cell_type": "markdown",
   "source": [
    "### Data Configuration Parameters\n",
    "Configuration variables related to the data"
   ],
   "metadata": {
    "collapsed": false
   },
   "id": "7ec793bda83ea372"
  },
  {
   "cell_type": "code",
   "outputs": [
    {
     "name": "stdout",
     "output_type": "stream",
     "text": [
      "The classess to classify are: ['Alternative', 'Pop', 'Rock', 'Dance', 'Classical', 'Techno']\n"
     ]
    }
   ],
   "source": [
    "# Randomize the initial network weights\n",
    "random_seed = True\n",
    "\n",
    "# Paths to where training, testing, and validation images are\n",
    "database_dir = 'dataset_multilabel'\n",
    "train_dir = f'{database_dir}/training/spectrogram'\n",
    "val_dir = f'{database_dir}/val/spectrogram'\n",
    "test_dir = f'{database_dir}/test/spectrogram'\n",
    "\n",
    "# Directory where to store weights of the model and results\n",
    "root_dir = \"results\"\n",
    "# Create root directory for results if it does not exist\n",
    "if not os.path.exists(root_dir):\n",
    "    os.makedirs(root_dir)\n",
    "\n",
    "# Input dimension (number of subjects in our problem)\n",
    "num_classes = 6\n",
    "\n",
    "# Name of each gesture of the database\n",
    "# CLASSES = [x for x in os.listdir(train_dir) if os.path.isdir(os.path.join(train_dir, x))]\n",
    "CLASSES = ['Alternative', 'Pop', 'Rock', 'Dance', 'Classical', 'Techno']\n",
    "print(f'The classess to classify are: {CLASSES}')\n",
    "\n",
    "# Parameters that characterise the spectrogram\n",
    "img_height = 369\n",
    "img_width = 496\n",
    "img_channels = 3\n",
    "color_mode = 'rgb'"
   ],
   "metadata": {
    "collapsed": false,
    "ExecuteTime": {
     "end_time": "2024-01-14T22:48:57.573451Z",
     "start_time": "2024-01-14T22:48:57.563813Z"
    }
   },
   "id": "8f9bb415c9d39bcf",
   "execution_count": 10
  },
  {
   "cell_type": "markdown",
   "source": [
    "### Configuration Training Parameters"
   ],
   "metadata": {
    "collapsed": false
   },
   "id": "49407cb251cddb41"
  },
  {
   "cell_type": "code",
   "outputs": [],
   "source": [
    "# Parameters that configures the training process\n",
    "batch_size = 1  # Batch size\n",
    "epochs = 5  # Number of epochs\n",
    "initial_lr = 1e-2   # Learning rate\n",
    "seed = 42  # Random number\n",
    "modelCNN = 'LSTM'  # RNN model which will be used\n",
    "version = f'BS{batch_size}_E{epochs}_LR{initial_lr}'\n",
    "experiment_dir = f'{root_dir}/{modelCNN}'\n",
    "\n",
    "# Create experiment directory if it does not exist\n",
    "if not os.path.exists(experiment_dir):\n",
    "    os.makedirs(experiment_dir)\n",
    "\n",
    "# Set random seed\n",
    "if random_seed:\n",
    "    seed = np.random.randint(0,2*31-1)\n",
    "else:\n",
    "    seed = 5\n",
    "np.random.seed(seed)\n",
    "tf.random.set_seed(seed)"
   ],
   "metadata": {
    "collapsed": false,
    "ExecuteTime": {
     "end_time": "2024-01-14T22:48:57.624745Z",
     "start_time": "2024-01-14T22:48:57.581834Z"
    }
   },
   "id": "8483d03018e0dce5",
   "execution_count": 11
  },
  {
   "cell_type": "markdown",
   "source": [
    "### Loading of training, validation and test datasets of images\n",
    "1. Dataframes with multiabel info\n",
    "2. Training dataset\n",
    "3. Validation dataset\n",
    "4. Test dataset"
   ],
   "metadata": {
    "collapsed": false
   },
   "id": "161fcb133285ae7d"
  },
  {
   "cell_type": "code",
   "outputs": [],
   "source": [
    "# mlb = MultiLabelBinarizer()\n",
    "\n",
    "# Training labels\n",
    "train_df = pd.read_csv(f'{database_dir}/training_multilabel.csv', delimiter='\\t')\n",
    "train_df['Genres']= train_df['Genres'].apply(lambda x:x.split(\", \"))\n",
    "# train_df['Genres'] = mlb.fit_transform(train_df['Genres'])\n",
    "train_df['TRACK_ID'] = train_df['TRACK_ID'].astype(str)\n",
    "\n",
    "# Validation labels\n",
    "val_df = pd.read_csv(f'{database_dir}/validation_multilabel.csv', delimiter='\\t')\n",
    "val_df['Genres']= val_df['Genres'].apply(lambda x:x.split(\", \"))\n",
    "val_df['TRACK_ID'] = val_df['TRACK_ID'].astype(str)\n",
    "\n",
    "# Test labels\n",
    "test_df = pd.read_csv(f'{database_dir}/test_multilabel.csv', delimiter='\\t')\n",
    "test_df['Genres'] = test_df['Genres'].apply(lambda x:x.split(\", \"))\n",
    "test_df['TRACK_ID'] = test_df['TRACK_ID'].astype(str)"
   ],
   "metadata": {
    "collapsed": false,
    "ExecuteTime": {
     "end_time": "2024-01-14T22:48:57.628823Z",
     "start_time": "2024-01-14T22:48:57.593531Z"
    }
   },
   "id": "a4caf404f0147fa2",
   "execution_count": 12
  },
  {
   "cell_type": "code",
   "outputs": [
    {
     "name": "stdout",
     "output_type": "stream",
     "text": [
      "Found 1186 validated image filenames belonging to 6 classes.\n",
      "Found 204 validated image filenames belonging to 6 classes.\n",
      "Found 204 validated image filenames.\n"
     ]
    },
    {
     "name": "stderr",
     "output_type": "stream",
     "text": [
      "/Users/agv/opt/anaconda3/envs/DLMT/lib/python3.8/site-packages/keras_preprocessing/image/dataframe_iterator.py:279: UserWarning: Found 14 invalid image filename(s) in x_col=\"TRACK_ID\". These filename(s) will be ignored.\n",
      "  warnings.warn(\n"
     ]
    }
   ],
   "source": [
    "train_generator=ImageDataGenerator().flow_from_dataframe(\n",
    "    dataframe=train_df,\n",
    "    directory=train_dir,\n",
    "    x_col='TRACK_ID',\n",
    "    y_col='Genres',\n",
    "    batch_size=batch_size,\n",
    "    seed=seed,\n",
    "    shuffle=True,\n",
    "    class_mode='categorical',\n",
    "    classes=CLASSES,\n",
    "    target_size=(img_width,img_height))\n",
    "\n",
    "val_generator=ImageDataGenerator().flow_from_dataframe(\n",
    "    dataframe=val_df,\n",
    "    directory=val_dir,\n",
    "    x_col='TRACK_ID',\n",
    "    y_col='Genres',\n",
    "    batch_size=batch_size,\n",
    "    seed=seed,\n",
    "    shuffle=True,\n",
    "    class_mode='categorical',\n",
    "    classes=CLASSES,\n",
    "    target_size=(img_width,img_height))\n",
    "\n",
    "test_generator=ImageDataGenerator().flow_from_dataframe(\n",
    "    dataframe=test_df,\n",
    "    directory=test_dir,\n",
    "    x_col='TRACK_ID',\n",
    "    y_col='Genres',\n",
    "    batch_size=batch_size,\n",
    "    seed=seed,\n",
    "    shuffle=False,\n",
    "    class_mode=None,\n",
    "    target_size=(img_width,img_height))\n",
    "\n",
    "# x_generator = ImageDataGenerator().flow_from_dataframe(\n",
    "#     dataframe=train_df.tail(10),  # Seleccionar las últimas 10 filas del DataFrame\n",
    "#     directory=train_dir,\n",
    "#     x_col='TRACK_ID',\n",
    "#     y_col='Genres',\n",
    "#     batch_size=batch_size,\n",
    "#     seed=seed,\n",
    "#     shuffle=True,\n",
    "#     class_mode='categorical',\n",
    "#     classes=CLASSES\n",
    "# )\n",
    "# \n",
    "# # Obtener una muestra de lotes del generador de entrenamiento\n",
    "# sample_batch = next(x_generator)\n",
    "# \n",
    "# # Imprimir información sobre las columnas X e y del lote de muestra\n",
    "# print(\"\\nLote de muestra:\")\n",
    "# print(\"Columna X (features):\")\n",
    "# print(sample_batch[0])  # Este será el lote de imágenes (X)\n",
    "# print(\"\\nColumna y (etiquetas):\")\n",
    "# print(sample_batch[1])  # Este será el lote de etiquetas (y)"
   ],
   "metadata": {
    "collapsed": false,
    "ExecuteTime": {
     "end_time": "2024-01-14T22:48:57.669517Z",
     "start_time": "2024-01-14T22:48:57.617494Z"
    }
   },
   "id": "8196373f5a50c16f",
   "execution_count": 13
  },
  {
   "cell_type": "markdown",
   "source": [
    "## Training process\n",
    "#### Available Models: CNN"
   ],
   "metadata": {
    "collapsed": false
   },
   "id": "e614a7ec9a101a86"
  },
  {
   "cell_type": "markdown",
   "source": [
    "### Random model"
   ],
   "metadata": {
    "collapsed": false
   },
   "id": "f8b39d5fe748b5dc"
  },
  {
   "cell_type": "code",
   "outputs": [],
   "source": [
    "def build_model(img_width,img_height,img_channels):\n",
    "    model = Sequential()\n",
    "    model.add(Conv2D(32, (3, 3), padding='same', input_shape=(img_width,img_height,img_channels)))\n",
    "    model.add(Activation('relu'))\n",
    "    model.add(Conv2D(32, (3, 3)))\n",
    "    model.add(Activation('relu'))\n",
    "    model.add(MaxPooling2D(pool_size=(2, 2)))\n",
    "    model.add(Dropout(0.25))\n",
    "    model.add(Conv2D(64, (3, 3), padding='same'))\n",
    "    model.add(Activation('relu'))\n",
    "    model.add(Conv2D(64, (3, 3)))\n",
    "    model.add(Activation('relu'))\n",
    "    model.add(MaxPooling2D(pool_size=(2, 2)))\n",
    "    model.add(Dropout(0.25))\n",
    "    model.add(Flatten())\n",
    "    model.add(Dense(512))\n",
    "    model.add(Activation('relu'))\n",
    "    model.add(Dropout(0.5))\n",
    "    model.add(Dense(num_classes, activation='sigmoid'))\n",
    "    return model"
   ],
   "metadata": {
    "collapsed": false,
    "ExecuteTime": {
     "end_time": "2024-01-14T22:48:57.670766Z",
     "start_time": "2024-01-14T22:48:57.657905Z"
    }
   },
   "id": "4b08010f9346c2ae",
   "execution_count": 14
  },
  {
   "cell_type": "markdown",
   "source": [
    "### VGG-16"
   ],
   "metadata": {
    "collapsed": false
   },
   "id": "a0df2e08ab2d0fad"
  },
  {
   "cell_type": "code",
   "outputs": [],
   "source": [
    "def VGG16(img_width,img_height,img_channels):\n",
    "    #  dropout rate for FC layers\n",
    "    dropout=0.5\n",
    "\n",
    "    # CNN architecture\n",
    "    input_image = Input(shape=(img_width,img_height,img_channels))\n",
    "    x1 = Conv2D(64, (3, 3),padding='same', activation='relu')(input_image)\n",
    "    x1 = Conv2D(64, (3, 3),padding='same', activation='relu')(x1)\n",
    "    x1 = MaxPooling2D((2, 2))(x1)\n",
    "    x1 = Conv2D(128, (3, 3),padding='same', activation='relu')(x1)\n",
    "    x1 = Conv2D(128, (3, 3),padding='same', activation='relu')(x1)\n",
    "    x1 = MaxPooling2D((2, 2))(x1)\n",
    "    x1 = Conv2D(256, (3, 3),padding='same', activation='relu')(x1)\n",
    "    x1 = Conv2D(256, (3, 3),padding='same', activation='relu')(x1)\n",
    "    x1 = Conv2D(256, (1, 1),padding='same', activation='relu')(x1)\n",
    "    x1 = MaxPooling2D((2, 2))(x1)\n",
    "    x1 = Conv2D(512, (3, 3),padding='same', activation='relu')(x1)\n",
    "    x1 = Conv2D(512, (3, 3),padding='same', activation='relu')(x1)\n",
    "    x1 = Conv2D(512, (1, 1),padding='same', activation='relu')(x1)\n",
    "    x1 = MaxPooling2D((2, 2))(x1)\n",
    "    x1 = Conv2D(512, (3, 3),padding='same', activation='relu')(x1)\n",
    "    x1 = Conv2D(512, (3, 3),padding='same', activation='relu')(x1)\n",
    "    x1 = Conv2D(512, (1, 1),padding='same', activation='relu')(x1)\n",
    "    x1 = MaxPooling2D((2, 2))(x1)\n",
    "\n",
    "    x1 = Flatten()(x1)\n",
    "\n",
    "    x=Dense(4096, activation='relu', kernel_constraint=MaxNorm(3))(x1)\n",
    "    x=Dropout(dropout)(x)\n",
    "    x=Dense(4096, activation='relu', kernel_constraint=MaxNorm(3))(x)\n",
    "    x=Dropout(dropout)(x)\n",
    "    out= Dense(num_classes, activation='softmax')(x)\n",
    "\n",
    "    model = Model(inputs = input_image, outputs = out)\n",
    "\n",
    "    return model"
   ],
   "metadata": {
    "collapsed": false,
    "ExecuteTime": {
     "end_time": "2024-01-14T22:48:57.687549Z",
     "start_time": "2024-01-14T22:48:57.672815Z"
    }
   },
   "id": "5b82aa636888ee35",
   "execution_count": 15
  },
  {
   "cell_type": "markdown",
   "source": [
    "### ResNet"
   ],
   "metadata": {
    "collapsed": false
   },
   "id": "f2b3030ede5ef47b"
  },
  {
   "cell_type": "code",
   "outputs": [],
   "source": [
    "def RestNet(img_width,img_height,img_channels):\n",
    "    dropout=0.5 # Para evitar que haya overfitting cancela algunas conexiones entre las neuronas aleatoriamente.\n",
    "\n",
    "    # CNN architecture\n",
    "    input_image = Input(shape=(img_width,img_height,img_channels))\n",
    "    x0 = Conv2D(64, (3, 3),padding='same', activation='relu')(input_image)\n",
    "    x1 = Conv2D(64, (3, 3),padding='same', activation='relu')(x0)\n",
    "    x1 = MaxPooling2D((2, 2))(x1)\n",
    "    x2 = Conv2D(128, (3, 3),padding='same', activation='relu')(x1)\n",
    "    x3 = Conv2D(128, (3, 3),padding='same')(x2)\n",
    "    x4 = Add()([x3, x2])\n",
    "    x4 = Activation('relu')(x4)\n",
    "    x4 = MaxPooling2D((2, 2))(x4)\n",
    "    x4 = Conv2D(256, (3, 3),padding='same', activation='relu')(x4)\n",
    "    x5 = Conv2D(256, (3, 3),padding='same', activation='relu')(x4)\n",
    "    x5 = Conv2D(256, (1, 1),padding='same')(x5)\n",
    "    x6 = Add()([x5, x4])\n",
    "    x6 = Activation('relu')(x6)\n",
    "    x6 = MaxPooling2D((2, 2))(x6)\n",
    "    x6 = Conv2D(512, (3, 3),padding='same', activation='relu')(x6)\n",
    "    x7 = Conv2D(512, (3, 3),padding='same', activation='relu')(x6)\n",
    "    x7 = Conv2D(512, (1, 1),padding='same')(x7)\n",
    "    x8 = Add()([x7, x6])\n",
    "    x8 = Activation('relu')(x8)\n",
    "    x8 = MaxPooling2D((2, 2))(x8)\n",
    "    x8 = Conv2D(512, (3, 3),padding='same', activation='relu')(x8)\n",
    "    x9 = Conv2D(512, (3, 3),padding='same', activation='relu')(x8)\n",
    "    x9 = Conv2D(512, (1, 1),padding='same')(x9)\n",
    "    x10 = Add()([x9, x8])\n",
    "    x10 = Activation('relu')(x10)\n",
    "    x10 = MaxPooling2D((2, 2))(x10)\n",
    "    x10 = Flatten()(x10)\n",
    "\n",
    "    x=Dense(4096, activation='relu', kernel_constraint=MaxNorm(3))(x10)\n",
    "    x=Dropout(dropout)(x)\n",
    "    x=Dense(4096, activation='relu', kernel_constraint=MaxNorm(3))(x)\n",
    "    x=Dropout(dropout)(x)\n",
    "    out= Dense(num_classes, activation='softmax')(x)\n",
    "\n",
    "    model = Model(inputs = input_image, outputs = out);\n",
    "\n",
    "    return model"
   ],
   "metadata": {
    "collapsed": false
   },
   "id": "3fe0172ec5c6a526"
  },
  {
   "cell_type": "markdown",
   "source": [
    "## Model execution"
   ],
   "metadata": {
    "collapsed": false
   },
   "id": "dba733e460437fa"
  },
  {
   "cell_type": "code",
   "outputs": [
    {
     "name": "stderr",
     "output_type": "stream",
     "text": [
      "2024-01-14 23:48:57.699603: I tensorflow/core/platform/cpu_feature_guard.cc:193] This TensorFlow binary is optimized with oneAPI Deep Neural Network Library (oneDNN) to use the following CPU instructions in performance-critical operations:  SSE4.1 SSE4.2 AVX AVX2 FMA\n",
      "To enable them in other operations, rebuild TensorFlow with the appropriate compiler flags.\n"
     ]
    },
    {
     "name": "stdout",
     "output_type": "stream",
     "text": [
      "Model: \"model\"\n",
      "_________________________________________________________________\n",
      " Layer (type)                Output Shape              Param #   \n",
      "=================================================================\n",
      " input_1 (InputLayer)        [(None, 496, 369, 3)]     0         \n",
      "                                                                 \n",
      " conv2d (Conv2D)             (None, 496, 369, 64)      1792      \n",
      "                                                                 \n",
      " conv2d_1 (Conv2D)           (None, 496, 369, 64)      36928     \n",
      "                                                                 \n",
      " max_pooling2d (MaxPooling2D  (None, 248, 184, 64)     0         \n",
      " )                                                               \n",
      "                                                                 \n",
      " conv2d_2 (Conv2D)           (None, 248, 184, 128)     73856     \n",
      "                                                                 \n",
      " conv2d_3 (Conv2D)           (None, 248, 184, 128)     147584    \n",
      "                                                                 \n",
      " max_pooling2d_1 (MaxPooling  (None, 124, 92, 128)     0         \n",
      " 2D)                                                             \n",
      "                                                                 \n",
      " conv2d_4 (Conv2D)           (None, 124, 92, 256)      295168    \n",
      "                                                                 \n",
      " conv2d_5 (Conv2D)           (None, 124, 92, 256)      590080    \n",
      "                                                                 \n",
      " conv2d_6 (Conv2D)           (None, 124, 92, 256)      65792     \n",
      "                                                                 \n",
      " max_pooling2d_2 (MaxPooling  (None, 62, 46, 256)      0         \n",
      " 2D)                                                             \n",
      "                                                                 \n",
      " conv2d_7 (Conv2D)           (None, 62, 46, 512)       1180160   \n",
      "                                                                 \n",
      " conv2d_8 (Conv2D)           (None, 62, 46, 512)       2359808   \n",
      "                                                                 \n",
      " conv2d_9 (Conv2D)           (None, 62, 46, 512)       262656    \n",
      "                                                                 \n",
      " max_pooling2d_3 (MaxPooling  (None, 31, 23, 512)      0         \n",
      " 2D)                                                             \n",
      "                                                                 \n",
      " conv2d_10 (Conv2D)          (None, 31, 23, 512)       2359808   \n",
      "                                                                 \n",
      " conv2d_11 (Conv2D)          (None, 31, 23, 512)       2359808   \n",
      "                                                                 \n",
      " conv2d_12 (Conv2D)          (None, 31, 23, 512)       262656    \n",
      "                                                                 \n",
      " max_pooling2d_4 (MaxPooling  (None, 15, 11, 512)      0         \n",
      " 2D)                                                             \n",
      "                                                                 \n",
      " flatten (Flatten)           (None, 84480)             0         \n",
      "                                                                 \n",
      " dense (Dense)               (None, 4096)              346034176 \n",
      "                                                                 \n",
      " dropout (Dropout)           (None, 4096)              0         \n",
      "                                                                 \n",
      " dense_1 (Dense)             (None, 4096)              16781312  \n",
      "                                                                 \n",
      " dropout_1 (Dropout)         (None, 4096)              0         \n",
      "                                                                 \n",
      " dense_2 (Dense)             (None, 6)                 24582     \n",
      "                                                                 \n",
      "=================================================================\n",
      "Total params: 372,836,166\n",
      "Trainable params: 372,836,166\n",
      "Non-trainable params: 0\n",
      "_________________________________________________________________\n"
     ]
    }
   ],
   "source": [
    "#Model\n",
    "model = ''\n",
    "if modelCNN == 'Random_Model':\n",
    "    model = build_model(img_width,img_height,img_channels)\n",
    "elif modelCNN == 'VGG':\n",
    "    model = VGG16(img_width,img_height,img_channels)\n",
    "elif modelCNN == 'ResNet':\n",
    "    model = RestNet(img_width,img_height,img_channels)\n",
    "else:\n",
    "    print('Wrong model selection or Model no available\\n')\n",
    "\n",
    "# Print the architecture of the model\n",
    "model.summary()"
   ],
   "metadata": {
    "collapsed": false,
    "ExecuteTime": {
     "end_time": "2024-01-14T22:49:01.990835Z",
     "start_time": "2024-01-14T22:48:57.682226Z"
    }
   },
   "id": "de3b61de620171a5",
   "execution_count": 16
  },
  {
   "cell_type": "markdown",
   "source": [
    "## Set model training process\n",
    "#### Configuration of several training decisions:\n",
    "1. Optimizer using `Adam`\n",
    "2. Model training configuration using `compile` with `binary_crossentropy` due to the classification labeling"
   ],
   "metadata": {
    "collapsed": false
   },
   "id": "d89e0fc3e5404a02"
  },
  {
   "cell_type": "code",
   "outputs": [],
   "source": [
    "# 1. Configure optimizer\n",
    "adam = Adam(learning_rate=initial_lr)\n",
    "\n",
    "# 2. Configure training process\n",
    "model.compile(loss = ['binary_crossentropy'],optimizer=adam, metrics=['accuracy'])"
   ],
   "metadata": {
    "collapsed": false,
    "ExecuteTime": {
     "end_time": "2024-01-14T22:49:02.030112Z",
     "start_time": "2024-01-14T22:49:02.007464Z"
    }
   },
   "id": "9e6fb2219bc7eaa1",
   "execution_count": 17
  },
  {
   "cell_type": "markdown",
   "source": [
    "## Train the model\n",
    "1. Load parameters from previous trainings if they exist.\n",
    "2. Fit the model\n",
    "3. Save the weights"
   ],
   "metadata": {
    "collapsed": false
   },
   "id": "8c71c58da9c59f92"
  },
  {
   "cell_type": "code",
   "outputs": [
    {
     "name": "stdout",
     "output_type": "stream",
     "text": [
      "Impossible to find weight path. Returning untrained model\n",
      "Epoch 1/5\n",
      "  57/1186 [>.............................] - ETA: 1:18:45 - loss: 7880324096.0000 - accuracy: 0.1754"
     ]
    },
    {
     "ename": "KeyboardInterrupt",
     "evalue": "",
     "output_type": "error",
     "traceback": [
      "\u001B[0;31m---------------------------------------------------------------------------\u001B[0m",
      "\u001B[0;31mKeyboardInterrupt\u001B[0m                         Traceback (most recent call last)",
      "Cell \u001B[0;32mIn[18], line 13\u001B[0m\n\u001B[1;32m     10\u001B[0m         \u001B[38;5;28mprint\u001B[39m(\u001B[38;5;124m\"\u001B[39m\u001B[38;5;124mImpossible to find weight path. Returning untrained model\u001B[39m\u001B[38;5;124m\"\u001B[39m)\n\u001B[1;32m     12\u001B[0m \u001B[38;5;66;03m# Fit the model\u001B[39;00m\n\u001B[0;32m---> 13\u001B[0m history \u001B[38;5;241m=\u001B[39m \u001B[43mmodel\u001B[49m\u001B[38;5;241;43m.\u001B[39;49m\u001B[43mfit\u001B[49m\u001B[43m(\u001B[49m\u001B[43mtrain_generator\u001B[49m\u001B[43m,\u001B[49m\u001B[43m \u001B[49m\u001B[43mvalidation_data\u001B[49m\u001B[38;5;241;43m=\u001B[39;49m\u001B[43mval_generator\u001B[49m\u001B[43m,\u001B[49m\u001B[43m \u001B[49m\u001B[43mepochs\u001B[49m\u001B[38;5;241;43m=\u001B[39;49m\u001B[43mepochs\u001B[49m\u001B[43m,\u001B[49m\u001B[43m \u001B[49m\u001B[43mbatch_size\u001B[49m\u001B[38;5;241;43m=\u001B[39;49m\u001B[43mbatch_size\u001B[49m\u001B[43m)\u001B[49m\n\u001B[1;32m     15\u001B[0m \u001B[38;5;66;03m# Save weights\u001B[39;00m\n\u001B[1;32m     16\u001B[0m weights_save_path \u001B[38;5;241m=\u001B[39m os\u001B[38;5;241m.\u001B[39mpath\u001B[38;5;241m.\u001B[39mjoin(experiment_dir, weights_path)\n",
      "File \u001B[0;32m~/opt/anaconda3/envs/DLMT/lib/python3.8/site-packages/keras/utils/traceback_utils.py:65\u001B[0m, in \u001B[0;36mfilter_traceback.<locals>.error_handler\u001B[0;34m(*args, **kwargs)\u001B[0m\n\u001B[1;32m     63\u001B[0m filtered_tb \u001B[38;5;241m=\u001B[39m \u001B[38;5;28;01mNone\u001B[39;00m\n\u001B[1;32m     64\u001B[0m \u001B[38;5;28;01mtry\u001B[39;00m:\n\u001B[0;32m---> 65\u001B[0m     \u001B[38;5;28;01mreturn\u001B[39;00m \u001B[43mfn\u001B[49m\u001B[43m(\u001B[49m\u001B[38;5;241;43m*\u001B[39;49m\u001B[43margs\u001B[49m\u001B[43m,\u001B[49m\u001B[43m \u001B[49m\u001B[38;5;241;43m*\u001B[39;49m\u001B[38;5;241;43m*\u001B[39;49m\u001B[43mkwargs\u001B[49m\u001B[43m)\u001B[49m\n\u001B[1;32m     66\u001B[0m \u001B[38;5;28;01mexcept\u001B[39;00m \u001B[38;5;167;01mException\u001B[39;00m \u001B[38;5;28;01mas\u001B[39;00m e:\n\u001B[1;32m     67\u001B[0m     filtered_tb \u001B[38;5;241m=\u001B[39m _process_traceback_frames(e\u001B[38;5;241m.\u001B[39m__traceback__)\n",
      "File \u001B[0;32m~/opt/anaconda3/envs/DLMT/lib/python3.8/site-packages/keras/engine/training.py:1564\u001B[0m, in \u001B[0;36mModel.fit\u001B[0;34m(self, x, y, batch_size, epochs, verbose, callbacks, validation_split, validation_data, shuffle, class_weight, sample_weight, initial_epoch, steps_per_epoch, validation_steps, validation_batch_size, validation_freq, max_queue_size, workers, use_multiprocessing)\u001B[0m\n\u001B[1;32m   1556\u001B[0m \u001B[38;5;28;01mwith\u001B[39;00m tf\u001B[38;5;241m.\u001B[39mprofiler\u001B[38;5;241m.\u001B[39mexperimental\u001B[38;5;241m.\u001B[39mTrace(\n\u001B[1;32m   1557\u001B[0m     \u001B[38;5;124m\"\u001B[39m\u001B[38;5;124mtrain\u001B[39m\u001B[38;5;124m\"\u001B[39m,\n\u001B[1;32m   1558\u001B[0m     epoch_num\u001B[38;5;241m=\u001B[39mepoch,\n\u001B[0;32m   (...)\u001B[0m\n\u001B[1;32m   1561\u001B[0m     _r\u001B[38;5;241m=\u001B[39m\u001B[38;5;241m1\u001B[39m,\n\u001B[1;32m   1562\u001B[0m ):\n\u001B[1;32m   1563\u001B[0m     callbacks\u001B[38;5;241m.\u001B[39mon_train_batch_begin(step)\n\u001B[0;32m-> 1564\u001B[0m     tmp_logs \u001B[38;5;241m=\u001B[39m \u001B[38;5;28;43mself\u001B[39;49m\u001B[38;5;241;43m.\u001B[39;49m\u001B[43mtrain_function\u001B[49m\u001B[43m(\u001B[49m\u001B[43miterator\u001B[49m\u001B[43m)\u001B[49m\n\u001B[1;32m   1565\u001B[0m     \u001B[38;5;28;01mif\u001B[39;00m data_handler\u001B[38;5;241m.\u001B[39mshould_sync:\n\u001B[1;32m   1566\u001B[0m         context\u001B[38;5;241m.\u001B[39masync_wait()\n",
      "File \u001B[0;32m~/opt/anaconda3/envs/DLMT/lib/python3.8/site-packages/tensorflow/python/util/traceback_utils.py:150\u001B[0m, in \u001B[0;36mfilter_traceback.<locals>.error_handler\u001B[0;34m(*args, **kwargs)\u001B[0m\n\u001B[1;32m    148\u001B[0m filtered_tb \u001B[38;5;241m=\u001B[39m \u001B[38;5;28;01mNone\u001B[39;00m\n\u001B[1;32m    149\u001B[0m \u001B[38;5;28;01mtry\u001B[39;00m:\n\u001B[0;32m--> 150\u001B[0m   \u001B[38;5;28;01mreturn\u001B[39;00m \u001B[43mfn\u001B[49m\u001B[43m(\u001B[49m\u001B[38;5;241;43m*\u001B[39;49m\u001B[43margs\u001B[49m\u001B[43m,\u001B[49m\u001B[43m \u001B[49m\u001B[38;5;241;43m*\u001B[39;49m\u001B[38;5;241;43m*\u001B[39;49m\u001B[43mkwargs\u001B[49m\u001B[43m)\u001B[49m\n\u001B[1;32m    151\u001B[0m \u001B[38;5;28;01mexcept\u001B[39;00m \u001B[38;5;167;01mException\u001B[39;00m \u001B[38;5;28;01mas\u001B[39;00m e:\n\u001B[1;32m    152\u001B[0m   filtered_tb \u001B[38;5;241m=\u001B[39m _process_traceback_frames(e\u001B[38;5;241m.\u001B[39m__traceback__)\n",
      "File \u001B[0;32m~/opt/anaconda3/envs/DLMT/lib/python3.8/site-packages/tensorflow/python/eager/def_function.py:915\u001B[0m, in \u001B[0;36mFunction.__call__\u001B[0;34m(self, *args, **kwds)\u001B[0m\n\u001B[1;32m    912\u001B[0m compiler \u001B[38;5;241m=\u001B[39m \u001B[38;5;124m\"\u001B[39m\u001B[38;5;124mxla\u001B[39m\u001B[38;5;124m\"\u001B[39m \u001B[38;5;28;01mif\u001B[39;00m \u001B[38;5;28mself\u001B[39m\u001B[38;5;241m.\u001B[39m_jit_compile \u001B[38;5;28;01melse\u001B[39;00m \u001B[38;5;124m\"\u001B[39m\u001B[38;5;124mnonXla\u001B[39m\u001B[38;5;124m\"\u001B[39m\n\u001B[1;32m    914\u001B[0m \u001B[38;5;28;01mwith\u001B[39;00m OptionalXlaContext(\u001B[38;5;28mself\u001B[39m\u001B[38;5;241m.\u001B[39m_jit_compile):\n\u001B[0;32m--> 915\u001B[0m   result \u001B[38;5;241m=\u001B[39m \u001B[38;5;28;43mself\u001B[39;49m\u001B[38;5;241;43m.\u001B[39;49m\u001B[43m_call\u001B[49m\u001B[43m(\u001B[49m\u001B[38;5;241;43m*\u001B[39;49m\u001B[43margs\u001B[49m\u001B[43m,\u001B[49m\u001B[43m \u001B[49m\u001B[38;5;241;43m*\u001B[39;49m\u001B[38;5;241;43m*\u001B[39;49m\u001B[43mkwds\u001B[49m\u001B[43m)\u001B[49m\n\u001B[1;32m    917\u001B[0m new_tracing_count \u001B[38;5;241m=\u001B[39m \u001B[38;5;28mself\u001B[39m\u001B[38;5;241m.\u001B[39mexperimental_get_tracing_count()\n\u001B[1;32m    918\u001B[0m without_tracing \u001B[38;5;241m=\u001B[39m (tracing_count \u001B[38;5;241m==\u001B[39m new_tracing_count)\n",
      "File \u001B[0;32m~/opt/anaconda3/envs/DLMT/lib/python3.8/site-packages/tensorflow/python/eager/def_function.py:947\u001B[0m, in \u001B[0;36mFunction._call\u001B[0;34m(self, *args, **kwds)\u001B[0m\n\u001B[1;32m    944\u001B[0m   \u001B[38;5;28mself\u001B[39m\u001B[38;5;241m.\u001B[39m_lock\u001B[38;5;241m.\u001B[39mrelease()\n\u001B[1;32m    945\u001B[0m   \u001B[38;5;66;03m# In this case we have created variables on the first call, so we run the\u001B[39;00m\n\u001B[1;32m    946\u001B[0m   \u001B[38;5;66;03m# defunned version which is guaranteed to never create variables.\u001B[39;00m\n\u001B[0;32m--> 947\u001B[0m   \u001B[38;5;28;01mreturn\u001B[39;00m \u001B[38;5;28;43mself\u001B[39;49m\u001B[38;5;241;43m.\u001B[39;49m\u001B[43m_stateless_fn\u001B[49m\u001B[43m(\u001B[49m\u001B[38;5;241;43m*\u001B[39;49m\u001B[43margs\u001B[49m\u001B[43m,\u001B[49m\u001B[43m \u001B[49m\u001B[38;5;241;43m*\u001B[39;49m\u001B[38;5;241;43m*\u001B[39;49m\u001B[43mkwds\u001B[49m\u001B[43m)\u001B[49m  \u001B[38;5;66;03m# pylint: disable=not-callable\u001B[39;00m\n\u001B[1;32m    948\u001B[0m \u001B[38;5;28;01melif\u001B[39;00m \u001B[38;5;28mself\u001B[39m\u001B[38;5;241m.\u001B[39m_stateful_fn \u001B[38;5;129;01mis\u001B[39;00m \u001B[38;5;129;01mnot\u001B[39;00m \u001B[38;5;28;01mNone\u001B[39;00m:\n\u001B[1;32m    949\u001B[0m   \u001B[38;5;66;03m# Release the lock early so that multiple threads can perform the call\u001B[39;00m\n\u001B[1;32m    950\u001B[0m   \u001B[38;5;66;03m# in parallel.\u001B[39;00m\n\u001B[1;32m    951\u001B[0m   \u001B[38;5;28mself\u001B[39m\u001B[38;5;241m.\u001B[39m_lock\u001B[38;5;241m.\u001B[39mrelease()\n",
      "File \u001B[0;32m~/opt/anaconda3/envs/DLMT/lib/python3.8/site-packages/tensorflow/python/eager/function.py:2496\u001B[0m, in \u001B[0;36mFunction.__call__\u001B[0;34m(self, *args, **kwargs)\u001B[0m\n\u001B[1;32m   2493\u001B[0m \u001B[38;5;28;01mwith\u001B[39;00m \u001B[38;5;28mself\u001B[39m\u001B[38;5;241m.\u001B[39m_lock:\n\u001B[1;32m   2494\u001B[0m   (graph_function,\n\u001B[1;32m   2495\u001B[0m    filtered_flat_args) \u001B[38;5;241m=\u001B[39m \u001B[38;5;28mself\u001B[39m\u001B[38;5;241m.\u001B[39m_maybe_define_function(args, kwargs)\n\u001B[0;32m-> 2496\u001B[0m \u001B[38;5;28;01mreturn\u001B[39;00m \u001B[43mgraph_function\u001B[49m\u001B[38;5;241;43m.\u001B[39;49m\u001B[43m_call_flat\u001B[49m\u001B[43m(\u001B[49m\n\u001B[1;32m   2497\u001B[0m \u001B[43m    \u001B[49m\u001B[43mfiltered_flat_args\u001B[49m\u001B[43m,\u001B[49m\u001B[43m \u001B[49m\u001B[43mcaptured_inputs\u001B[49m\u001B[38;5;241;43m=\u001B[39;49m\u001B[43mgraph_function\u001B[49m\u001B[38;5;241;43m.\u001B[39;49m\u001B[43mcaptured_inputs\u001B[49m\u001B[43m)\u001B[49m\n",
      "File \u001B[0;32m~/opt/anaconda3/envs/DLMT/lib/python3.8/site-packages/tensorflow/python/eager/function.py:1862\u001B[0m, in \u001B[0;36mConcreteFunction._call_flat\u001B[0;34m(self, args, captured_inputs, cancellation_manager)\u001B[0m\n\u001B[1;32m   1858\u001B[0m possible_gradient_type \u001B[38;5;241m=\u001B[39m gradients_util\u001B[38;5;241m.\u001B[39mPossibleTapeGradientTypes(args)\n\u001B[1;32m   1859\u001B[0m \u001B[38;5;28;01mif\u001B[39;00m (possible_gradient_type \u001B[38;5;241m==\u001B[39m gradients_util\u001B[38;5;241m.\u001B[39mPOSSIBLE_GRADIENT_TYPES_NONE\n\u001B[1;32m   1860\u001B[0m     \u001B[38;5;129;01mand\u001B[39;00m executing_eagerly):\n\u001B[1;32m   1861\u001B[0m   \u001B[38;5;66;03m# No tape is watching; skip to running the function.\u001B[39;00m\n\u001B[0;32m-> 1862\u001B[0m   \u001B[38;5;28;01mreturn\u001B[39;00m \u001B[38;5;28mself\u001B[39m\u001B[38;5;241m.\u001B[39m_build_call_outputs(\u001B[38;5;28;43mself\u001B[39;49m\u001B[38;5;241;43m.\u001B[39;49m\u001B[43m_inference_function\u001B[49m\u001B[38;5;241;43m.\u001B[39;49m\u001B[43mcall\u001B[49m\u001B[43m(\u001B[49m\n\u001B[1;32m   1863\u001B[0m \u001B[43m      \u001B[49m\u001B[43mctx\u001B[49m\u001B[43m,\u001B[49m\u001B[43m \u001B[49m\u001B[43margs\u001B[49m\u001B[43m,\u001B[49m\u001B[43m \u001B[49m\u001B[43mcancellation_manager\u001B[49m\u001B[38;5;241;43m=\u001B[39;49m\u001B[43mcancellation_manager\u001B[49m\u001B[43m)\u001B[49m)\n\u001B[1;32m   1864\u001B[0m forward_backward \u001B[38;5;241m=\u001B[39m \u001B[38;5;28mself\u001B[39m\u001B[38;5;241m.\u001B[39m_select_forward_and_backward_functions(\n\u001B[1;32m   1865\u001B[0m     args,\n\u001B[1;32m   1866\u001B[0m     possible_gradient_type,\n\u001B[1;32m   1867\u001B[0m     executing_eagerly)\n\u001B[1;32m   1868\u001B[0m forward_function, args_with_tangents \u001B[38;5;241m=\u001B[39m forward_backward\u001B[38;5;241m.\u001B[39mforward()\n",
      "File \u001B[0;32m~/opt/anaconda3/envs/DLMT/lib/python3.8/site-packages/tensorflow/python/eager/function.py:499\u001B[0m, in \u001B[0;36m_EagerDefinedFunction.call\u001B[0;34m(self, ctx, args, cancellation_manager)\u001B[0m\n\u001B[1;32m    497\u001B[0m \u001B[38;5;28;01mwith\u001B[39;00m _InterpolateFunctionError(\u001B[38;5;28mself\u001B[39m):\n\u001B[1;32m    498\u001B[0m   \u001B[38;5;28;01mif\u001B[39;00m cancellation_manager \u001B[38;5;129;01mis\u001B[39;00m \u001B[38;5;28;01mNone\u001B[39;00m:\n\u001B[0;32m--> 499\u001B[0m     outputs \u001B[38;5;241m=\u001B[39m \u001B[43mexecute\u001B[49m\u001B[38;5;241;43m.\u001B[39;49m\u001B[43mexecute\u001B[49m\u001B[43m(\u001B[49m\n\u001B[1;32m    500\u001B[0m \u001B[43m        \u001B[49m\u001B[38;5;28;43mstr\u001B[39;49m\u001B[43m(\u001B[49m\u001B[38;5;28;43mself\u001B[39;49m\u001B[38;5;241;43m.\u001B[39;49m\u001B[43msignature\u001B[49m\u001B[38;5;241;43m.\u001B[39;49m\u001B[43mname\u001B[49m\u001B[43m)\u001B[49m\u001B[43m,\u001B[49m\n\u001B[1;32m    501\u001B[0m \u001B[43m        \u001B[49m\u001B[43mnum_outputs\u001B[49m\u001B[38;5;241;43m=\u001B[39;49m\u001B[38;5;28;43mself\u001B[39;49m\u001B[38;5;241;43m.\u001B[39;49m\u001B[43m_num_outputs\u001B[49m\u001B[43m,\u001B[49m\n\u001B[1;32m    502\u001B[0m \u001B[43m        \u001B[49m\u001B[43minputs\u001B[49m\u001B[38;5;241;43m=\u001B[39;49m\u001B[43margs\u001B[49m\u001B[43m,\u001B[49m\n\u001B[1;32m    503\u001B[0m \u001B[43m        \u001B[49m\u001B[43mattrs\u001B[49m\u001B[38;5;241;43m=\u001B[39;49m\u001B[43mattrs\u001B[49m\u001B[43m,\u001B[49m\n\u001B[1;32m    504\u001B[0m \u001B[43m        \u001B[49m\u001B[43mctx\u001B[49m\u001B[38;5;241;43m=\u001B[39;49m\u001B[43mctx\u001B[49m\u001B[43m)\u001B[49m\n\u001B[1;32m    505\u001B[0m   \u001B[38;5;28;01melse\u001B[39;00m:\n\u001B[1;32m    506\u001B[0m     outputs \u001B[38;5;241m=\u001B[39m execute\u001B[38;5;241m.\u001B[39mexecute_with_cancellation(\n\u001B[1;32m    507\u001B[0m         \u001B[38;5;28mstr\u001B[39m(\u001B[38;5;28mself\u001B[39m\u001B[38;5;241m.\u001B[39msignature\u001B[38;5;241m.\u001B[39mname),\n\u001B[1;32m    508\u001B[0m         num_outputs\u001B[38;5;241m=\u001B[39m\u001B[38;5;28mself\u001B[39m\u001B[38;5;241m.\u001B[39m_num_outputs,\n\u001B[0;32m   (...)\u001B[0m\n\u001B[1;32m    511\u001B[0m         ctx\u001B[38;5;241m=\u001B[39mctx,\n\u001B[1;32m    512\u001B[0m         cancellation_manager\u001B[38;5;241m=\u001B[39mcancellation_manager)\n",
      "File \u001B[0;32m~/opt/anaconda3/envs/DLMT/lib/python3.8/site-packages/tensorflow/python/eager/execute.py:54\u001B[0m, in \u001B[0;36mquick_execute\u001B[0;34m(op_name, num_outputs, inputs, attrs, ctx, name)\u001B[0m\n\u001B[1;32m     52\u001B[0m \u001B[38;5;28;01mtry\u001B[39;00m:\n\u001B[1;32m     53\u001B[0m   ctx\u001B[38;5;241m.\u001B[39mensure_initialized()\n\u001B[0;32m---> 54\u001B[0m   tensors \u001B[38;5;241m=\u001B[39m \u001B[43mpywrap_tfe\u001B[49m\u001B[38;5;241;43m.\u001B[39;49m\u001B[43mTFE_Py_Execute\u001B[49m\u001B[43m(\u001B[49m\u001B[43mctx\u001B[49m\u001B[38;5;241;43m.\u001B[39;49m\u001B[43m_handle\u001B[49m\u001B[43m,\u001B[49m\u001B[43m \u001B[49m\u001B[43mdevice_name\u001B[49m\u001B[43m,\u001B[49m\u001B[43m \u001B[49m\u001B[43mop_name\u001B[49m\u001B[43m,\u001B[49m\n\u001B[1;32m     55\u001B[0m \u001B[43m                                      \u001B[49m\u001B[43minputs\u001B[49m\u001B[43m,\u001B[49m\u001B[43m \u001B[49m\u001B[43mattrs\u001B[49m\u001B[43m,\u001B[49m\u001B[43m \u001B[49m\u001B[43mnum_outputs\u001B[49m\u001B[43m)\u001B[49m\n\u001B[1;32m     56\u001B[0m \u001B[38;5;28;01mexcept\u001B[39;00m core\u001B[38;5;241m.\u001B[39m_NotOkStatusException \u001B[38;5;28;01mas\u001B[39;00m e:\n\u001B[1;32m     57\u001B[0m   \u001B[38;5;28;01mif\u001B[39;00m name \u001B[38;5;129;01mis\u001B[39;00m \u001B[38;5;129;01mnot\u001B[39;00m \u001B[38;5;28;01mNone\u001B[39;00m:\n",
      "\u001B[0;31mKeyboardInterrupt\u001B[0m: "
     ]
    }
   ],
   "source": [
    "# Load pretrained model\n",
    "weights_path = f\"weights_{version}.h5\" # Name of the file to store the weights\n",
    "weights_file = Path(weights_path)\n",
    "weights_load_path = f'{experiment_dir}/{weights_path}'\n",
    "if weights_load_path:\n",
    "    try:\n",
    "        model.load_weights(weights_load_path)\n",
    "        print(\"Loaded model from {}\".format(weights_load_path))\n",
    "    except:\n",
    "        print(\"Impossible to find weight path. Returning untrained model\")\n",
    "\n",
    "# Fit the model\n",
    "history = model.fit(train_generator, validation_data=val_generator, epochs=epochs, batch_size=batch_size)\n",
    "\n",
    "# Save weights\n",
    "weights_save_path = os.path.join(experiment_dir, weights_path)\n",
    "model.save_weights(weights_save_path)"
   ],
   "metadata": {
    "collapsed": false,
    "ExecuteTime": {
     "end_time": "2024-01-14T22:53:14.732633Z",
     "start_time": "2024-01-14T22:49:02.011889Z"
    }
   },
   "id": "781c6af472fffde5",
   "execution_count": 18
  },
  {
   "cell_type": "markdown",
   "source": [
    "## Training Results\n",
    "Accuracy and Loss obtained along the training process"
   ],
   "metadata": {
    "collapsed": false
   },
   "id": "e048a004c99c75bc"
  },
  {
   "cell_type": "code",
   "outputs": [],
   "source": [
    "plots.accloss(history, modelCNN, experiment_dir, version)"
   ],
   "metadata": {
    "collapsed": false,
    "ExecuteTime": {
     "start_time": "2024-01-14T22:53:14.729290Z"
    }
   },
   "id": "130da649b8274036",
   "execution_count": null
  },
  {
   "cell_type": "markdown",
   "source": [
    "## Testing\n",
    "### Model Testing\n",
    "1. Compute the loss function and accuracy for the test data\n",
    "2. Confusion Matrix obtained from testing results"
   ],
   "metadata": {
    "collapsed": false
   },
   "id": "a0915e72fb478ff6"
  },
  {
   "cell_type": "code",
   "outputs": [],
   "source": [
    "# X_test\n",
    "X_test = test_generator.next()[0]\n",
    "# y_test\n",
    "y_test = test_generator.labels\n",
    "\n",
    "# Evaluate model\n",
    "scores = model.evaluate(x=X_test, y=y_test, verbose=0)\n",
    "print(\"Accuracy: %.2f%%\" % (scores[1]*100))\n",
    "print(\"Loss: %.2f\" % scores[0])\n",
    "\n",
    "# Obtain results to present the confusion matrix\n",
    "prob_class = model.predict(x = X_test, batch_size=batch_size)\n",
    "# Convert the probabilities into binary classes\n",
    "threshold = 0.5 \n",
    "binary_pred = tf.cast(tf.math.greater_equal(prob_class, threshold), tf.int32)\n",
    "y_pred = tf.argmax(binary_pred, axis=-1)\n",
    "# Classification Report\n",
    "report = classification_report(y_test, y_pred, output_dict=False, target_names=CLASSES)\n",
    "print(report)\n",
    "# Visualize confusion matrix                                           \n",
    "plots.cm_mutilabel(y_test, y_pred, modelCNN, CLASSES, experiment_dir, version)"
   ],
   "metadata": {
    "collapsed": false,
    "ExecuteTime": {
     "start_time": "2024-01-14T22:53:14.732135Z"
    }
   },
   "id": "582e5e9cb61f5469",
   "execution_count": null
  }
 ],
 "metadata": {
  "kernelspec": {
   "display_name": "Python 3",
   "language": "python",
   "name": "python3"
  },
  "language_info": {
   "codemirror_mode": {
    "name": "ipython",
    "version": 2
   },
   "file_extension": ".py",
   "mimetype": "text/x-python",
   "name": "python",
   "nbconvert_exporter": "python",
   "pygments_lexer": "ipython2",
   "version": "2.7.6"
  }
 },
 "nbformat": 4,
 "nbformat_minor": 5
}
