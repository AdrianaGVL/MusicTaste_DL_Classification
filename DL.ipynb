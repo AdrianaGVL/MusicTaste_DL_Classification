{
  "cells": [
    {
      "cell_type": "markdown",
      "metadata": {
        "id": "LUuusoYphxEr"
      },
      "source": [
        "# Face identification"
      ]
    },
    {
      "cell_type": "markdown",
      "metadata": {
        "id": "EgU0YiU3hxEs"
      },
      "source": [
        "### Inport needed libraries\n",
        "\n",
        "For clarity, and to avoid problems, firstly include all needed libraries at the begining of the notebook. Import all needed libraries."
      ]
    },
    {
      "cell_type": "code",
      "execution_count": 1,
      "metadata": {
        "colab": {
          "base_uri": "https://localhost:8080/"
        },
        "id": "3YYxA9L6tKz-",
        "outputId": "a33fb565-fae8-489d-b8c4-286be92c0488"
      },
      "outputs": [
        {
          "output_type": "stream",
          "name": "stdout",
          "text": [
            "Mounted at /content/gdrive\n"
          ]
        }
      ],
      "source": [
        "from google.colab import drive\n",
        "drive.mount('/content/gdrive')\n",
        "\n",
        "import sys\n",
        "# Append the directory to your python path using sys\n",
        "sys.path.append('/content/gdrive/MyDrive/2023-2024_VADL_L5_notebook/')"
      ]
    },
    {
      "cell_type": "code",
      "execution_count": 2,
      "metadata": {
        "id": "tdXfnesZhxEt"
      },
      "outputs": [],
      "source": [
        "# Import general purpose python libraries\n",
        "import os\n",
        "import matplotlib.pyplot as plt\n",
        "from PIL import Image # For handling the images\n",
        "import numpy as np\n",
        "from tensorflow import keras\n",
        "\n",
        "# Import different Keras functionalities\n",
        "from keras.datasets import cifar10\n",
        "from keras.models import Sequential\n",
        "from keras.layers import Dense, Add, Activation\n",
        "from keras.layers import Dropout\n",
        "from keras.layers import Flatten\n",
        "from keras.layers import concatenate\n",
        "from keras.constraints import MaxNorm\n",
        "from keras.optimizers import SGD, Adam\n",
        "from keras.layers import Conv2D\n",
        "from keras.layers import MaxPooling2D\n",
        "from keras.utils import image_dataset_from_directory\n",
        "from keras import backend as K\n",
        "\n",
        "\n",
        "from keras.models import Model\n",
        "from keras.layers import Input, Dense\n",
        "\n",
        "from keras.models import load_model\n",
        "import tensorflow as tf\n",
        "\n",
        "from keras.applications import ResNet50\n",
        "\n",
        "from pathlib import Path\n",
        "\n",
        "\n",
        "# Import function to plot the confussion matrix\n",
        "import plotcm"
      ]
    },
    {
      "cell_type": "markdown",
      "metadata": {
        "id": "acQvmDp6hxEt"
      },
      "source": [
        "### Configuration parameters\n",
        "Configuration values of different parts of the solution. You should change some of them to obtain better results."
      ]
    },
    {
      "cell_type": "code",
      "execution_count": 3,
      "metadata": {
        "id": "qO5OSJcghxEu"
      },
      "outputs": [],
      "source": [
        "# Randomize the initial network weights\n",
        "random_seed = True\n",
        "\n",
        "# Paths to where training, testing, and validation images are\n",
        "database_dir = '/content/gdrive/MyDrive/2023-2024_VADL_L5_notebook/MIT-CBCL'\n",
        "train_dir = '/content/gdrive/MyDrive/2023-2024_VADL_L5_notebook/MIT-CBCL/train'\n",
        "val_dir = '/content/gdrive/MyDrive/2023-2024_VADL_L5_notebook/MIT-CBCL/val'\n",
        "test_dir = '/content/gdrive/MyDrive/2023-2024_VADL_L5_notebook/MIT-CBCL/test'\n",
        "\n",
        "# Directory where to store weights of the model and results\n",
        "experiment_rootdir = \"./results/\"\n",
        "# Create experiment directory if it does not exists\n",
        "if not os.path.exists(experiment_rootdir):\n",
        "    os.makedirs(experiment_rootdir)\n",
        "\n",
        "version = '1e-5_5_v3'\n",
        "weights_path = f\"weights_{version}.h5\" # Name of the file to store the weights\n",
        "weights_file = Path(weights_path)\n",
        "\n",
        "# Output dimension (number of sublects in our problem)\n",
        "num_classes = 10\n",
        "\n",
        "# Name of each gesture of the database\n",
        "CLASSES = ['0', '1', '2', '3', '4', '5', '6', '7', '8', '9']\n",
        "\n",
        "# Parameters that characterize the images\n",
        "img_height = 150\n",
        "img_width = 150\n",
        "img_channels = 1 # although some images could be rgb, we work with grayscale images\n",
        "color_mode = 'grayscale'"
      ]
    },
    {
      "cell_type": "markdown",
      "metadata": {
        "id": "4vxujQd_hxEu"
      },
      "source": [
        "# Training process"
      ]
    },
    {
      "cell_type": "markdown",
      "metadata": {
        "id": "f_AbmfZWhxEv"
      },
      "source": [
        "# Create many models\n",
        "\n"
      ]
    },
    {
      "cell_type": "markdown",
      "source": [
        "##VGG-16"
      ],
      "metadata": {
        "id": "eSyy37I-gRn5"
      }
    },
    {
      "cell_type": "code",
      "execution_count": 6,
      "metadata": {
        "id": "LV2RuydXhxEv"
      },
      "outputs": [],
      "source": [
        "def VGG16 (img_width,img_height,img_channels):\n",
        "\t#  dropout rate for FC layers\n",
        "\tdropout=0.5\n",
        "\n",
        "\t# CNN architecture\n",
        "\tinput_image = Input(shape=(img_width,img_height,img_channels))\n",
        "\tx1 = Conv2D(64, (3, 3),padding='same', activation='relu')(input_image)\n",
        "\tx1 = Conv2D(64, (3, 3),padding='same', activation='relu')(x1)\n",
        "\tx1 = MaxPooling2D((2, 2))(x1)\n",
        "\tx1 = Conv2D(128, (3, 3),padding='same', activation='relu')(x1)\n",
        "\tx1 = Conv2D(128, (3, 3),padding='same', activation='relu')(x1)\n",
        "\tx1 = MaxPooling2D((2, 2))(x1)\n",
        "\tx1 = Conv2D(256, (3, 3),padding='same', activation='relu')(x1)\n",
        "\tx1 = Conv2D(256, (3, 3),padding='same', activation='relu')(x1)\n",
        "\tx1 = Conv2D(256, (1, 1),padding='same', activation='relu')(x1)\n",
        "\tx1 = MaxPooling2D((2, 2))(x1)\n",
        "\tx1 = Conv2D(512, (3, 3),padding='same', activation='relu')(x1)\n",
        "\tx1 = Conv2D(512, (3, 3),padding='same', activation='relu')(x1)\n",
        "\tx1 = Conv2D(512, (1, 1),padding='same', activation='relu')(x1)\n",
        "\tx1 = MaxPooling2D((2, 2))(x1)\n",
        "\tx1 = Conv2D(512, (3, 3),padding='same', activation='relu')(x1)\n",
        "\tx1 = Conv2D(512, (3, 3),padding='same', activation='relu')(x1)\n",
        "\tx1 = Conv2D(512, (1, 1),padding='same', activation='relu')(x1)\n",
        "\tx1 = MaxPooling2D((2, 2))(x1)\n",
        "\n",
        "\tx1 = Flatten()(x1)\n",
        "\n",
        "\tx=Dense(4096, activation='relu', kernel_constraint=MaxNorm(3))(x1)\n",
        "\tx=Dropout(dropout)(x)\n",
        "\tx=Dense(4096, activation='relu', kernel_constraint=MaxNorm(3))(x)\n",
        "\tx=Dropout(dropout)(x)\n",
        "\tout= Dense(num_classes, activation='softmax')(x)\n",
        "\n",
        "\tmodel = Model(inputs = input_image, outputs = out);\n",
        "\n",
        "\treturn model\n",
        "\n",
        "model = VGG16 (img_width,img_height,img_channels)\n",
        "\n"
      ]
    },
    {
      "cell_type": "markdown",
      "source": [
        "##RestNet"
      ],
      "metadata": {
        "id": "9e1g3e3ego7r"
      }
    },
    {
      "cell_type": "code",
      "source": [
        "def RestNet (img_width,img_height,img_channels):\n",
        "  dropout=0.5 # Para evitar que haya overfitting cancela algunas conexiones entre las neuronas aleatoriamente.\n",
        "\n",
        "  # CNN architecture\n",
        "  input_image = Input(shape=(img_width,img_height,img_channels))\n",
        "  x0 = Conv2D(64, (3, 3),padding='same', activation='relu')(input_image)\n",
        "  x1 = Conv2D(64, (3, 3),padding='same', activation='relu')(x0)\n",
        "  x1 = MaxPooling2D((2, 2))(x1)\n",
        "  x2 = Conv2D(128, (3, 3),padding='same', activation='relu')(x1)\n",
        "  x3 = Conv2D(128, (3, 3),padding='same')(x2)\n",
        "  x4 = Add()([x3, x2])\n",
        "  x4 = Activation('relu')(x4)\n",
        "  x4 = MaxPooling2D((2, 2))(x4)\n",
        "  x4 = Conv2D(256, (3, 3),padding='same', activation='relu')(x4)\n",
        "  x5 = Conv2D(256, (3, 3),padding='same', activation='relu')(x4)\n",
        "  x5 = Conv2D(256, (1, 1),padding='same')(x5)\n",
        "  x6 = Add()([x5, x4])\n",
        "  x6 = Activation('relu')(x6)\n",
        "  x6 = MaxPooling2D((2, 2))(x6)\n",
        "  x6 = Conv2D(512, (3, 3),padding='same', activation='relu')(x6)\n",
        "  x7 = Conv2D(512, (3, 3),padding='same', activation='relu')(x6)\n",
        "  x7 = Conv2D(512, (1, 1),padding='same')(x7)\n",
        "  x8 = Add()([x7, x6])\n",
        "  x8 = Activation('relu')(x8)\n",
        "  x8 = MaxPooling2D((2, 2))(x8)\n",
        "  x8 = Conv2D(512, (3, 3),padding='same', activation='relu')(x8)\n",
        "  x9 = Conv2D(512, (3, 3),padding='same', activation='relu')(x8)\n",
        "  x9 = Conv2D(512, (1, 1),padding='same')(x9)\n",
        "  x10 = Add()([x9, x8])\n",
        "  x10 = Activation('relu')(x10)\n",
        "  x10 = MaxPooling2D((2, 2))(x10)\n",
        "  x10 = Flatten()(x10)\n",
        "\n",
        "  x=Dense(4096, activation='relu', kernel_constraint=maxnorm(3))(x10)\n",
        "  x=Dropout(dropout)(x)\n",
        "  x=Dense(4096, activation='relu', kernel_constraint=maxnorm(3))(x)\n",
        "  x=Dropout(dropout)(x)\n",
        "  out= Dense(num_classes, activation='softmax')(x)\n",
        "\n",
        "  model = Model(inputs = input_image, outputs = out);\n",
        "\n",
        "  return model"
      ],
      "metadata": {
        "id": "c-63WTaigsY9"
      },
      "execution_count": 8,
      "outputs": []
    },
    {
      "cell_type": "markdown",
      "source": [
        "##Model execution"
      ],
      "metadata": {
        "id": "Mn9iTkKthi13"
      }
    },
    {
      "cell_type": "code",
      "source": [
        "#Load parameters\n",
        "if weights_file.is_file():\n",
        "\tmodel.load_weights(weights_path)\n",
        "\n",
        "# Print the architecture of the model\n",
        "model.summary()"
      ],
      "metadata": {
        "id": "V9Yx3WzqgnKl"
      },
      "execution_count": null,
      "outputs": []
    },
    {
      "cell_type": "markdown",
      "metadata": {
        "id": "Zp_FzEzYhxEv"
      },
      "source": [
        "### Set model training process\n",
        "Configuration of several training decisions:\n",
        "1. Optimizer using `Adam`\n",
        "2. Model training configuration using `compile`. Use a loss and a metric function appropriate for the task\n",
        "3. Creation of the data generator for the training dataset using `image_dataset_from_directory`\n",
        "4. Creation of the data generator for the validation dataset using `image_dataset_from_directory`"
      ]
    },
    {
      "cell_type": "code",
      "execution_count": null,
      "metadata": {
        "colab": {
          "base_uri": "https://localhost:8080/"
        },
        "id": "FAy4roRXhxEw",
        "outputId": "438b3840-5a88-460d-c4db-36176e0ebcdf"
      },
      "outputs": [
        {
          "name": "stdout",
          "output_type": "stream",
          "text": [
            "Found 1210 files belonging to 10 classes.\n",
            "Found 400 files belonging to 10 classes.\n"
          ]
        }
      ],
      "source": [
        "# Set random seed\n",
        "if random_seed:\n",
        "    seed = np.random.randint(0,2*31-1)\n",
        "else:\n",
        "    seed = 5\n",
        "np.random.seed(seed)\n",
        "tf.random.set_seed(seed)\n",
        "\n",
        "# Parameters that configures the training process\n",
        "batch_size = 1 # Batch size\n",
        "epochs = 5 # Number of epochs. Set to 20 for this work\n",
        "initial_lr = 1e-5 # Learning rate\n",
        "\n",
        "# 1. Configure optimizer\n",
        "adam = Adam(learning_rate=initial_lr)\n",
        "\n",
        "# 2. Configure training process\n",
        "model.compile(loss='categorical_crossentropy', optimizer=adam, metrics=['categorical_accuracy'])\n",
        "\n",
        "# 3. Generate train dataset (ds) from directory of samples\n",
        "train_ds = image_dataset_from_directory(directory=path_subjects,\n",
        "                                        label_mode = 'categorical',\n",
        "                                        class_names=CLASSES,\n",
        "                                        batch_size=batch_size,\n",
        "                                        color_mode=color_mode,\n",
        "                                        image_size=(img_width,img_height), shuffle=True)\n",
        "\n",
        "# 4. Generate validation dataset (ds) from directory of samples\n",
        "val_ds  = image_dataset_from_directory(directory=\"/content/gdrive/MyDrive/2023-2024_VADL_L5_notebook/MIT-CBCL/val\",\n",
        "                                       label_mode = 'categorical',\n",
        "                                       class_names=CLASSES,\n",
        "                                       batch_size=batch_size,\n",
        "                                       color_mode=color_mode,\n",
        "                                       image_size=(img_width,img_height))\n"
      ]
    },
    {
      "cell_type": "markdown",
      "metadata": {
        "id": "A6qILA4XhxEw"
      },
      "source": [
        "### Train the model\n",
        "1. Load parameters from previous trainings if they exist.\n",
        "2. Fit the model\n",
        "3. Save the weights"
      ]
    },
    {
      "cell_type": "code",
      "execution_count": null,
      "metadata": {
        "colab": {
          "background_save": true,
          "base_uri": "https://localhost:8080/"
        },
        "id": "pqctz0VshxEw",
        "outputId": "bc025641-edcb-4ab5-8638-868a9d844d56"
      },
      "outputs": [
        {
          "name": "stdout",
          "output_type": "stream",
          "text": [
            "Impossible to find weight path. Returning untrained model\n",
            "Epoch 1/5\n",
            "1210/1210 [==============================] - 62s 42ms/step - loss: 1.6592 - categorical_accuracy: 0.4157 - val_loss: 0.3740 - val_categorical_accuracy: 0.9050\n",
            "Epoch 2/5\n",
            "1210/1210 [==============================] - 52s 43ms/step - loss: 0.3427 - categorical_accuracy: 0.8934 - val_loss: 0.0630 - val_categorical_accuracy: 0.9800\n",
            "Epoch 3/5\n",
            "1210/1210 [==============================] - 49s 41ms/step - loss: 0.1578 - categorical_accuracy: 0.9512 - val_loss: 0.2710 - val_categorical_accuracy: 0.9200\n",
            "Epoch 4/5\n",
            "1210/1210 [==============================] - 52s 43ms/step - loss: 0.0786 - categorical_accuracy: 0.9702 - val_loss: 0.0585 - val_categorical_accuracy: 0.9875\n",
            "Epoch 5/5\n",
            "1210/1210 [==============================] - 49s 41ms/step - loss: 0.0845 - categorical_accuracy: 0.9752 - val_loss: 0.0200 - val_categorical_accuracy: 0.9900\n"
          ]
        }
      ],
      "source": [
        "# Load pretrained model\n",
        "weights_load_path = os.path.join(experiment_rootdir, weights_path)\n",
        "if weights_load_path:\n",
        "    try:\n",
        "        model.load_weights(weights_load_path)\n",
        "        print(\"Loaded model from {}\".format(weights_load_path))\n",
        "    except:\n",
        "        print(\"Impossible to find weight path. Returning untrained model\")\n",
        "\n",
        "# Fit the model\n",
        "history = model.fit(train_ds, validation_data=val_ds, epochs=epochs, batch_size=batch_size)\n",
        "\n",
        "# Save weights\n",
        "weights_save_path = os.path.join(experiment_rootdir, weights_path)\n",
        "model.save_weights(weights_save_path)"
      ]
    },
    {
      "cell_type": "markdown",
      "metadata": {
        "id": "qesOAn11hxEw"
      },
      "source": [
        "### Plot history for accuracy and loss for the training  process"
      ]
    },
    {
      "cell_type": "code",
      "execution_count": null,
      "metadata": {
        "colab": {
          "background_save": true
        },
        "id": "8f60KHH6hxEx",
        "outputId": "12fbc680-7f16-4444-c728-af1b236024a5"
      },
      "outputs": [
        {
          "data": {
            "image/png": "[encoded data removed]",
            "text/plain": [
              "<Figure size 640x480 with 1 Axes>"
            ]
          },
          "metadata": {},
          "output_type": "display_data"
        },
        {
          "data": {
            "image/png": "[encoded data removed]",
            "text/plain": [
              "<Figure size 640x480 with 1 Axes>"
            ]
          },
          "metadata": {},
          "output_type": "display_data"
        }
      ],
      "source": [
        "# 1. Plot accuracy\n",
        "plt.figure()\n",
        "plt.plot(history.history['categorical_accuracy'])\n",
        "plt.plot(history.history['val_categorical_accuracy'])\n",
        "plt.title('model accuracy')\n",
        "plt.ylabel('accuracy')\n",
        "plt.xlabel('epoch')\n",
        "plt.legend(['train', 'test'], loc='upper left')\n",
        "\n",
        "# Save the figure\n",
        "fig_save_path = os.path.join(experiment_rootdir, f\"accuracy_{version}.png\")\n",
        "plt.savefig(fig_save_path)\n",
        "\n",
        "# Show figure\n",
        "plt.show()\n",
        "\n",
        "# 2. Plot loss\n",
        "plt.figure()\n",
        "plt.plot(history.history['loss'])\n",
        "plt.plot(history.history['val_loss'])\n",
        "plt.title('model loss')\n",
        "plt.ylabel('loss')\n",
        "plt.xlabel('epoch')\n",
        "plt.legend(['train', 'test'], loc='upper left')\n",
        "fig_save_path = os.path.join(experiment_rootdir, f\"loss_{version}.png\")\n",
        "plt.savefig(fig_save_path)\n",
        "plt.show()"
      ]
    },
    {
      "cell_type": "code",
      "execution_count": null,
      "metadata": {
        "colab": {
          "background_save": true
        },
        "id": "DcFVpENqjj1f",
        "outputId": "3071912a-914a-45bd-b332-42ebf59e3078"
      },
      "outputs": [
        {
          "data": {
            "text/plain": [
              "['loss', 'categorical_accuracy']"
            ]
          },
          "execution_count": 29,
          "metadata": {},
          "output_type": "execute_result"
        }
      ],
      "source": [
        "model.metrics_names"
      ]
    },
    {
      "cell_type": "markdown",
      "metadata": {
        "id": "4krKV8PShxEx"
      },
      "source": [
        "# Testing"
      ]
    },
    {
      "cell_type": "markdown",
      "metadata": {
        "id": "8c4Z32tshxEx"
      },
      "source": [
        "## Test evaluation"
      ]
    },
    {
      "cell_type": "markdown",
      "metadata": {
        "id": "n9-MSPfKhxEx"
      },
      "source": [
        "### Load testing data\n",
        "\n",
        "Creation of the data generator for the test dataset using `image_dataset_from_directory`. Do not forget to turn off `shuffle` option"
      ]
    },
    {
      "cell_type": "code",
      "execution_count": null,
      "metadata": {
        "colab": {
          "background_save": true
        },
        "id": "qduzLKpAhxEx",
        "outputId": "2ab821b4-e48c-4bab-fe1d-276cd7f3eefd"
      },
      "outputs": [
        {
          "name": "stdout",
          "output_type": "stream",
          "text": [
            "Found 420 files belonging to 10 classes.\n"
          ]
        }
      ],
      "source": [
        "# Generate validation dataset (ds) from directory of samples\n",
        "test_ds = image_dataset_from_directory(directory=\"/content/gdrive/MyDrive/2023-2024_VADL_L5_notebook/MIT-CBCL/test\",\n",
        "                                       label_mode = 'categorical',\n",
        "                                       class_names=CLASSES,\n",
        "                                       batch_size=batch_size,\n",
        "                                       color_mode=color_mode,\n",
        "                                       image_size=(img_width,img_height),\n",
        "                                       shuffle = False)\n"
      ]
    },
    {
      "cell_type": "markdown",
      "metadata": {
        "id": "racjpVoMhxEy"
      },
      "source": [
        "### Testing process\n",
        "Compute the loss function and accuracy for the test data (using `evaluate`)"
      ]
    },
    {
      "cell_type": "code",
      "execution_count": null,
      "metadata": {
        "colab": {
          "background_save": true
        },
        "id": "4u4LEvGDhxEy"
      },
      "outputs": [],
      "source": [
        "## Evaluate model\n",
        "#scores = model.evaluate(, verbose=0)"
      ]
    },
    {
      "cell_type": "markdown",
      "metadata": {
        "id": "Q8nKRlglhxEy"
      },
      "source": [
        "### Generation of the predictions and the confusion matrix for the test data\n",
        "1.   Compute predictions with `predict`\n",
        "2.   Select the most probable class with `argmax`\n",
        "\n",
        "The confusion matrix will be shown with `plotcm`\n"
      ]
    },
    {
      "cell_type": "code",
      "execution_count": null,
      "metadata": {
        "colab": {
          "background_save": true
        },
        "id": "vVDE9mRghxEy",
        "outputId": "536dd4fa-5e01-4afd-eb4f-2c64fdd36c7f"
      },
      "outputs": [
        {
          "name": "stdout",
          "output_type": "stream",
          "text": [
            "420/420 [==============================] - 3s 6ms/step\n"
          ]
        },
        {
          "data": {
            "image/png": "[encoded data removed]",
            "text/plain": [
              "<Figure size 640x480 with 1 Axes>"
            ]
          },
          "metadata": {},
          "output_type": "display_data"
        }
      ],
      "source": [
        "\n",
        "# 1. Get predictions\n",
        "prob_class = model.predict(test_ds, batch_size=batch_size)\n",
        "\n",
        "# 2. Prediced labels\n",
        "y_pred = tf.argmax(prob_class, axis=-1)\n",
        "\n",
        "# Get ground truth\n",
        "y_true = tf.argmax(tf.concat([label for image, label in test_ds], axis=0), axis=1)\n",
        "\n",
        "# Visualize confusion matrix\n",
        "plotcm.plotcm(experiment_rootdir, y_true, y_pred, CLASSES, experiment_rootdir, normalize=True)\n",
        "\n"
      ]
    }
  ],
  "metadata": {
    "accelerator": "GPU",
    "colab": {
      "toc_visible": true,
      "provenance": [],
      "collapsed_sections": [
        "eSyy37I-gRn5",
        "4krKV8PShxEx"
      ]
    },
    "kernelspec": {
      "display_name": "Python 3",
      "name": "python3"
    },
    "language_info": {
      "codemirror_mode": {
        "name": "ipython",
        "version": 3
      },
      "file_extension": ".py",
      "mimetype": "text/x-python",
      "name": "python",
      "nbconvert_exporter": "python",
      "pygments_lexer": "ipython3",
      "version": "3.11.4"
    }
  },
  "nbformat": 4,
  "nbformat_minor": 0
}