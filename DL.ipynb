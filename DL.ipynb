{
 "cells": [
  {
   "cell_type": "markdown",
   "metadata": {
    "id": "LUuusoYphxEr"
   },
   "source": [
    "# Genre song classification\n",
    "In out database we have spectrograms and chomagrams from different song genres: Alternative, Classical, Dance, Pop, Rock and Techno"
   ]
  },
  {
   "cell_type": "markdown",
   "metadata": {
    "id": "EgU0YiU3hxEs"
   },
   "source": [
    "### Import needed libraries"
   ]
  },
  {
   "cell_type": "code",
   "execution_count": 10,
   "metadata": {
    "id": "tdXfnesZhxEt"
   },
   "outputs": [],
   "source": [
    "# Import general purpose python libraries\n",
    "import os\n",
    "import matplotlib.pyplot as plt\n",
    "from PIL import Image # For handling the images\n",
    "import numpy as np\n",
    "from tensorflow import keras\n",
    "\n",
    "# Import different Keras functionalities\n",
    "from keras.datasets import cifar10\n",
    "from keras.models import Sequential\n",
    "from keras.layers import Dense, Add, Activation\n",
    "from keras.layers import Dropout\n",
    "from keras.layers import Flatten\n",
    "from keras.layers import concatenate\n",
    "from keras.constraints import MaxNorm\n",
    "from keras.optimizers import SGD, Adam\n",
    "from keras.layers import Conv2D\n",
    "from keras.layers import MaxPooling2D\n",
    "from keras.utils import image_dataset_from_directory\n",
    "from keras import backend as K\n",
    "\n",
    "\n",
    "from keras.models import Model\n",
    "from keras.layers import Input, Dense\n",
    "\n",
    "from keras.models import load_model\n",
    "import tensorflow as tf\n",
    "\n",
    "from keras.applications import ResNet50\n",
    "\n",
    "from pathlib import Path\n",
    "\n",
    "\n",
    "# Import function to plot the confussion matrix\n",
    "import plotcm"
   ]
  },
  {
   "cell_type": "markdown",
   "metadata": {
    "id": "acQvmDp6hxEt"
   },
   "source": [
    "### Configuration parameters\n",
    "Configuration values of different parts of the solution. You should change some of them to obtain better results."
   ]
  },
  {
   "cell_type": "code",
   "execution_count": 11,
   "metadata": {
    "id": "qO5OSJcghxEu"
   },
   "outputs": [],
   "source": [
    "# Randomize the initial network weights\n",
    "random_seed = True\n",
    "\n",
    "# Paths to where training, testing, and validation images are\n",
    "database_dir = '/content/gdrive/MyDrive/2023-2024_VADL_L5_notebook/MIT-CBCL'\n",
    "train_dir = '/content/gdrive/MyDrive/2023-2024_VADL_L5_notebook/MIT-CBCL/train'\n",
    "val_dir = '/content/gdrive/MyDrive/2023-2024_VADL_L5_notebook/MIT-CBCL/val'\n",
    "test_dir = '/content/gdrive/MyDrive/2023-2024_VADL_L5_notebook/MIT-CBCL/test'\n",
    "\n",
    "# Directory where to store weights of the model and results\n",
    "experiment_rootdir = \"./results/\"\n",
    "# Create experiment directory if it does not exists\n",
    "if not os.path.exists(experiment_rootdir):\n",
    "    os.makedirs(experiment_rootdir)\n",
    "\n",
    "version = 'Prueba'\n",
    "weights_path = f\"weights_{version}.h5\" # Name of the file to store the weights\n",
    "weights_file = Path(weights_path)\n",
    "\n",
    "# Output dimension (number of sublects in our problem)\n",
    "num_classes = 6\n",
    "\n",
    "# Name of each gesture of the database\n",
    "CLASSES = ['Alternative', 'Pop', 'Rock', 'Dance', 'Classical', 'Techno']\n",
    "\n",
    "# Parameters that characterize the images\n",
    "img_height = 480\n",
    "img_width = 640\n",
    "img_channels = 3 # although some images could be rgb, we work with grayscale images\n",
    "color_mode = 'rgb'"
   ]
  },
  {
   "cell_type": "markdown",
   "source": [
    "##Configuration of parameters and train, val and test datasets"
   ],
   "metadata": {
    "id": "HlekhinYlXrA"
   }
  },
  {
   "cell_type": "code",
   "source": [
    "# Parameters that configures the training process\n",
    "batch_size = 1 # Batch size\n",
    "epochs = 5 # Number of epochs. Set to 20 for this work\n",
    "initial_lr = 1e-5 # Learning rate\n",
    "\n",
    "# 1. Generate train dataset (ds) from directory of samples\n",
    "train_ds = image_dataset_from_directory(directory=train_dir,\n",
    "                                        label_mode = 'categorical',\n",
    "                                        class_names=CLASSES,\n",
    "                                        batch_size=batch_size,\n",
    "                                        color_mode=color_mode,\n",
    "                                        image_size=(img_width,img_height), shuffle=True)\n",
    "\n",
    "# 2. Generate validation dataset (ds) from directory of samples\n",
    "val_ds  = image_dataset_from_directory(directory=val_dir,\n",
    "                                       label_mode = 'categorical',\n",
    "                                       class_names=CLASSES,\n",
    "                                       batch_size=batch_size,\n",
    "                                       color_mode=color_mode,\n",
    "                                       image_size=(img_width,img_height))\n",
    "\n",
    "# 3. Generate test dataset (ds) from directory of samples\n",
    "test_ds = image_dataset_from_directory(directory=test_dir,\n",
    "                                       label_mode = 'categorical',\n",
    "                                       class_names=CLASSES,\n",
    "                                       batch_size=batch_size,\n",
    "                                       color_mode=color_mode,\n",
    "                                       image_size=(img_width,img_height),\n",
    "                                       shuffle = False)"
   ],
   "metadata": {
    "id": "1jCmerTZldzN"
   },
   "execution_count": null,
   "outputs": []
  },
  {
   "cell_type": "markdown",
   "source": [
    "##Function def for plots"
   ],
   "metadata": {
    "id": "Yx6J0q-tm0CO"
   }
  },
  {
   "cell_type": "code",
   "source": [
    "def plot_accuracy_loss(history):\n",
    "  # 1. Plot accuracy\n",
    "  plt.figure()\n",
    "  plt.plot(history.history['categorical_accuracy'])\n",
    "  plt.plot(history.history['val_categorical_accuracy'])\n",
    "  plt.title('model accuracy')\n",
    "  plt.ylabel('accuracy')\n",
    "  plt.xlabel('epoch')\n",
    "  plt.legend(['train', 'test'], loc='upper left')\n",
    "\n",
    "  # Save the figure\n",
    "  fig_save_path = os.path.join(experiment_rootdir, f\"accuracy_{version}.png\")\n",
    "  plt.savefig(fig_save_path)\n",
    "\n",
    "  # Show figure\n",
    "  plt.show()\n",
    "\n",
    "  # 2. Plot loss\n",
    "  plt.figure()\n",
    "  plt.plot(history.history['loss'])\n",
    "  plt.plot(history.history['val_loss'])\n",
    "  plt.title('model loss')\n",
    "  plt.ylabel('loss')\n",
    "  plt.xlabel('epoch')\n",
    "  plt.legend(['train', 'test'], loc='upper left')\n",
    "  fig_save_path = os.path.join(experiment_rootdir, f\"loss_{version}.png\")\n",
    "  plt.savefig(fig_save_path)\n",
    "  plt.show()"
   ],
   "metadata": {
    "id": "zy99qgSFm30X"
   },
   "execution_count": null,
   "outputs": []
  },
  {
   "cell_type": "markdown",
   "metadata": {
    "id": "4vxujQd_hxEu"
   },
   "source": [
    "# Training process"
   ]
  },
  {
   "cell_type": "markdown",
   "metadata": {
    "id": "f_AbmfZWhxEv"
   },
   "source": [
    "# Create many models\n",
    "\n"
   ]
  },
  {
   "cell_type": "markdown",
   "source": [
    "## VGG-16"
   ],
   "metadata": {
    "id": "eSyy37I-gRn5"
   }
  },
  {
   "cell_type": "code",
   "execution_count": 12,
   "metadata": {
    "id": "LV2RuydXhxEv"
   },
   "outputs": [],
   "source": [
    "def VGG16(img_width,img_height,img_channels):\n",
    "\t#  dropout rate for FC layers\n",
    "\tdropout=0.5\n",
    "\n",
    "\t# CNN architecture\n",
    "\tinput_image = Input(shape=(img_width,img_height,img_channels))\n",
    "\tx1 = Conv2D(64, (3, 3),padding='same', activation='relu')(input_image)\n",
    "\tx1 = Conv2D(64, (3, 3),padding='same', activation='relu')(x1)\n",
    "\tx1 = MaxPooling2D((2, 2))(x1)\n",
    "\tx1 = Conv2D(128, (3, 3),padding='same', activation='relu')(x1)\n",
    "\tx1 = Conv2D(128, (3, 3),padding='same', activation='relu')(x1)\n",
    "\tx1 = MaxPooling2D((2, 2))(x1)\n",
    "\tx1 = Conv2D(256, (3, 3),padding='same', activation='relu')(x1)\n",
    "\tx1 = Conv2D(256, (3, 3),padding='same', activation='relu')(x1)\n",
    "\tx1 = Conv2D(256, (1, 1),padding='same', activation='relu')(x1)\n",
    "\tx1 = MaxPooling2D((2, 2))(x1)\n",
    "\tx1 = Conv2D(512, (3, 3),padding='same', activation='relu')(x1)\n",
    "\tx1 = Conv2D(512, (3, 3),padding='same', activation='relu')(x1)\n",
    "\tx1 = Conv2D(512, (1, 1),padding='same', activation='relu')(x1)\n",
    "\tx1 = MaxPooling2D((2, 2))(x1)\n",
    "\tx1 = Conv2D(512, (3, 3),padding='same', activation='relu')(x1)\n",
    "\tx1 = Conv2D(512, (3, 3),padding='same', activation='relu')(x1)\n",
    "\tx1 = Conv2D(512, (1, 1),padding='same', activation='relu')(x1)\n",
    "\tx1 = MaxPooling2D((2, 2))(x1)\n",
    "\n",
    "\tx1 = Flatten()(x1)\n",
    "\n",
    "\tx=Dense(4096, activation='relu', kernel_constraint=MaxNorm(3))(x1)\n",
    "\tx=Dropout(dropout)(x)\n",
    "\tx=Dense(4096, activation='relu', kernel_constraint=MaxNorm(3))(x)\n",
    "\tx=Dropout(dropout)(x)\n",
    "\tout= Dense(num_classes, activation='softmax')(x)\n",
    "\n",
    "\tmodel = Model(inputs = input_image, outputs = out);\n",
    "\n",
    "\treturn model\n",
    "\n",
    "model = VGG16(img_width,img_height,img_channels)\n",
    "\n"
   ]
  },
  {
   "cell_type": "markdown",
   "source": [
    "## RestNet"
   ],
   "metadata": {
    "id": "9e1g3e3ego7r"
   }
  },
  {
   "cell_type": "code",
   "source": [
    "def RestNet (img_width,img_height,img_channels):\n",
    "  dropout=0.5 # Para evitar que haya overfitting cancela algunas conexiones entre las neuronas aleatoriamente.\n",
    "\n",
    "  # CNN architecture\n",
    "  input_image = Input(shape=(img_width,img_height,img_channels))\n",
    "  x0 = Conv2D(64, (3, 3),padding='same', activation='relu')(input_image)\n",
    "  x1 = Conv2D(64, (3, 3),padding='same', activation='relu')(x0)\n",
    "  x1 = MaxPooling2D((2, 2))(x1)\n",
    "  x2 = Conv2D(128, (3, 3),padding='same', activation='relu')(x1)\n",
    "  x3 = Conv2D(128, (3, 3),padding='same')(x2)\n",
    "  x4 = Add()([x3, x2])\n",
    "  x4 = Activation('relu')(x4)\n",
    "  x4 = MaxPooling2D((2, 2))(x4)\n",
    "  x4 = Conv2D(256, (3, 3),padding='same', activation='relu')(x4)\n",
    "  x5 = Conv2D(256, (3, 3),padding='same', activation='relu')(x4)\n",
    "  x5 = Conv2D(256, (1, 1),padding='same')(x5)\n",
    "  x6 = Add()([x5, x4])\n",
    "  x6 = Activation('relu')(x6)\n",
    "  x6 = MaxPooling2D((2, 2))(x6)\n",
    "  x6 = Conv2D(512, (3, 3),padding='same', activation='relu')(x6)\n",
    "  x7 = Conv2D(512, (3, 3),padding='same', activation='relu')(x6)\n",
    "  x7 = Conv2D(512, (1, 1),padding='same')(x7)\n",
    "  x8 = Add()([x7, x6])\n",
    "  x8 = Activation('relu')(x8)\n",
    "  x8 = MaxPooling2D((2, 2))(x8)\n",
    "  x8 = Conv2D(512, (3, 3),padding='same', activation='relu')(x8)\n",
    "  x9 = Conv2D(512, (3, 3),padding='same', activation='relu')(x8)\n",
    "  x9 = Conv2D(512, (1, 1),padding='same')(x9)\n",
    "  x10 = Add()([x9, x8])\n",
    "  x10 = Activation('relu')(x10)\n",
    "  x10 = MaxPooling2D((2, 2))(x10)\n",
    "  x10 = Flatten()(x10)\n",
    "\n",
    "  x=Dense(4096, activation='relu', kernel_constraint=MaxNorm(3))(x10)\n",
    "  x=Dropout(dropout)(x)\n",
    "  x=Dense(4096, activation='relu', kernel_constraint=MaxNorm(3))(x)\n",
    "  x=Dropout(dropout)(x)\n",
    "  out= Dense(num_classes, activation='softmax')(x)\n",
    "\n",
    "  model = Model(inputs = input_image, outputs = out);\n",
    "\n",
    "  return model"
   ],
   "metadata": {
    "id": "c-63WTaigsY9"
   },
   "execution_count": 15,
   "outputs": []
  },
  {
   "cell_type": "markdown",
   "source": [
    "## Model execution"
   ],
   "metadata": {
    "id": "Mn9iTkKthi13"
   }
  },
  {
   "cell_type": "code",
   "source": [
    "#Load parameters\n",
    "if weights_file.is_file():\n",
    "\tmodel.load_weights(weights_path)\n",
    "\n",
    "#Model\n",
    "model = RestNet(img_width,img_height,img_channels)\n",
    "\n",
    "# Print the architecture of the model\n",
    "model.summary()"
   ],
   "metadata": {
    "colab": {
     "base_uri": "https://localhost:8080/"
    },
    "id": "V9Yx3WzqgnKl",
    "outputId": "a5345b7f-6f99-4996-ae79-9b4329113322"
   },
   "execution_count": 16,
   "outputs": [
    {
     "output_type": "stream",
     "name": "stdout",
     "text": [
      "Model: \"model_3\"\n",
      "__________________________________________________________________________________________________\n",
      " Layer (type)                Output Shape                 Param #   Connected to                  \n",
      "==================================================================================================\n",
      " input_5 (InputLayer)        [(None, 150, 150, 1)]        0         []                            \n",
      "                                                                                                  \n",
      " conv2d_52 (Conv2D)          (None, 150, 150, 64)         640       ['input_5[0][0]']             \n",
      "                                                                                                  \n",
      " conv2d_53 (Conv2D)          (None, 150, 150, 64)         36928     ['conv2d_52[0][0]']           \n",
      "                                                                                                  \n",
      " max_pooling2d_20 (MaxPooli  (None, 75, 75, 64)           0         ['conv2d_53[0][0]']           \n",
      " ng2D)                                                                                            \n",
      "                                                                                                  \n",
      " conv2d_54 (Conv2D)          (None, 75, 75, 128)          73856     ['max_pooling2d_20[0][0]']    \n",
      "                                                                                                  \n",
      " conv2d_55 (Conv2D)          (None, 75, 75, 128)          147584    ['conv2d_54[0][0]']           \n",
      "                                                                                                  \n",
      " add_4 (Add)                 (None, 75, 75, 128)          0         ['conv2d_55[0][0]',           \n",
      "                                                                     'conv2d_54[0][0]']           \n",
      "                                                                                                  \n",
      " activation_4 (Activation)   (None, 75, 75, 128)          0         ['add_4[0][0]']               \n",
      "                                                                                                  \n",
      " max_pooling2d_21 (MaxPooli  (None, 37, 37, 128)          0         ['activation_4[0][0]']        \n",
      " ng2D)                                                                                            \n",
      "                                                                                                  \n",
      " conv2d_56 (Conv2D)          (None, 37, 37, 256)          295168    ['max_pooling2d_21[0][0]']    \n",
      "                                                                                                  \n",
      " conv2d_57 (Conv2D)          (None, 37, 37, 256)          590080    ['conv2d_56[0][0]']           \n",
      "                                                                                                  \n",
      " conv2d_58 (Conv2D)          (None, 37, 37, 256)          65792     ['conv2d_57[0][0]']           \n",
      "                                                                                                  \n",
      " add_5 (Add)                 (None, 37, 37, 256)          0         ['conv2d_58[0][0]',           \n",
      "                                                                     'conv2d_56[0][0]']           \n",
      "                                                                                                  \n",
      " activation_5 (Activation)   (None, 37, 37, 256)          0         ['add_5[0][0]']               \n",
      "                                                                                                  \n",
      " max_pooling2d_22 (MaxPooli  (None, 18, 18, 256)          0         ['activation_5[0][0]']        \n",
      " ng2D)                                                                                            \n",
      "                                                                                                  \n",
      " conv2d_59 (Conv2D)          (None, 18, 18, 512)          1180160   ['max_pooling2d_22[0][0]']    \n",
      "                                                                                                  \n",
      " conv2d_60 (Conv2D)          (None, 18, 18, 512)          2359808   ['conv2d_59[0][0]']           \n",
      "                                                                                                  \n",
      " conv2d_61 (Conv2D)          (None, 18, 18, 512)          262656    ['conv2d_60[0][0]']           \n",
      "                                                                                                  \n",
      " add_6 (Add)                 (None, 18, 18, 512)          0         ['conv2d_61[0][0]',           \n",
      "                                                                     'conv2d_59[0][0]']           \n",
      "                                                                                                  \n",
      " activation_6 (Activation)   (None, 18, 18, 512)          0         ['add_6[0][0]']               \n",
      "                                                                                                  \n",
      " max_pooling2d_23 (MaxPooli  (None, 9, 9, 512)            0         ['activation_6[0][0]']        \n",
      " ng2D)                                                                                            \n",
      "                                                                                                  \n",
      " conv2d_62 (Conv2D)          (None, 9, 9, 512)            2359808   ['max_pooling2d_23[0][0]']    \n",
      "                                                                                                  \n",
      " conv2d_63 (Conv2D)          (None, 9, 9, 512)            2359808   ['conv2d_62[0][0]']           \n",
      "                                                                                                  \n",
      " conv2d_64 (Conv2D)          (None, 9, 9, 512)            262656    ['conv2d_63[0][0]']           \n",
      "                                                                                                  \n",
      " add_7 (Add)                 (None, 9, 9, 512)            0         ['conv2d_64[0][0]',           \n",
      "                                                                     'conv2d_62[0][0]']           \n",
      "                                                                                                  \n",
      " activation_7 (Activation)   (None, 9, 9, 512)            0         ['add_7[0][0]']               \n",
      "                                                                                                  \n",
      " max_pooling2d_24 (MaxPooli  (None, 4, 4, 512)            0         ['activation_7[0][0]']        \n",
      " ng2D)                                                                                            \n",
      "                                                                                                  \n",
      " flatten_4 (Flatten)         (None, 8192)                 0         ['max_pooling2d_24[0][0]']    \n",
      "                                                                                                  \n",
      " dense_9 (Dense)             (None, 4096)                 3355852   ['flatten_4[0][0]']           \n",
      "                                                          8                                       \n",
      "                                                                                                  \n",
      " dropout_6 (Dropout)         (None, 4096)                 0         ['dense_9[0][0]']             \n",
      "                                                                                                  \n",
      " dense_10 (Dense)            (None, 4096)                 1678131   ['dropout_6[0][0]']           \n",
      "                                                          2                                       \n",
      "                                                                                                  \n",
      " dropout_7 (Dropout)         (None, 4096)                 0         ['dense_10[0][0]']            \n",
      "                                                                                                  \n",
      " dense_11 (Dense)            (None, 10)                   40970     ['dropout_7[0][0]']           \n",
      "                                                                                                  \n",
      "==================================================================================================\n",
      "Total params: 60375754 (230.32 MB)\n",
      "Trainable params: 60375754 (230.32 MB)\n",
      "Non-trainable params: 0 (0.00 Byte)\n",
      "__________________________________________________________________________________________________\n"
     ]
    }
   ]
  },
  {
   "cell_type": "markdown",
   "metadata": {
    "id": "Zp_FzEzYhxEv"
   },
   "source": [
    "### Set model training process\n",
    "Configuration of several training decisions:\n",
    "1. Optimizer using `Adam`\n",
    "2. Model training configuration using `compile`. Use a loss and a metric function appropriate for the task\n",
    "3. Creation of the data generator for the training dataset using `image_dataset_from_directory`\n",
    "4. Creation of the data generator for the validation dataset using `image_dataset_from_directory`"
   ]
  },
  {
   "cell_type": "code",
   "execution_count": 17,
   "metadata": {
    "colab": {
     "base_uri": "https://localhost:8080/"
    },
    "id": "FAy4roRXhxEw",
    "outputId": "6d1aa3a8-14e9-4523-d714-51cd3c538bf7"
   },
   "outputs": [
    {
     "output_type": "stream",
     "name": "stdout",
     "text": [
      "Found 1210 files belonging to 10 classes.\n",
      "Found 400 files belonging to 10 classes.\n"
     ]
    }
   ],
   "source": [
    "# Set random seed\n",
    "if random_seed:\n",
    "    seed = np.random.randint(0,2*31-1)\n",
    "else:\n",
    "    seed = 5\n",
    "np.random.seed(seed)\n",
    "tf.random.set_seed(seed)\n",
    "\n",
    "\n",
    "# 1. Configure optimizer\n",
    "adam = Adam(learning_rate=initial_lr)\n",
    "\n",
    "# 2. Configure training process\n",
    "model.compile(loss='categorical_crossentropy', optimizer=adam, metrics=['categorical_accuracy'])\n"
   ]
  },
  {
   "cell_type": "markdown",
   "metadata": {
    "id": "A6qILA4XhxEw"
   },
   "source": [
    "### Train the model\n",
    "1. Load parameters from previous trainings if they exist.\n",
    "2. Fit the model\n",
    "3. Save the weights"
   ]
  },
  {
   "cell_type": "code",
   "execution_count": 18,
   "metadata": {
    "colab": {
     "base_uri": "https://localhost:8080/"
    },
    "id": "pqctz0VshxEw",
    "outputId": "e0ef1a1f-9a09-4d4a-84e3-08505298b42e"
   },
   "outputs": [
    {
     "output_type": "stream",
     "name": "stdout",
     "text": [
      "Impossible to find weight path. Returning untrained model\n",
      "Epoch 1/5\n",
      "1210/1210 [==============================] - 266s 209ms/step - loss: 2.2196 - categorical_accuracy: 0.4719 - val_loss: 0.3194 - val_categorical_accuracy: 0.9175\n",
      "Epoch 2/5\n",
      "1210/1210 [==============================] - 51s 43ms/step - loss: 0.4181 - categorical_accuracy: 0.8504 - val_loss: 0.1100 - val_categorical_accuracy: 0.9425\n",
      "Epoch 3/5\n",
      "1210/1210 [==============================] - 49s 41ms/step - loss: 0.2100 - categorical_accuracy: 0.9289 - val_loss: 0.0226 - val_categorical_accuracy: 0.9950\n",
      "Epoch 4/5\n",
      "1210/1210 [==============================] - 55s 45ms/step - loss: 0.1359 - categorical_accuracy: 0.9512 - val_loss: 0.0094 - val_categorical_accuracy: 0.9975\n",
      "Epoch 5/5\n",
      "1210/1210 [==============================] - 51s 42ms/step - loss: 0.0660 - categorical_accuracy: 0.9777 - val_loss: 0.0129 - val_categorical_accuracy: 0.9950\n"
     ]
    }
   ],
   "source": [
    "# Load pretrained model\n",
    "weights_load_path = os.path.join(experiment_rootdir, weights_path)\n",
    "if weights_load_path:\n",
    "    try:\n",
    "        model.load_weights(weights_load_path)\n",
    "        print(\"Loaded model from {}\".format(weights_load_path))\n",
    "    except:\n",
    "        print(\"Impossible to find weight path. Returning untrained model\")\n",
    "\n",
    "# Fit the model\n",
    "history = model.fit(train_ds, validation_data=val_ds, epochs=epochs, batch_size=batch_size)\n",
    "\n",
    "# Save weights\n",
    "weights_save_path = os.path.join(experiment_rootdir, weights_path)\n",
    "model.save_weights(weights_save_path)"
   ]
  },
  {
   "cell_type": "markdown",
   "metadata": {
    "id": "qesOAn11hxEw"
   },
   "source": [
    "### Plot history for accuracy and loss for the training  process"
   ]
  },
  {
   "cell_type": "code",
   "execution_count": 26,
   "metadata": {
    "colab": {
     "base_uri": "https://localhost:8080/",
     "height": 927
    },
    "id": "8f60KHH6hxEx",
    "outputId": "76b8a2c1-955d-4c85-c02f-8fe1d4915be1"
   },
   "outputs": [
    {
     "output_type": "display_data",
     "data": {
      "text/plain": [
       "<Figure size 640x480 with 1 Axes>"
      ],
      "image/png": "[encoded data removed]"
     },
     "metadata": {}
    },
    {
     "output_type": "display_data",
     "data": {
      "text/plain": [
       "<Figure size 640x480 with 1 Axes>"
      ],
      "image/png": "[encoded data removed]"
     },
     "metadata": {}
    }
   ],
   "source": [
    "plot_accuracy_loss(history)"
   ]
  },
  {
   "cell_type": "markdown",
   "metadata": {
    "id": "4krKV8PShxEx"
   },
   "source": [
    "# Testing"
   ]
  },
  {
   "cell_type": "markdown",
   "metadata": {
    "id": "racjpVoMhxEy"
   },
   "source": [
    "### Testing process\n",
    "Compute the loss function and accuracy for the test data (using `evaluate`)"
   ]
  },
  {
   "cell_type": "code",
   "execution_count": 22,
   "metadata": {
    "id": "4u4LEvGDhxEy"
   },
   "outputs": [],
   "source": [
    "# Evaluate model\n",
    "scores = model.evaluate(test_ds, verbose=0)\n",
    "print(\"Accuracy: %.2f%%\" % (scores[1]*100))\n",
    "print(\"Loss: %.2f%%\" % scores[0])"
   ]
  },
  {
   "cell_type": "markdown",
   "metadata": {
    "id": "Q8nKRlglhxEy"
   },
   "source": [
    "### Generation of the predictions and the confusion matrix for the test data\n",
    "1.   Compute predictions with `predict`\n",
    "2.   Select the most probable class with `argmax`\n",
    "\n",
    "The confusion matrix will be shown with `plotcm`\n"
   ]
  },
  {
   "cell_type": "code",
   "execution_count": 23,
   "metadata": {
    "colab": {
     "base_uri": "https://localhost:8080/",
     "height": 522
    },
    "id": "vVDE9mRghxEy",
    "outputId": "b6ab047b-dd88-4c82-844f-fba597731dd8"
   },
   "outputs": [
    {
     "output_type": "stream",
     "name": "stdout",
     "text": [
      "420/420 [==============================] - 72s 170ms/step\n"
     ]
    },
    {
     "output_type": "display_data",
     "data": {
      "text/plain": [
       "<Figure size 640x480 with 1 Axes>"
      ],
      "image/png": "[encoded data removed]"
     },
     "metadata": {}
    }
   ],
   "source": [
    "\n",
    "# 1. Get predictions\n",
    "prob_class = model.predict(test_ds, batch_size=batch_size)\n",
    "\n",
    "# 2. Prediced labels\n",
    "y_pred = tf.argmax(prob_class, axis=-1)\n",
    "\n",
    "# Get ground truth\n",
    "y_true = tf.argmax(tf.concat([label for image, label in test_ds], axis=0), axis=1)\n",
    "\n",
    "# Visualize confusion matrix                                           \n",
    "plotcm.plotcm(experiment_rootdir, version, y_true, y_pred, CLASSES, experiment_rootdir, normalize=True)"
   ]
  }
 ],
 "metadata": {
  "accelerator": "GPU",
  "colab": {
   "toc_visible": true,
   "provenance": [],
   "collapsed_sections": [
    "EgU0YiU3hxEs",
    "acQvmDp6hxEt",
    "HlekhinYlXrA",
    "Yx6J0q-tm0CO",
    "eSyy37I-gRn5",
    "9e1g3e3ego7r"
   ]
  },
  "kernelspec": {
   "display_name": "Python 3",
   "name": "python3"
  },
  "language_info": {
   "codemirror_mode": {
    "name": "ipython",
    "version": 3
   },
   "file_extension": ".py",
   "mimetype": "text/x-python",
   "name": "python",
   "nbconvert_exporter": "python",
   "pygments_lexer": "ipython3",
   "version": "3.11.4"
  }
 },
 "nbformat": 4,
 "nbformat_minor": 0
}
