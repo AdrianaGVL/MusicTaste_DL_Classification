{
 "cells": [
  {
   "cell_type": "markdown",
   "source": [
    "# Recurrent Neural Networks\n",
    "The following Recurrent Neural Networks (RNN) will be used for musical genre classification. This is because the task of classify all the new music that is released nowadays it is impossible to be done by a human being."
   ],
   "metadata": {
    "collapsed": false
   },
   "id": "2522e804074b46ed"
  },
  {
   "cell_type": "markdown",
   "source": [
    "## Initialization"
   ],
   "metadata": {
    "collapsed": false
   },
   "id": "2667a0a502758b16"
  },
  {
   "cell_type": "markdown",
   "source": [
    "### Libraries"
   ],
   "metadata": {
    "collapsed": false
   },
   "id": "6d7d29ed8ed0b68d"
  },
  {
   "cell_type": "code",
   "outputs": [],
   "source": [
    "# Import general purpose python libraries\n",
    "import os\n",
    "from pathlib import Path\n",
    "import numpy as np\n",
    "import tensorflow as tf\n",
    "import keras\n",
    "from keras.layers import LSTM, Bidirectional, Dense, Dropout, Flatten\n",
    "from tensorflow.keras.models import Sequential\n",
    "from keras.optimizers import Adam\n",
    "from keras.utils import image_dataset_from_directory\n",
    "! pip install keras-self-attention\n",
    "from keras_self_attention import SeqSelfAttention\n",
    "\n",
    "import matplotlib.pyplot as plt\n",
    "\n",
    "# Import function to plot the results\n",
    "!pip install seaborn\n",
    "import plots"
   ],
   "metadata": {
    "collapsed": false
   },
   "id": "cd1f72ec122a05f6"
  },
  {
   "cell_type": "markdown",
   "source": [
    "### Data Configuration Parameters\n",
    "Configuration variables related to the data"
   ],
   "metadata": {
    "collapsed": false
   },
   "id": "925e912990d0cb15"
  },
  {
   "cell_type": "code",
   "outputs": [],
   "source": [
    "# Randomize the initial network weights\n",
    "random_seed = True\n",
    "\n",
    "# Paths to where training, testing, and validation images are\n",
    "database_dir = 'dataset_multilabel'\n",
    "train_dir = f'{database_dir}/training/spectrogram'\n",
    "val_dir = f'{database_dir}/val/spectrogram'\n",
    "test_dir = f'{database_dir}/test/spectrogram'\n",
    "\n",
    "# Directory where to store weights of the model and results\n",
    "root_dir = \"results\"\n",
    "# Create root directory for results if it does not exist\n",
    "if not os.path.exists(root_dir):\n",
    "    os.makedirs(root_dir)\n",
    "\n",
    "# Input dimension (number of subjects in our problem)\n",
    "num_classes = 6\n",
    "\n",
    "# Name of each gesture of the database\n",
    "# CLASSES = [x for x in os.listdir(train_dir) if os.path.isdir(os.path.join(train_dir, x))]\n",
    "CLASSES = ['Alternative', 'Pop', 'Rock', 'Dance', 'Classical', 'Techno']\n",
    "print(f'The classess to classify are: {CLASSES}')\n",
    "\n",
    "# Parameters that characterise the spectrogram\n",
    "img_height = 369\n",
    "img_width = 496\n",
    "img_channels = 1\n",
    "color_mode = 'grayscale'"
   ],
   "metadata": {
    "collapsed": false
   },
   "id": "7550d632da5dd4da"
  },
  {
   "cell_type": "markdown",
   "source": [
    "### Configuration Training Parameters"
   ],
   "metadata": {
    "collapsed": false
   },
   "id": "5c8d7c042516f850"
  },
  {
   "cell_type": "code",
   "outputs": [],
   "source": [
    "# Parameters that configures the training process\n",
    "batch_size = 20  # Batch size\n",
    "epochs = 50  # Number of epochs\n",
    "initial_lr = 1e-5   # Learning rate\n",
    "seed = 42  # Random number\n",
    "num_layers = 4\n",
    "neu1 = 64\n",
    "neu2 = 128\n",
    "neu3 = 512\n",
    "modelCNN = 'VGG'  # LSTM or BLSTM\n",
    "version = ''\n",
    "if num_layers == 2:\n",
    "    version = f'BS{batch_size}_E{epochs}_LR{initial_lr}_Layers{num_layers}_NueronsL1{neu1}_NueronsL2{neu2}'\n",
    "elif num_layers == 1:\n",
    "    version = f'BS{batch_size}_E{epochs}_LR{initial_lr}_Layers{num_layers}_NueronsL1{neu1}'\n",
    "elif num_layers == 3:\n",
    "    version = f'BS{batch_size}_E{epochs}_LR{initial_lr}_Layers{num_layers}_NueronsL1{neu1}_NueronsL2{neu2}_NueronsL3{neu3}'\n",
    "else:\n",
    "    version = f'BS{batch_size}_E{epochs}_LR{initial_lr}_Layers{num_layers}_ALL'\n",
    "experiment_dir = f'{root_dir}/Multilabel_{modelCNN}'\n",
    "\n",
    "# Create experiment directory if it does not exist\n",
    "if not os.path.exists(experiment_dir):\n",
    "    os.makedirs(experiment_dir)\n",
    "\n",
    "# Set random seed\n",
    "np.random.seed(seed)\n",
    "tf.random.set_seed(seed)"
   ],
   "metadata": {
    "collapsed": false
   },
   "id": "918a1df498c48c04"
  },
  {
   "cell_type": "markdown",
   "source": [
    "### Loading of training, validation and test datasets of images\n",
    "1.   Training dataset\n",
    "2.   Validation dataset\n",
    "3.   Test dataset"
   ],
   "metadata": {
    "collapsed": false
   },
   "id": "b5e9f4905b85faf2"
  },
  {
   "cell_type": "code",
   "outputs": [],
   "source": [
    "# Training labels\n",
    "train_df = pd.read_csv(f'{database_dir}/training_multilabel.csv', delimiter='\\t')\n",
    "train_df['Genres']= train_df['Genres'].apply(lambda x:x.split(\", \"))\n",
    "# train_df['Genres'] = mlb.fit_transform(train_df['Genres'])\n",
    "train_df['TRACK_ID'] = train_df['TRACK_ID'].astype(str)\n",
    "\n",
    "# Validation labels\n",
    "val_df = pd.read_csv(f'{database_dir}/validation_multilabel.csv', delimiter='\\t')\n",
    "val_df['Genres']= val_df['Genres'].apply(lambda x:x.split(\", \"))\n",
    "val_df['TRACK_ID'] = val_df['TRACK_ID'].astype(str)\n",
    "\n",
    "# Test labels\n",
    "test_df = pd.read_csv(f'{database_dir}/test_multilabel.csv', delimiter='\\t')\n",
    "test_df['Genres'] = test_df['Genres'].apply(lambda x:x.split(\", \"))\n",
    "test_df['TRACK_ID'] = test_df['TRACK_ID'].astype(str)"
   ],
   "metadata": {
    "collapsed": false
   },
   "id": "612982827b47bcbe"
  },
  {
   "cell_type": "code",
   "outputs": [],
   "source": [
    "train_generator=ImageDataGenerator().flow_from_dataframe(\n",
    "    dataframe=train_df,\n",
    "    directory=train_dir,\n",
    "    x_col='TRACK_ID',\n",
    "    y_col='Genres',\n",
    "    batch_size=batch_size,\n",
    "    seed=seed,\n",
    "    shuffle=True,\n",
    "    class_mode='categorical',\n",
    "    classes=CLASSES,\n",
    "    target_size=(img_height, img_width))\n",
    "\n",
    "val_generator=ImageDataGenerator().flow_from_dataframe(\n",
    "    dataframe=val_df,\n",
    "    directory=val_dir,\n",
    "    x_col='TRACK_ID',\n",
    "    y_col='Genres',\n",
    "    batch_size=batch_size,\n",
    "    seed=seed,\n",
    "    shuffle=True,\n",
    "    class_mode='categorical',\n",
    "    classes=CLASSES,\n",
    "    target_size=(img_height, img_width))\n",
    "\n",
    "test_generator=ImageDataGenerator().flow_from_dataframe(\n",
    "    dataframe=test_df,\n",
    "    directory=test_dir,\n",
    "    x_col='TRACK_ID',\n",
    "    y_col='Genres',\n",
    "    batch_size=batch_size,\n",
    "    seed=seed,\n",
    "    shuffle=False,\n",
    "    class_mode='categorical',\n",
    "    classes=CLASSES,\n",
    "    target_size=(img_height, img_width))"
   ],
   "metadata": {
    "collapsed": false
   },
   "id": "a478fc7b6840ade8"
  },
  {
   "cell_type": "markdown",
   "source": [
    "### Example of a sprectrogram from the training dataset"
   ],
   "metadata": {
    "collapsed": false
   },
   "id": "ad355f1650a994c3"
  },
  {
   "cell_type": "code",
   "outputs": [],
   "source": [
    "images, labels = train_generator.next()\n",
    "\n",
    "# Muestra la primera imagen del lote\n",
    "plt.imshow(images[0].astype('uint8'))\n",
    "plt.axis('off')  # Desactiva los ejes\n",
    "plt.show()\n",
    "print(images[0].shape)"
   ],
   "metadata": {
    "collapsed": false
   },
   "id": "fa78a3eb6c33613c"
  },
  {
   "cell_type": "markdown",
   "source": [
    "## Training process\n",
    "#### Available Models: LSTM & BiLSTM"
   ],
   "metadata": {
    "collapsed": false
   },
   "id": "ed022b709ca0a085"
  },
  {
   "cell_type": "markdown",
   "source": [
    "### Long Short-Term Memory (LSTM)"
   ],
   "metadata": {
    "collapsed": false
   },
   "id": "8fdd391d1e679a5"
  },
  {
   "cell_type": "code",
   "outputs": [],
   "source": [
    "def lstm(height, width, out_dim, neurons):\n",
    "    # Sequential Model\n",
    "    model_lstm = Sequential()\n",
    "    model_lstm.add(LSTM(neurons, input_shape=(height, width), activation='tanh', return_sequences=True))\n",
    "    model_lstm.add(SeqSelfAttention(attention_activation='sigmoid'))\n",
    "    #model_lstm.add(Flatten())\n",
    "    model_lstm.add(Dropout(0.2))\n",
    "\n",
    "    model_lstm.add(LSTM(32, activation='tanh'))\n",
    "    model_lstm.add(SeqSelfAttention(attention_activation='sigmoid'))\n",
    "    model_lstm.add(Dropout(0.2))\n",
    "\n",
    "    model_lstm.add(Dense(32, activation='relu'))\n",
    "    model_lstm.add(Dropout(0.2))\n",
    "\n",
    "    model_lstm.add(Dense(out_dim, activation='softmax'))\n",
    "\n",
    "    return model_lstm"
   ],
   "metadata": {
    "collapsed": false
   },
   "id": "44ba902d65a41181"
  },
  {
   "cell_type": "markdown",
   "source": [
    "### Bidirectional Long Short-Term Memory (BiLSTM)"
   ],
   "metadata": {
    "collapsed": false
   },
   "id": "59bdb8b69ea5936d"
  },
  {
   "cell_type": "code",
   "outputs": [],
   "source": [
    "def bi_lstm(height, width, out_dim, neurons):\n",
    "    # Sequential Model\n",
    "    model_bilstm = Sequential()\n",
    "    model_bilstm.add(Bidirectional(LSTM(neurons, input_shape=(height, width), activation='tanh', return_sequences=True)))\n",
    "    model_bilstm.add(SeqSelfAttention(attention_activation='sigmoid'))\n",
    "    #model_bilstm.add(Flatten())\n",
    "    model_bilstm.add(Dropout(0.2))\n",
    "\n",
    "    model_bilstm.add(Bidirectional(LSTM(neurons, activation='tanh')))\n",
    "    model_bilstm.add(SeqSelfAttention(attention_activation='sigmoid'))\n",
    "    model_bilstm.add(Dropout(0.2))\n",
    "\n",
    "    model_bilstm.add(Dense(64, activation='relu'))\n",
    "    model_bilstm.add(Dropout(0.2))\n",
    "\n",
    "    model_bilstm.add(Dense(out_dim, activation='softmax'))\n",
    "\n",
    "    # Explicitly build the model\n",
    "    model_bilstm.build(input_shape=(None,height, width))\n",
    "    \n",
    "    return model_bilstm"
   ],
   "metadata": {
    "collapsed": false
   },
   "id": "3cbb5d0ec85e7d9d"
  },
  {
   "cell_type": "markdown",
   "source": [
    "## Model execution"
   ],
   "metadata": {
    "collapsed": false
   },
   "id": "65eb2a98c83bb14"
  },
  {
   "cell_type": "code",
   "outputs": [],
   "source": [
    "#Model\n",
    "model = None\n",
    "if modelRNN == 'LSTM':\n",
    "    model = lstm(img_height, img_width, num_classes, num_neurons)\n",
    "elif modelRNN == 'BiLSTM':\n",
    "    model = bi_lstm(img_height, img_width, num_classes, num_neurons)\n",
    "else:\n",
    "    print('Wrong model selection or Model no available\\n')\n",
    "\n",
    "# Print the architecture of the model\n",
    "model.summary()"
   ],
   "metadata": {
    "collapsed": false
   },
   "id": "7b65b984f2ec9f8f"
  },
  {
   "cell_type": "markdown",
   "source": [
    "## Set model training process\n",
    "#### Configuration of several training decisions:\n",
    "1. Optimizer using `Adam`\n",
    "2. Model training configuration using `compile` with `binary_crossentropy` due to the classification labeling"
   ],
   "metadata": {
    "collapsed": false
   },
   "id": "f9e300cc5ef3905f"
  },
  {
   "cell_type": "code",
   "outputs": [],
   "source": [
    "# 1. Configure optimizer\n",
    "adam = Adam(learning_rate=initial_lr)\n",
    "\n",
    "# 2. Configure training process\n",
    "model.compile(loss = ['binary_crossentropy'],optimizer=adam, metrics=['accuracy'])"
   ],
   "metadata": {
    "collapsed": false
   },
   "id": "98709a1ead796d9a"
  },
  {
   "cell_type": "markdown",
   "source": [
    "## Train the model\n",
    "1. Load parameters from previous trainings if they exist.\n",
    "2. Fit the model\n",
    "3. Save the weights"
   ],
   "metadata": {
    "collapsed": false
   },
   "id": "e78053b63ee2028f"
  },
  {
   "cell_type": "code",
   "outputs": [],
   "source": [
    "# Load pretrained model\n",
    "weights_path = f\"weights_{version}.h5\" # Name of the file to store the weights\n",
    "weights_file = Path(weights_path)\n",
    "weights_load_path = f'{experiment_dir}/{weights_path}'\n",
    "#if weights_load_path:\n",
    "#    try:\n",
    "#        model.load_weights(weights_load_path)\n",
    "#        print(\"Loaded model from {}\".format(weights_load_path))\n",
    "#    except:\n",
    "#        print(\"Impossible to find weight path. Returning untrained model\")\n",
    "\n",
    "# Fit the model\n",
    "history = model.fit(train_generator, validation_data=val_generator, epochs=epochs, batch_size=batch_size)\n",
    "\n",
    "# Save weights\n",
    "# weights_save_path = os.path.join(experiment_dir, weights_path)\n",
    "# model.save_weights(weights_save_path)"
   ],
   "metadata": {
    "collapsed": false
   },
   "id": "c2d00e9a46331fe7"
  },
  {
   "cell_type": "markdown",
   "source": [
    "## Training Results\n",
    "Accuracy and Loss obtained along the training process"
   ],
   "metadata": {
    "collapsed": false
   },
   "id": "9c3d96b69c6444ea"
  },
  {
   "cell_type": "code",
   "outputs": [],
   "source": [
    "plots.accloss(history, modelCNN, experiment_dir, version)"
   ],
   "metadata": {
    "collapsed": false
   },
   "id": "b8e731ffa5dd76bb"
  },
  {
   "cell_type": "markdown",
   "source": [
    "## Testing\n",
    "### Model Testing\n",
    "1. Compute the loss function and accuracy for the test data\n",
    "2. Confusion Matrix obtained from testing results"
   ],
   "metadata": {
    "collapsed": false
   },
   "id": "35745f39ce301cc9"
  },
  {
   "cell_type": "code",
   "outputs": [],
   "source": [
    "# y_test\n",
    "mlb = MultiLabelBinarizer()\n",
    "y_test = test_generator.labels\n",
    "y_test = mlb.fit_transform(y_test)\n",
    "\n",
    "# Evaluate model\n",
    "scores = model.evaluate(test_generator, verbose=0)\n",
    "print(\"Accuracy: %.2f%%\" % (scores[1]*100))\n",
    "print(\"Loss: %.2f\" % scores[0])\n",
    "\n",
    "# Obtain results to present the confusion matrix\n",
    "prob_class = model.predict(test_generator, batch_size=batch_size)\n",
    "# Convert the probabilities into binary classes\n",
    "threshold = 0.5 \n",
    "y_pred = tf.cast(tf.math.greater_equal(prob_class, threshold), tf.int32)\n",
    "\n",
    "# Classification Report\n",
    "report = classification_report(y_test, y_pred, output_dict=False, target_names=CLASSES)\n",
    "print(report)\n",
    "\n",
    "# Visualize confusion matrix                                           \n",
    "plots.cm_mutilabel(y_test, y_pred, modelCNN, CLASSES, experiment_dir, version)"
   ],
   "metadata": {
    "collapsed": false
   },
   "id": "f8b1e1c439449bd"
  }
 ],
 "metadata": {},
 "nbformat": 4,
 "nbformat_minor": 5
}
