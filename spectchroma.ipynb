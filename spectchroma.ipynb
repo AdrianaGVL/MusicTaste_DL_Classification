{
 "cells": [
  {
   "cell_type": "code",
   "execution_count": 1,
   "id": "initial_id",
   "metadata": {
    "collapsed": true,
    "ExecuteTime": {
     "end_time": "2023-12-27T11:11:03.782494Z",
     "start_time": "2023-12-27T11:11:03.234866Z"
    }
   },
   "outputs": [],
   "source": [
    "# libraries\n",
    "#import pandas as pd\n",
    "import numpy as np\n",
    "import matplotlib.pyplot as plt\n",
    "import librosa\n",
    "import os\n",
    "from pathlib import Path"
   ]
  },
  {
   "cell_type": "code",
   "outputs": [],
   "source": [
    "# Path to each genre folder\n",
    "parent_path = str(Path(Path.cwd()).parents[4])\n",
    "data_path = main_path = f'{parent_path}/Estudios/Universidad/Máster/PRDL+MLLB/used_dataset/'\n",
    "genres = [x for x in os.listdir(data_path) if os.path.isdir(os.path.join(data_path, x))]"
   ],
   "metadata": {
    "collapsed": false,
    "ExecuteTime": {
     "end_time": "2023-12-27T11:11:51.461417Z",
     "start_time": "2023-12-27T11:11:51.456354Z"
    }
   },
   "id": "2b6ce3e38fba53dc",
   "execution_count": 5
  },
  {
   "cell_type": "code",
   "outputs": [
    {
     "name": "stdout",
     "output_type": "stream",
     "text": [
      "Number of files in Alternative folder: 198\n"
     ]
    },
    {
     "ename": "KeyboardInterrupt",
     "evalue": "",
     "output_type": "error",
     "traceback": [
      "\u001B[0;31m---------------------------------------------------------------------------\u001B[0m",
      "\u001B[0;31mKeyboardInterrupt\u001B[0m                         Traceback (most recent call last)",
      "Cell \u001B[0;32mIn[6], line 17\u001B[0m\n\u001B[1;32m     13\u001B[0m     \u001B[38;5;28;01mcontinue\u001B[39;00m\n\u001B[1;32m     15\u001B[0m \u001B[38;5;28;01melse\u001B[39;00m:\n\u001B[1;32m     16\u001B[0m     \u001B[38;5;66;03m# Audio load\u001B[39;00m\n\u001B[0;32m---> 17\u001B[0m     audio, sr \u001B[38;5;241m=\u001B[39m \u001B[43mlibrosa\u001B[49m\u001B[38;5;241m.\u001B[39mload(\u001B[38;5;124mf\u001B[39m\u001B[38;5;124m'\u001B[39m\u001B[38;5;132;01m{\u001B[39;00mmusic\u001B[38;5;132;01m}\u001B[39;00m\u001B[38;5;124m/\u001B[39m\u001B[38;5;132;01m{\u001B[39;00msong\u001B[38;5;132;01m}\u001B[39;00m\u001B[38;5;124m'\u001B[39m)\n\u001B[1;32m     19\u001B[0m     \u001B[38;5;66;03m# Spectrogram generation\u001B[39;00m\n\u001B[1;32m     20\u001B[0m     fourier_transform \u001B[38;5;241m=\u001B[39m librosa\u001B[38;5;241m.\u001B[39mstft(audio)\n",
      "Cell \u001B[0;32mIn[6], line 17\u001B[0m\n\u001B[1;32m     13\u001B[0m     \u001B[38;5;28;01mcontinue\u001B[39;00m\n\u001B[1;32m     15\u001B[0m \u001B[38;5;28;01melse\u001B[39;00m:\n\u001B[1;32m     16\u001B[0m     \u001B[38;5;66;03m# Audio load\u001B[39;00m\n\u001B[0;32m---> 17\u001B[0m     audio, sr \u001B[38;5;241m=\u001B[39m \u001B[43mlibrosa\u001B[49m\u001B[38;5;241m.\u001B[39mload(\u001B[38;5;124mf\u001B[39m\u001B[38;5;124m'\u001B[39m\u001B[38;5;132;01m{\u001B[39;00mmusic\u001B[38;5;132;01m}\u001B[39;00m\u001B[38;5;124m/\u001B[39m\u001B[38;5;132;01m{\u001B[39;00msong\u001B[38;5;132;01m}\u001B[39;00m\u001B[38;5;124m'\u001B[39m)\n\u001B[1;32m     19\u001B[0m     \u001B[38;5;66;03m# Spectrogram generation\u001B[39;00m\n\u001B[1;32m     20\u001B[0m     fourier_transform \u001B[38;5;241m=\u001B[39m librosa\u001B[38;5;241m.\u001B[39mstft(audio)\n",
      "File \u001B[0;32m_pydevd_bundle/pydevd_cython_darwin_38_64.pyx:1187\u001B[0m, in \u001B[0;36m_pydevd_bundle.pydevd_cython_darwin_38_64.SafeCallWrapper.__call__\u001B[0;34m()\u001B[0m\n",
      "File \u001B[0;32m_pydevd_bundle/pydevd_cython_darwin_38_64.pyx:627\u001B[0m, in \u001B[0;36m_pydevd_bundle.pydevd_cython_darwin_38_64.PyDBFrame.trace_dispatch\u001B[0;34m()\u001B[0m\n",
      "File \u001B[0;32m_pydevd_bundle/pydevd_cython_darwin_38_64.pyx:937\u001B[0m, in \u001B[0;36m_pydevd_bundle.pydevd_cython_darwin_38_64.PyDBFrame.trace_dispatch\u001B[0;34m()\u001B[0m\n",
      "File \u001B[0;32m_pydevd_bundle/pydevd_cython_darwin_38_64.pyx:928\u001B[0m, in \u001B[0;36m_pydevd_bundle.pydevd_cython_darwin_38_64.PyDBFrame.trace_dispatch\u001B[0;34m()\u001B[0m\n",
      "File \u001B[0;32m_pydevd_bundle/pydevd_cython_darwin_38_64.pyx:585\u001B[0m, in \u001B[0;36m_pydevd_bundle.pydevd_cython_darwin_38_64.PyDBFrame.do_wait_suspend\u001B[0;34m()\u001B[0m\n",
      "File \u001B[0;32m~/Library/Application Support/JetBrains/Toolbox/apps/DataSpell/ch-0/233.13135.105/DataSpell.app/Contents/plugins/python-ce/helpers/pydev/pydevd.py:1184\u001B[0m, in \u001B[0;36mPyDB.do_wait_suspend\u001B[0;34m(self, thread, frame, event, arg, send_suspend_message, is_unhandled_exception)\u001B[0m\n\u001B[1;32m   1181\u001B[0m         from_this_thread\u001B[38;5;241m.\u001B[39mappend(frame_id)\n\u001B[1;32m   1183\u001B[0m \u001B[38;5;28;01mwith\u001B[39;00m \u001B[38;5;28mself\u001B[39m\u001B[38;5;241m.\u001B[39m_threads_suspended_single_notification\u001B[38;5;241m.\u001B[39mnotify_thread_suspended(thread_id, stop_reason):\n\u001B[0;32m-> 1184\u001B[0m     \u001B[38;5;28;43mself\u001B[39;49m\u001B[38;5;241;43m.\u001B[39;49m\u001B[43m_do_wait_suspend\u001B[49m\u001B[43m(\u001B[49m\u001B[43mthread\u001B[49m\u001B[43m,\u001B[49m\u001B[43m \u001B[49m\u001B[43mframe\u001B[49m\u001B[43m,\u001B[49m\u001B[43m \u001B[49m\u001B[43mevent\u001B[49m\u001B[43m,\u001B[49m\u001B[43m \u001B[49m\u001B[43marg\u001B[49m\u001B[43m,\u001B[49m\u001B[43m \u001B[49m\u001B[43msuspend_type\u001B[49m\u001B[43m,\u001B[49m\u001B[43m \u001B[49m\u001B[43mfrom_this_thread\u001B[49m\u001B[43m)\u001B[49m\n",
      "File \u001B[0;32m~/Library/Application Support/JetBrains/Toolbox/apps/DataSpell/ch-0/233.13135.105/DataSpell.app/Contents/plugins/python-ce/helpers/pydev/pydevd.py:1199\u001B[0m, in \u001B[0;36mPyDB._do_wait_suspend\u001B[0;34m(self, thread, frame, event, arg, suspend_type, from_this_thread)\u001B[0m\n\u001B[1;32m   1196\u001B[0m             \u001B[38;5;28mself\u001B[39m\u001B[38;5;241m.\u001B[39m_call_mpl_hook()\n\u001B[1;32m   1198\u001B[0m         \u001B[38;5;28mself\u001B[39m\u001B[38;5;241m.\u001B[39mprocess_internal_commands()\n\u001B[0;32m-> 1199\u001B[0m         \u001B[43mtime\u001B[49m\u001B[38;5;241;43m.\u001B[39;49m\u001B[43msleep\u001B[49m\u001B[43m(\u001B[49m\u001B[38;5;241;43m0.01\u001B[39;49m\u001B[43m)\u001B[49m\n\u001B[1;32m   1201\u001B[0m \u001B[38;5;28mself\u001B[39m\u001B[38;5;241m.\u001B[39mcancel_async_evaluation(get_current_thread_id(thread), \u001B[38;5;28mstr\u001B[39m(\u001B[38;5;28mid\u001B[39m(frame)))\n\u001B[1;32m   1203\u001B[0m \u001B[38;5;66;03m# process any stepping instructions\u001B[39;00m\n",
      "\u001B[0;31mKeyboardInterrupt\u001B[0m: "
     ]
    }
   ],
   "source": [
    "# Iteration loop to read every song and obtain the spectrogram and chroma\n",
    "for genre in genres:\n",
    "    # Music path\n",
    "    music = f'{data_path}/{genre}'\n",
    "    songs = os.listdir(music)\n",
    "    print(f'Number of files in {genre} folder: {len(songs)}')\n",
    "    for song in songs:\n",
    "        file, extension = os.path.splitext(song)\n",
    "        if not extension == '.mp3': # Sometimes folders contains file automatically generated by the OS.\n",
    "            print(f'The {genre} folder not only contains songs')\n",
    "            print(f'\\tNot valid file: {file}')\n",
    "            #songs.remove(file)\n",
    "            continue\n",
    "            \n",
    "        else:\n",
    "            # Audio load\n",
    "            audio, sr = librosa.load(f'{music}/{song}')\n",
    "            \n",
    "            # Spectrogram generation\n",
    "            fourier_transform = librosa.stft(audio)\n",
    "            spectro = np.abs(fourier_transform)\n",
    "            # Spectrogram\n",
    "            librosa.display.specshow(librosa.amplitude_to_db(spectro, ref=np.max), y_axis='log', x_axis='time')\n",
    "            plt.colorbar(format='%+2.0f dB')\n",
    "            plt.title('Spectrogram')\n",
    "            os.makedirs(f'/Users/agv/OneDrive - Universidad Politécnica de Madrid/Music_Taste/spectrogram/{genre}/', exist_ok=True)\n",
    "            plt.savefig(f'/Users/agv/OneDrive - Universidad Politécnica de Madrid/Music_Taste/spectrogram/{genre}/{file}.png')\n",
    "            #plt.show()\n",
    "            \n",
    "            # Chroma generation\n",
    "            chroma = librosa.feature.chroma_stft(y=audio, sr=sr)\n",
    "            # Chroma\n",
    "            librosa.display.specshow(chroma, y_axis='chroma', x_axis='time')\n",
    "            plt.title('Chromagram')\n",
    "            plt.colorbar()\n",
    "            os.makedirs(f'/Users/agv/OneDrive - Universidad Politécnica de Madrid/Music_Taste/chromagram/{genre}/', exist_ok=True)\n",
    "            plt.savefig(f'/Users/agv/OneDrive - Universidad Politécnica de Madrid/Music_Taste/chromagram/{genre}/{file}.png')\n",
    "            #plt.show()\n",
    "            "
   ],
   "metadata": {
    "collapsed": false,
    "ExecuteTime": {
     "end_time": "2023-12-27T11:12:04.331920Z",
     "start_time": "2023-12-27T11:12:00.946483Z"
    }
   },
   "id": "d1065e2b71a97527",
   "execution_count": 6
  }
 ],
 "metadata": {
  "kernelspec": {
   "display_name": "Python 3",
   "language": "python",
   "name": "python3"
  },
  "language_info": {
   "codemirror_mode": {
    "name": "ipython",
    "version": 2
   },
   "file_extension": ".py",
   "mimetype": "text/x-python",
   "name": "python",
   "nbconvert_exporter": "python",
   "pygments_lexer": "ipython2",
   "version": "2.7.6"
  }
 },
 "nbformat": 4,
 "nbformat_minor": 5
}
