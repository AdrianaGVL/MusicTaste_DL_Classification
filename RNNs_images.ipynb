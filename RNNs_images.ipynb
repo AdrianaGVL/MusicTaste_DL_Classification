{
 "cells": [
  {
   "cell_type": "markdown",
   "id": "bb0d6687ae528b96",
   "metadata": {},
   "source": [
    "# Recurrent Neural Networks\n",
    "The following Recurrent Neural Networks (RNN) will be used for musical genre classification. This is because the task of classify all the new music that is released nowadays it is impossible to be done by a human being."
   ]
  },
  {
   "cell_type": "markdown",
   "id": "eb81561098710186",
   "metadata": {},
   "source": [
    "## Initialization"
   ]
  },
  {
   "cell_type": "markdown",
   "id": "dfb268d9f436970f",
   "metadata": {},
   "source": [
    "### Libraries"
   ]
  },
  {
   "cell_type": "code",
   "execution_count": 2,
   "id": "2fc2d92666dc5b8e",
   "metadata": {
    "collapsed": false,
    "tags": [],
    "ExecuteTime": {
     "end_time": "2024-01-14T23:43:08.937833Z",
     "start_time": "2024-01-14T23:43:04.491965Z"
    }
   },
   "outputs": [
    {
     "name": "stderr",
     "output_type": "stream",
     "text": [
      "2024-01-15 00:43:05.200821: I tensorflow/core/platform/cpu_feature_guard.cc:193] This TensorFlow binary is optimized with oneAPI Deep Neural Network Library (oneDNN) to use the following CPU instructions in performance-critical operations:  SSE4.1 SSE4.2 AVX AVX2 FMA\n",
      "To enable them in other operations, rebuild TensorFlow with the appropriate compiler flags.\n"
     ]
    }
   ],
   "source": [
    "# Import general purpose python libraries\n",
    "import os\n",
    "from pathlib import Path\n",
    "import matplotlib.pyplot as plt\n",
    "import numpy as np\n",
    "import tensorflow as tf\n",
    "from keras.layers import LSTM, Bidirectional, Dense, Attention,Input, Dropout, TimeDistributed\n",
    "from tensorflow.keras.models import Model, Sequential\n",
    "from keras.optimizers import SGD, Adam\n",
    "from keras.utils import image_dataset_from_directory\n",
    "\n",
    "# Import function to plot the results\n",
    "import plots"
   ]
  },
  {
   "cell_type": "markdown",
   "id": "48172dfa13adaa0a",
   "metadata": {},
   "source": [
    "### Data Configuration Parameters\n",
    "Configuration variables related to the data"
   ]
  },
  {
   "cell_type": "code",
   "execution_count": 30,
   "id": "887f631e6b37e9ae",
   "metadata": {
    "collapsed": false,
    "tags": [],
    "ExecuteTime": {
     "end_time": "2024-01-15T00:24:29.152125Z",
     "start_time": "2024-01-15T00:24:29.129493Z"
    }
   },
   "outputs": [
    {
     "name": "stdout",
     "output_type": "stream",
     "text": [
      "The classess to classify are: ['Alternative', 'Pop', 'Classical', 'Rock', 'Dance', 'Techno']\n"
     ]
    }
   ],
   "source": [
    "# Randomize the initial network weights\n",
    "random_seed = True\n",
    "\n",
    "# Paths to where training, testing, and validation images are\n",
    "database_dir = 'dataset'\n",
    "train_dir = f'{database_dir}/training/spectrogram'\n",
    "val_dir = f'{database_dir}/val/spectrogram'\n",
    "test_dir = f'{database_dir}/test/spectrogram'\n",
    "\n",
    "# Directory where to store weights of the model and results\n",
    "root_dir = \"results\"\n",
    "# Create root directory for results if it does not exist\n",
    "if not os.path.exists(root_dir):\n",
    "    os.makedirs(root_dir)\n",
    "\n",
    "# Input dimension (number of subjects in our problem)\n",
    "num_classes = 6\n",
    "\n",
    "# Name of each gesture of the database\n",
    "CLASSES = [x for x in os.listdir(train_dir) if os.path.isdir(os.path.join(train_dir, x))]\n",
    "print(f'The classess to classify are: {CLASSES}')\n",
    "\n",
    "# Parameters that characterise the spectrogram\n",
    "img_height = 369\n",
    "img_width = 496\n",
    "img_channels = 1\n",
    "color_mode = 'grayscale'"
   ]
  },
  {
   "cell_type": "markdown",
   "id": "7afe71daea5ae029",
   "metadata": {},
   "source": [
    "### Configuration Training Parameters"
   ]
  },
  {
   "cell_type": "code",
   "execution_count": 31,
   "id": "8853fec419604f04",
   "metadata": {
    "collapsed": false,
    "tags": [],
    "ExecuteTime": {
     "end_time": "2024-01-15T00:24:30.456308Z",
     "start_time": "2024-01-15T00:24:30.449808Z"
    }
   },
   "outputs": [],
   "source": [
    "# Parameters that configures the training process\n",
    "batch_size = 1  # Batch size\n",
    "epochs = 5  # Number of epochs\n",
    "initial_lr = 1e-5   # Learning rate\n",
    "seed = 42  # Random number\n",
    "modelRNN = 'LSTM'  # RNN model which will be used\n",
    "version = f'BS{batch_size}_E{epochs}_LR{initial_lr}'\n",
    "experiment_dir = f'{root_dir}/{modelRNN}'\n",
    "\n",
    "# Create experiment directory if it does not exist\n",
    "if not os.path.exists(experiment_dir):\n",
    "    os.makedirs(experiment_dir)\n",
    "\n",
    "# Set random seed\n",
    "if random_seed:\n",
    "    seed = np.random.randint(0,2*31-1)\n",
    "else:\n",
    "    seed = 5\n",
    "np.random.seed(seed)\n",
    "tf.random.set_seed(seed)"
   ]
  },
  {
   "cell_type": "markdown",
   "id": "ed346f5407b79d14",
   "metadata": {},
   "source": [
    "### Loading of training, validation and test datasets of images\n",
    "1.   Training dataset\n",
    "2.   Validation dataset\n",
    "3.   Test dataset"
   ]
  },
  {
   "cell_type": "code",
   "outputs": [
    {
     "name": "stdout",
     "output_type": "stream",
     "text": [
      "Found 1186 files belonging to 6 classes.\n",
      "Found 204 files belonging to 6 classes.\n",
      "Found 204 files belonging to 6 classes.\n"
     ]
    }
   ],
   "source": [
    "# 1. Generate train dataset (ds) from directory of samples\n",
    "train_ds = image_dataset_from_directory(directory=train_dir,\n",
    "                                        label_mode = 'categorical',\n",
    "                                        class_names=CLASSES,\n",
    "                                        batch_size=batch_size,\n",
    "                                        color_mode=color_mode,\n",
    "                                        image_size=(img_width,img_height), shuffle=True)\n",
    "\n",
    "# 2. Generate validation dataset (ds) from directory of samples\n",
    "val_ds  = image_dataset_from_directory(directory=val_dir,\n",
    "                                       label_mode = 'categorical',\n",
    "                                       class_names=CLASSES,\n",
    "                                       batch_size=batch_size,\n",
    "                                       color_mode=color_mode,\n",
    "                                       image_size=(img_width,img_height), shuffle=True)\n",
    "\n",
    "# 3. Generate test dataset (ds) from directory of samples\n",
    "test_ds = image_dataset_from_directory(directory=test_dir,\n",
    "                                       label_mode = 'categorical',\n",
    "                                       class_names=CLASSES,\n",
    "                                       batch_size=batch_size,\n",
    "                                       color_mode=color_mode,\n",
    "                                       image_size=(img_width,img_height),\n",
    "                                       shuffle = False)\n",
    "\n",
    "# x_train = np.vstack([images.numpy() for images, _ in train_ds])\n",
    "# y_train = np.vstack([labels.numpy() for _, labels in train_ds])\n",
    "# x_val = np.vstack([images.numpy() for images, _ in val_ds])\n",
    "# y_val = np.vstack([labels.numpy() for _, labels in val_ds])\n",
    "# x_test = np.vstack([images.numpy() for images, _ in test_ds])\n",
    "# y_test = np.vstack([labels.numpy() for _, labels in test_ds])"
   ],
   "metadata": {
    "collapsed": false,
    "ExecuteTime": {
     "end_time": "2024-01-15T00:24:38.096442Z",
     "start_time": "2024-01-15T00:24:31.562052Z"
    }
   },
   "id": "b4c5f1939bdedd7e",
   "execution_count": 32
  },
  {
   "cell_type": "markdown",
   "id": "c9aa25c303dfd0a",
   "metadata": {},
   "source": [
    "# Training process\n",
    "#### Available Models: LSTM & BiLSTM"
   ]
  },
  {
   "cell_type": "markdown",
   "id": "1603ec4ae8ddf8a8",
   "metadata": {},
   "source": [
    "### Long Short-Term Memory (LSTM)"
   ]
  },
  {
   "cell_type": "code",
   "execution_count": 33,
   "id": "57d645b4b6708c8d",
   "metadata": {
    "collapsed": false,
    "ExecuteTime": {
     "end_time": "2024-01-15T00:24:41.726933Z",
     "start_time": "2024-01-15T00:24:41.721900Z"
    }
   },
   "outputs": [],
   "source": [
    "def lstm(height, width, out_dim):\n",
    "    # Sequential Model\n",
    "    model_lstm = Sequential()\n",
    "    model_lstm.add(LSTM(128, input_shape=(width, height), activation='relu', return_sequences=True))\n",
    "    model_lstm.add(Dropout(0.2))\n",
    "\n",
    "    #model_lstm.add(Attention(use_scale=True))\n",
    "\n",
    "    model_lstm.add(LSTM(128, activation='relu'))\n",
    "    model_lstm.add(Dropout(0.2))\n",
    "\n",
    "    model_lstm.add(Dense(32, activation='relu'))\n",
    "    model_lstm.add(Dropout(0.2))\n",
    "\n",
    "    model_lstm.add(Dense(out_dim, activation='softmax'))\n",
    "\n",
    "    return model_lstm\n",
    "    # # Input layer\n",
    "    # input_layer = Input(shape=(height, width))\n",
    "    # \n",
    "    # # First LSTM layer\n",
    "    # lstm_layer = TimeDistributed(LSTM(256, activation='tanh', return_sequences=True))(input_layer)\n",
    "    # \n",
    "    # # First Attention layer\n",
    "    # attention_layer = Attention(use_scale=True)([lstm_layer, lstm_layer])\n",
    "    # \n",
    "    # # First Dropout layer for regularization\n",
    "    # dropout_layer = Dropout(0.2)(attention_layer)\n",
    "    # \n",
    "    # # First Dense layer\n",
    "    # dense_layer = TimeDistributed(Dense(uints=out_dim, activation='relu'))(dropout_layer)\n",
    "    # \n",
    "    # # Second LSTM layer\n",
    "    # lstm_layer_2 = LSTM(128, activation='tanh', return_sequences=True)(dense_layer)\n",
    "    # \n",
    "    # # Second Attention layer\n",
    "    # attention_layer_2 = Attention(use_scale=True)([lstm_layer_2, lstm_layer_2])\n",
    "    # \n",
    "    # # Second Dense layer\n",
    "    # output_layer = Dense(units=out_dim, activation='softmax')(attention_layer_2)\n",
    "    # \n",
    "    # # Final LSTM model\n",
    "    # model_lstm = Model(inputs=input_layer, outputs=output_layer)\n",
    "    # \n",
    "    # return model_lstm"
   ]
  },
  {
   "cell_type": "markdown",
   "id": "16fcf4d8a61976d8",
   "metadata": {},
   "source": [
    "### Bidirectional Long Short-Term Memory (BiLSTM)"
   ]
  },
  {
   "cell_type": "code",
   "execution_count": 34,
   "id": "b925c88eb5734b67",
   "metadata": {
    "collapsed": false,
    "ExecuteTime": {
     "end_time": "2024-01-15T00:24:42.885562Z",
     "start_time": "2024-01-15T00:24:42.876638Z"
    }
   },
   "outputs": [],
   "source": [
    "def bi_lstm(height, width, out_dim):\n",
    "    # Input layer\n",
    "    input_layer = Input(shape=(height, width))\n",
    "\n",
    "    # First BiLSTM layer\n",
    "    bilstm_layer = TimeDistributed(Bidirectional(LSTM(out_dim, activation='tanh', return_sequences=True)))(input_layer)\n",
    "\n",
    "    # First Attention layer\n",
    "    attention_layer = Attention(use_scale=True)([bilstm_layer, bilstm_layer])\n",
    "\n",
    "    # First Dropout layer for regularization\n",
    "    dropout_layer = Dropout(0.2)(attention_layer)\n",
    "\n",
    "    # First Dense layer\n",
    "    dense_layer = TimeDistributed(Dense(units=out_dim, activation='relu'))(dropout_layer)\n",
    "\n",
    "    # Second BiLSTM layer\n",
    "    bilstm_layer_2 = Bidirectional(LSTM(out_dim, activation='tanh', return_sequences=True))(dense_layer)\n",
    "\n",
    "    # Second Attention layer\n",
    "    attention_layer_2 = Attention(use_scale=True)([bilstm_layer_2, bilstm_layer_2])\n",
    "\n",
    "    # Second Dense layer\n",
    "    output_layer = Dense(units=out_dim, activation='softmax')(attention_layer_2)\n",
    "\n",
    "    # Final LSTM model\n",
    "    model_bilstm = Model(inputs=input_layer, outputs=output_layer)\n",
    "    \n",
    "    return model_bilstm"
   ]
  },
  {
   "cell_type": "markdown",
   "id": "716c09b96942b87b",
   "metadata": {},
   "source": [
    "## Model execution"
   ]
  },
  {
   "cell_type": "code",
   "execution_count": 35,
   "id": "527931905fff8484",
   "metadata": {
    "collapsed": false,
    "ExecuteTime": {
     "end_time": "2024-01-15T00:24:44.210758Z",
     "start_time": "2024-01-15T00:24:43.972232Z"
    }
   },
   "outputs": [
    {
     "name": "stdout",
     "output_type": "stream",
     "text": [
      "Model: \"sequential_3\"\n",
      "_________________________________________________________________\n",
      " Layer (type)                Output Shape              Param #   \n",
      "=================================================================\n",
      " lstm_6 (LSTM)               (None, 496, 128)          254976    \n",
      "                                                                 \n",
      " dropout_9 (Dropout)         (None, 496, 128)          0         \n",
      "                                                                 \n",
      " lstm_7 (LSTM)               (None, 128)               131584    \n",
      "                                                                 \n",
      " dropout_10 (Dropout)        (None, 128)               0         \n",
      "                                                                 \n",
      " dense_6 (Dense)             (None, 32)                4128      \n",
      "                                                                 \n",
      " dropout_11 (Dropout)        (None, 32)                0         \n",
      "                                                                 \n",
      " dense_7 (Dense)             (None, 6)                 198       \n",
      "                                                                 \n",
      "=================================================================\n",
      "Total params: 390,886\n",
      "Trainable params: 390,886\n",
      "Non-trainable params: 0\n",
      "_________________________________________________________________\n"
     ]
    }
   ],
   "source": [
    "#Model\n",
    "model = None\n",
    "if modelRNN == 'LSTM':\n",
    "    model = lstm(img_height, img_width, num_classes)\n",
    "elif modelRNN == 'BiLSTM':\n",
    "    model = bi_lstm(img_height, img_width, num_classes)\n",
    "else:\n",
    "    print('Wrong model selection or Model no available\\n')\n",
    "\n",
    "# Print the architecture of the model\n",
    "model.summary()"
   ]
  },
  {
   "cell_type": "markdown",
   "id": "27217df4509fb041",
   "metadata": {},
   "source": [
    "## Set model training process\n",
    "#### Configuration of several training decisions:\n",
    "1. Optimizer using `Adam`\n",
    "2. Model training configuration using `compile` with `categorical_crossentropy` due to the classification labeling"
   ]
  },
  {
   "cell_type": "code",
   "execution_count": 36,
   "id": "219f30ba984cdd19",
   "metadata": {
    "collapsed": false,
    "ExecuteTime": {
     "end_time": "2024-01-15T00:24:46.035291Z",
     "start_time": "2024-01-15T00:24:46.024432Z"
    }
   },
   "outputs": [],
   "source": [
    "# 1. Configure optimizer\n",
    "adam = Adam(learning_rate=initial_lr)\n",
    "\n",
    "# 2. Configure training process\n",
    "model.compile(loss='categorical_crossentropy', optimizer=adam, metrics=['categorical_accuracy'])\n"
   ]
  },
  {
   "cell_type": "markdown",
   "id": "efe94cc7505ca778",
   "metadata": {},
   "source": [
    "## Train the model\n",
    "1. Load parameters from previous trainings if they exist.\n",
    "2. Fit the model\n",
    "3. Save the weights"
   ]
  },
  {
   "cell_type": "code",
   "execution_count": 37,
   "id": "6cfceea94efd9b8f",
   "metadata": {
    "collapsed": false,
    "ExecuteTime": {
     "end_time": "2024-01-15T00:36:39.455126Z",
     "start_time": "2024-01-15T00:24:48.395637Z"
    }
   },
   "outputs": [
    {
     "name": "stdout",
     "output_type": "stream",
     "text": [
      "Impossible to find weight path. Returning untrained model\n",
      "Epoch 1/5\n",
      "1186/1186 [==============================] - 481s 404ms/step - loss: nan - categorical_accuracy: 0.1669 - val_loss: nan - val_categorical_accuracy: 0.1667\n",
      "Epoch 2/5\n",
      " 556/1186 [=============>................] - ETA: 4:18 - loss: nan - categorical_accuracy: 0.1709"
     ]
    },
    {
     "ename": "KeyboardInterrupt",
     "evalue": "",
     "output_type": "error",
     "traceback": [
      "\u001B[0;31m---------------------------------------------------------------------------\u001B[0m",
      "\u001B[0;31mKeyboardInterrupt\u001B[0m                         Traceback (most recent call last)",
      "Cell \u001B[0;32mIn[37], line 13\u001B[0m\n\u001B[1;32m     10\u001B[0m         \u001B[38;5;28mprint\u001B[39m(\u001B[38;5;124m\"\u001B[39m\u001B[38;5;124mImpossible to find weight path. Returning untrained model\u001B[39m\u001B[38;5;124m\"\u001B[39m)\n\u001B[1;32m     12\u001B[0m \u001B[38;5;66;03m# Fit the model\u001B[39;00m\n\u001B[0;32m---> 13\u001B[0m history \u001B[38;5;241m=\u001B[39m \u001B[43mmodel\u001B[49m\u001B[38;5;241;43m.\u001B[39;49m\u001B[43mfit\u001B[49m\u001B[43m(\u001B[49m\u001B[43mx\u001B[49m\u001B[38;5;241;43m=\u001B[39;49m\u001B[43mx_train\u001B[49m\u001B[43m,\u001B[49m\u001B[43m \u001B[49m\u001B[43my\u001B[49m\u001B[38;5;241;43m=\u001B[39;49m\u001B[43my_train\u001B[49m\u001B[43m,\u001B[49m\u001B[43m \u001B[49m\u001B[43mvalidation_data\u001B[49m\u001B[38;5;241;43m=\u001B[39;49m\u001B[43m(\u001B[49m\u001B[43mx_val\u001B[49m\u001B[43m,\u001B[49m\u001B[43m \u001B[49m\u001B[43my_val\u001B[49m\u001B[43m)\u001B[49m\u001B[43m,\u001B[49m\u001B[43m \u001B[49m\u001B[43mepochs\u001B[49m\u001B[38;5;241;43m=\u001B[39;49m\u001B[43mepochs\u001B[49m\u001B[43m,\u001B[49m\u001B[43m \u001B[49m\u001B[43mbatch_size\u001B[49m\u001B[38;5;241;43m=\u001B[39;49m\u001B[43mbatch_size\u001B[49m\u001B[43m)\u001B[49m\n\u001B[1;32m     15\u001B[0m \u001B[38;5;66;03m# Save weights\u001B[39;00m\n\u001B[1;32m     16\u001B[0m weights_save_path \u001B[38;5;241m=\u001B[39m os\u001B[38;5;241m.\u001B[39mpath\u001B[38;5;241m.\u001B[39mjoin(experiment_dir, weights_path)\n",
      "File \u001B[0;32m~/opt/anaconda3/envs/DLMT/lib/python3.8/site-packages/keras/utils/traceback_utils.py:65\u001B[0m, in \u001B[0;36mfilter_traceback.<locals>.error_handler\u001B[0;34m(*args, **kwargs)\u001B[0m\n\u001B[1;32m     63\u001B[0m filtered_tb \u001B[38;5;241m=\u001B[39m \u001B[38;5;28;01mNone\u001B[39;00m\n\u001B[1;32m     64\u001B[0m \u001B[38;5;28;01mtry\u001B[39;00m:\n\u001B[0;32m---> 65\u001B[0m     \u001B[38;5;28;01mreturn\u001B[39;00m \u001B[43mfn\u001B[49m\u001B[43m(\u001B[49m\u001B[38;5;241;43m*\u001B[39;49m\u001B[43margs\u001B[49m\u001B[43m,\u001B[49m\u001B[43m \u001B[49m\u001B[38;5;241;43m*\u001B[39;49m\u001B[38;5;241;43m*\u001B[39;49m\u001B[43mkwargs\u001B[49m\u001B[43m)\u001B[49m\n\u001B[1;32m     66\u001B[0m \u001B[38;5;28;01mexcept\u001B[39;00m \u001B[38;5;167;01mException\u001B[39;00m \u001B[38;5;28;01mas\u001B[39;00m e:\n\u001B[1;32m     67\u001B[0m     filtered_tb \u001B[38;5;241m=\u001B[39m _process_traceback_frames(e\u001B[38;5;241m.\u001B[39m__traceback__)\n",
      "File \u001B[0;32m~/opt/anaconda3/envs/DLMT/lib/python3.8/site-packages/keras/engine/training.py:1564\u001B[0m, in \u001B[0;36mModel.fit\u001B[0;34m(self, x, y, batch_size, epochs, verbose, callbacks, validation_split, validation_data, shuffle, class_weight, sample_weight, initial_epoch, steps_per_epoch, validation_steps, validation_batch_size, validation_freq, max_queue_size, workers, use_multiprocessing)\u001B[0m\n\u001B[1;32m   1556\u001B[0m \u001B[38;5;28;01mwith\u001B[39;00m tf\u001B[38;5;241m.\u001B[39mprofiler\u001B[38;5;241m.\u001B[39mexperimental\u001B[38;5;241m.\u001B[39mTrace(\n\u001B[1;32m   1557\u001B[0m     \u001B[38;5;124m\"\u001B[39m\u001B[38;5;124mtrain\u001B[39m\u001B[38;5;124m\"\u001B[39m,\n\u001B[1;32m   1558\u001B[0m     epoch_num\u001B[38;5;241m=\u001B[39mepoch,\n\u001B[0;32m   (...)\u001B[0m\n\u001B[1;32m   1561\u001B[0m     _r\u001B[38;5;241m=\u001B[39m\u001B[38;5;241m1\u001B[39m,\n\u001B[1;32m   1562\u001B[0m ):\n\u001B[1;32m   1563\u001B[0m     callbacks\u001B[38;5;241m.\u001B[39mon_train_batch_begin(step)\n\u001B[0;32m-> 1564\u001B[0m     tmp_logs \u001B[38;5;241m=\u001B[39m \u001B[38;5;28;43mself\u001B[39;49m\u001B[38;5;241;43m.\u001B[39;49m\u001B[43mtrain_function\u001B[49m\u001B[43m(\u001B[49m\u001B[43miterator\u001B[49m\u001B[43m)\u001B[49m\n\u001B[1;32m   1565\u001B[0m     \u001B[38;5;28;01mif\u001B[39;00m data_handler\u001B[38;5;241m.\u001B[39mshould_sync:\n\u001B[1;32m   1566\u001B[0m         context\u001B[38;5;241m.\u001B[39masync_wait()\n",
      "File \u001B[0;32m~/opt/anaconda3/envs/DLMT/lib/python3.8/site-packages/tensorflow/python/util/traceback_utils.py:150\u001B[0m, in \u001B[0;36mfilter_traceback.<locals>.error_handler\u001B[0;34m(*args, **kwargs)\u001B[0m\n\u001B[1;32m    148\u001B[0m filtered_tb \u001B[38;5;241m=\u001B[39m \u001B[38;5;28;01mNone\u001B[39;00m\n\u001B[1;32m    149\u001B[0m \u001B[38;5;28;01mtry\u001B[39;00m:\n\u001B[0;32m--> 150\u001B[0m   \u001B[38;5;28;01mreturn\u001B[39;00m \u001B[43mfn\u001B[49m\u001B[43m(\u001B[49m\u001B[38;5;241;43m*\u001B[39;49m\u001B[43margs\u001B[49m\u001B[43m,\u001B[49m\u001B[43m \u001B[49m\u001B[38;5;241;43m*\u001B[39;49m\u001B[38;5;241;43m*\u001B[39;49m\u001B[43mkwargs\u001B[49m\u001B[43m)\u001B[49m\n\u001B[1;32m    151\u001B[0m \u001B[38;5;28;01mexcept\u001B[39;00m \u001B[38;5;167;01mException\u001B[39;00m \u001B[38;5;28;01mas\u001B[39;00m e:\n\u001B[1;32m    152\u001B[0m   filtered_tb \u001B[38;5;241m=\u001B[39m _process_traceback_frames(e\u001B[38;5;241m.\u001B[39m__traceback__)\n",
      "File \u001B[0;32m~/opt/anaconda3/envs/DLMT/lib/python3.8/site-packages/tensorflow/python/eager/def_function.py:915\u001B[0m, in \u001B[0;36mFunction.__call__\u001B[0;34m(self, *args, **kwds)\u001B[0m\n\u001B[1;32m    912\u001B[0m compiler \u001B[38;5;241m=\u001B[39m \u001B[38;5;124m\"\u001B[39m\u001B[38;5;124mxla\u001B[39m\u001B[38;5;124m\"\u001B[39m \u001B[38;5;28;01mif\u001B[39;00m \u001B[38;5;28mself\u001B[39m\u001B[38;5;241m.\u001B[39m_jit_compile \u001B[38;5;28;01melse\u001B[39;00m \u001B[38;5;124m\"\u001B[39m\u001B[38;5;124mnonXla\u001B[39m\u001B[38;5;124m\"\u001B[39m\n\u001B[1;32m    914\u001B[0m \u001B[38;5;28;01mwith\u001B[39;00m OptionalXlaContext(\u001B[38;5;28mself\u001B[39m\u001B[38;5;241m.\u001B[39m_jit_compile):\n\u001B[0;32m--> 915\u001B[0m   result \u001B[38;5;241m=\u001B[39m \u001B[38;5;28;43mself\u001B[39;49m\u001B[38;5;241;43m.\u001B[39;49m\u001B[43m_call\u001B[49m\u001B[43m(\u001B[49m\u001B[38;5;241;43m*\u001B[39;49m\u001B[43margs\u001B[49m\u001B[43m,\u001B[49m\u001B[43m \u001B[49m\u001B[38;5;241;43m*\u001B[39;49m\u001B[38;5;241;43m*\u001B[39;49m\u001B[43mkwds\u001B[49m\u001B[43m)\u001B[49m\n\u001B[1;32m    917\u001B[0m new_tracing_count \u001B[38;5;241m=\u001B[39m \u001B[38;5;28mself\u001B[39m\u001B[38;5;241m.\u001B[39mexperimental_get_tracing_count()\n\u001B[1;32m    918\u001B[0m without_tracing \u001B[38;5;241m=\u001B[39m (tracing_count \u001B[38;5;241m==\u001B[39m new_tracing_count)\n",
      "File \u001B[0;32m~/opt/anaconda3/envs/DLMT/lib/python3.8/site-packages/tensorflow/python/eager/def_function.py:947\u001B[0m, in \u001B[0;36mFunction._call\u001B[0;34m(self, *args, **kwds)\u001B[0m\n\u001B[1;32m    944\u001B[0m   \u001B[38;5;28mself\u001B[39m\u001B[38;5;241m.\u001B[39m_lock\u001B[38;5;241m.\u001B[39mrelease()\n\u001B[1;32m    945\u001B[0m   \u001B[38;5;66;03m# In this case we have created variables on the first call, so we run the\u001B[39;00m\n\u001B[1;32m    946\u001B[0m   \u001B[38;5;66;03m# defunned version which is guaranteed to never create variables.\u001B[39;00m\n\u001B[0;32m--> 947\u001B[0m   \u001B[38;5;28;01mreturn\u001B[39;00m \u001B[38;5;28;43mself\u001B[39;49m\u001B[38;5;241;43m.\u001B[39;49m\u001B[43m_stateless_fn\u001B[49m\u001B[43m(\u001B[49m\u001B[38;5;241;43m*\u001B[39;49m\u001B[43margs\u001B[49m\u001B[43m,\u001B[49m\u001B[43m \u001B[49m\u001B[38;5;241;43m*\u001B[39;49m\u001B[38;5;241;43m*\u001B[39;49m\u001B[43mkwds\u001B[49m\u001B[43m)\u001B[49m  \u001B[38;5;66;03m# pylint: disable=not-callable\u001B[39;00m\n\u001B[1;32m    948\u001B[0m \u001B[38;5;28;01melif\u001B[39;00m \u001B[38;5;28mself\u001B[39m\u001B[38;5;241m.\u001B[39m_stateful_fn \u001B[38;5;129;01mis\u001B[39;00m \u001B[38;5;129;01mnot\u001B[39;00m \u001B[38;5;28;01mNone\u001B[39;00m:\n\u001B[1;32m    949\u001B[0m   \u001B[38;5;66;03m# Release the lock early so that multiple threads can perform the call\u001B[39;00m\n\u001B[1;32m    950\u001B[0m   \u001B[38;5;66;03m# in parallel.\u001B[39;00m\n\u001B[1;32m    951\u001B[0m   \u001B[38;5;28mself\u001B[39m\u001B[38;5;241m.\u001B[39m_lock\u001B[38;5;241m.\u001B[39mrelease()\n",
      "File \u001B[0;32m~/opt/anaconda3/envs/DLMT/lib/python3.8/site-packages/tensorflow/python/eager/function.py:2496\u001B[0m, in \u001B[0;36mFunction.__call__\u001B[0;34m(self, *args, **kwargs)\u001B[0m\n\u001B[1;32m   2493\u001B[0m \u001B[38;5;28;01mwith\u001B[39;00m \u001B[38;5;28mself\u001B[39m\u001B[38;5;241m.\u001B[39m_lock:\n\u001B[1;32m   2494\u001B[0m   (graph_function,\n\u001B[1;32m   2495\u001B[0m    filtered_flat_args) \u001B[38;5;241m=\u001B[39m \u001B[38;5;28mself\u001B[39m\u001B[38;5;241m.\u001B[39m_maybe_define_function(args, kwargs)\n\u001B[0;32m-> 2496\u001B[0m \u001B[38;5;28;01mreturn\u001B[39;00m \u001B[43mgraph_function\u001B[49m\u001B[38;5;241;43m.\u001B[39;49m\u001B[43m_call_flat\u001B[49m\u001B[43m(\u001B[49m\n\u001B[1;32m   2497\u001B[0m \u001B[43m    \u001B[49m\u001B[43mfiltered_flat_args\u001B[49m\u001B[43m,\u001B[49m\u001B[43m \u001B[49m\u001B[43mcaptured_inputs\u001B[49m\u001B[38;5;241;43m=\u001B[39;49m\u001B[43mgraph_function\u001B[49m\u001B[38;5;241;43m.\u001B[39;49m\u001B[43mcaptured_inputs\u001B[49m\u001B[43m)\u001B[49m\n",
      "File \u001B[0;32m~/opt/anaconda3/envs/DLMT/lib/python3.8/site-packages/tensorflow/python/eager/function.py:1862\u001B[0m, in \u001B[0;36mConcreteFunction._call_flat\u001B[0;34m(self, args, captured_inputs, cancellation_manager)\u001B[0m\n\u001B[1;32m   1858\u001B[0m possible_gradient_type \u001B[38;5;241m=\u001B[39m gradients_util\u001B[38;5;241m.\u001B[39mPossibleTapeGradientTypes(args)\n\u001B[1;32m   1859\u001B[0m \u001B[38;5;28;01mif\u001B[39;00m (possible_gradient_type \u001B[38;5;241m==\u001B[39m gradients_util\u001B[38;5;241m.\u001B[39mPOSSIBLE_GRADIENT_TYPES_NONE\n\u001B[1;32m   1860\u001B[0m     \u001B[38;5;129;01mand\u001B[39;00m executing_eagerly):\n\u001B[1;32m   1861\u001B[0m   \u001B[38;5;66;03m# No tape is watching; skip to running the function.\u001B[39;00m\n\u001B[0;32m-> 1862\u001B[0m   \u001B[38;5;28;01mreturn\u001B[39;00m \u001B[38;5;28mself\u001B[39m\u001B[38;5;241m.\u001B[39m_build_call_outputs(\u001B[38;5;28;43mself\u001B[39;49m\u001B[38;5;241;43m.\u001B[39;49m\u001B[43m_inference_function\u001B[49m\u001B[38;5;241;43m.\u001B[39;49m\u001B[43mcall\u001B[49m\u001B[43m(\u001B[49m\n\u001B[1;32m   1863\u001B[0m \u001B[43m      \u001B[49m\u001B[43mctx\u001B[49m\u001B[43m,\u001B[49m\u001B[43m \u001B[49m\u001B[43margs\u001B[49m\u001B[43m,\u001B[49m\u001B[43m \u001B[49m\u001B[43mcancellation_manager\u001B[49m\u001B[38;5;241;43m=\u001B[39;49m\u001B[43mcancellation_manager\u001B[49m\u001B[43m)\u001B[49m)\n\u001B[1;32m   1864\u001B[0m forward_backward \u001B[38;5;241m=\u001B[39m \u001B[38;5;28mself\u001B[39m\u001B[38;5;241m.\u001B[39m_select_forward_and_backward_functions(\n\u001B[1;32m   1865\u001B[0m     args,\n\u001B[1;32m   1866\u001B[0m     possible_gradient_type,\n\u001B[1;32m   1867\u001B[0m     executing_eagerly)\n\u001B[1;32m   1868\u001B[0m forward_function, args_with_tangents \u001B[38;5;241m=\u001B[39m forward_backward\u001B[38;5;241m.\u001B[39mforward()\n",
      "File \u001B[0;32m~/opt/anaconda3/envs/DLMT/lib/python3.8/site-packages/tensorflow/python/eager/function.py:499\u001B[0m, in \u001B[0;36m_EagerDefinedFunction.call\u001B[0;34m(self, ctx, args, cancellation_manager)\u001B[0m\n\u001B[1;32m    497\u001B[0m \u001B[38;5;28;01mwith\u001B[39;00m _InterpolateFunctionError(\u001B[38;5;28mself\u001B[39m):\n\u001B[1;32m    498\u001B[0m   \u001B[38;5;28;01mif\u001B[39;00m cancellation_manager \u001B[38;5;129;01mis\u001B[39;00m \u001B[38;5;28;01mNone\u001B[39;00m:\n\u001B[0;32m--> 499\u001B[0m     outputs \u001B[38;5;241m=\u001B[39m \u001B[43mexecute\u001B[49m\u001B[38;5;241;43m.\u001B[39;49m\u001B[43mexecute\u001B[49m\u001B[43m(\u001B[49m\n\u001B[1;32m    500\u001B[0m \u001B[43m        \u001B[49m\u001B[38;5;28;43mstr\u001B[39;49m\u001B[43m(\u001B[49m\u001B[38;5;28;43mself\u001B[39;49m\u001B[38;5;241;43m.\u001B[39;49m\u001B[43msignature\u001B[49m\u001B[38;5;241;43m.\u001B[39;49m\u001B[43mname\u001B[49m\u001B[43m)\u001B[49m\u001B[43m,\u001B[49m\n\u001B[1;32m    501\u001B[0m \u001B[43m        \u001B[49m\u001B[43mnum_outputs\u001B[49m\u001B[38;5;241;43m=\u001B[39;49m\u001B[38;5;28;43mself\u001B[39;49m\u001B[38;5;241;43m.\u001B[39;49m\u001B[43m_num_outputs\u001B[49m\u001B[43m,\u001B[49m\n\u001B[1;32m    502\u001B[0m \u001B[43m        \u001B[49m\u001B[43minputs\u001B[49m\u001B[38;5;241;43m=\u001B[39;49m\u001B[43margs\u001B[49m\u001B[43m,\u001B[49m\n\u001B[1;32m    503\u001B[0m \u001B[43m        \u001B[49m\u001B[43mattrs\u001B[49m\u001B[38;5;241;43m=\u001B[39;49m\u001B[43mattrs\u001B[49m\u001B[43m,\u001B[49m\n\u001B[1;32m    504\u001B[0m \u001B[43m        \u001B[49m\u001B[43mctx\u001B[49m\u001B[38;5;241;43m=\u001B[39;49m\u001B[43mctx\u001B[49m\u001B[43m)\u001B[49m\n\u001B[1;32m    505\u001B[0m   \u001B[38;5;28;01melse\u001B[39;00m:\n\u001B[1;32m    506\u001B[0m     outputs \u001B[38;5;241m=\u001B[39m execute\u001B[38;5;241m.\u001B[39mexecute_with_cancellation(\n\u001B[1;32m    507\u001B[0m         \u001B[38;5;28mstr\u001B[39m(\u001B[38;5;28mself\u001B[39m\u001B[38;5;241m.\u001B[39msignature\u001B[38;5;241m.\u001B[39mname),\n\u001B[1;32m    508\u001B[0m         num_outputs\u001B[38;5;241m=\u001B[39m\u001B[38;5;28mself\u001B[39m\u001B[38;5;241m.\u001B[39m_num_outputs,\n\u001B[0;32m   (...)\u001B[0m\n\u001B[1;32m    511\u001B[0m         ctx\u001B[38;5;241m=\u001B[39mctx,\n\u001B[1;32m    512\u001B[0m         cancellation_manager\u001B[38;5;241m=\u001B[39mcancellation_manager)\n",
      "File \u001B[0;32m~/opt/anaconda3/envs/DLMT/lib/python3.8/site-packages/tensorflow/python/eager/execute.py:54\u001B[0m, in \u001B[0;36mquick_execute\u001B[0;34m(op_name, num_outputs, inputs, attrs, ctx, name)\u001B[0m\n\u001B[1;32m     52\u001B[0m \u001B[38;5;28;01mtry\u001B[39;00m:\n\u001B[1;32m     53\u001B[0m   ctx\u001B[38;5;241m.\u001B[39mensure_initialized()\n\u001B[0;32m---> 54\u001B[0m   tensors \u001B[38;5;241m=\u001B[39m \u001B[43mpywrap_tfe\u001B[49m\u001B[38;5;241;43m.\u001B[39;49m\u001B[43mTFE_Py_Execute\u001B[49m\u001B[43m(\u001B[49m\u001B[43mctx\u001B[49m\u001B[38;5;241;43m.\u001B[39;49m\u001B[43m_handle\u001B[49m\u001B[43m,\u001B[49m\u001B[43m \u001B[49m\u001B[43mdevice_name\u001B[49m\u001B[43m,\u001B[49m\u001B[43m \u001B[49m\u001B[43mop_name\u001B[49m\u001B[43m,\u001B[49m\n\u001B[1;32m     55\u001B[0m \u001B[43m                                      \u001B[49m\u001B[43minputs\u001B[49m\u001B[43m,\u001B[49m\u001B[43m \u001B[49m\u001B[43mattrs\u001B[49m\u001B[43m,\u001B[49m\u001B[43m \u001B[49m\u001B[43mnum_outputs\u001B[49m\u001B[43m)\u001B[49m\n\u001B[1;32m     56\u001B[0m \u001B[38;5;28;01mexcept\u001B[39;00m core\u001B[38;5;241m.\u001B[39m_NotOkStatusException \u001B[38;5;28;01mas\u001B[39;00m e:\n\u001B[1;32m     57\u001B[0m   \u001B[38;5;28;01mif\u001B[39;00m name \u001B[38;5;129;01mis\u001B[39;00m \u001B[38;5;129;01mnot\u001B[39;00m \u001B[38;5;28;01mNone\u001B[39;00m:\n",
      "\u001B[0;31mKeyboardInterrupt\u001B[0m: "
     ]
    }
   ],
   "source": [
    "# Load pretrained model\n",
    "weights_path = f\"weights_{version}.h5\" # Name of the file to store the weights\n",
    "weights_file = Path(weights_path)\n",
    "weights_load_path = f'{experiment_dir}/{weights_path}'\n",
    "if weights_load_path:\n",
    "    try:\n",
    "        model.load_weights(weights_load_path)\n",
    "        print(\"Loaded model from {}\".format(weights_load_path))\n",
    "    except:\n",
    "        print(\"Impossible to find weight path. Returning untrained model\")\n",
    "\n",
    "# Fit the model\n",
    "history = model.fit(train_ds, validation_data=val_ds, epochs=epochs, batch_size=batch_size)\n",
    "\n",
    "# Save weights\n",
    "weights_save_path = os.path.join(experiment_dir, weights_path)\n",
    "model.save_weights(weights_save_path)"
   ]
  },
  {
   "cell_type": "markdown",
   "id": "54b7b1d4defb43cd",
   "metadata": {},
   "source": [
    "## Training Results\n",
    "Accuracy and Loss obtained along the training process"
   ]
  },
  {
   "cell_type": "code",
   "execution_count": null,
   "id": "188c2061f0390d85",
   "metadata": {
    "collapsed": false
   },
   "outputs": [],
   "source": [
    "plots.accloss(history, modelRNN, experiment_dir, version)"
   ]
  },
  {
   "cell_type": "markdown",
   "id": "92d061710524b2fc",
   "metadata": {},
   "source": [
    "# Testing\n",
    "### Model Testing\n",
    "1. Compute the loss function and accuracy for the test data\n",
    "2. Confusion Matrix obtained from testing results"
   ]
  },
  {
   "cell_type": "code",
   "execution_count": null,
   "id": "5968047ecafdcc8a",
   "metadata": {
    "collapsed": false,
    "tags": []
   },
   "outputs": [],
   "source": [
    "# Evaluate model\n",
    "scores = model.evaluate(test_ds, verbose=0)\n",
    "print(\"Accuracy: %.2f%%\" % (scores[1]*100))\n",
    "print(\"Loss: %.2f\" % scores[0])\n",
    "\n",
    "# Obtain results to present the confusion matrix\n",
    "prob_class = model.predict(test_ds, batch_size=batch_size)\n",
    "# Classified labels\n",
    "y_pred = tf.argmax(prob_class, axis=-1)\n",
    "# Ground truth\n",
    "y_true = tf.argmax(tf.concat([label for image, label in test_ds], axis=0), axis=1)\n",
    "# Visualize confusion matrix                                           \n",
    "plots.cm(y_true, y_pred, modelRNN, CLASSES, experiment_dir, version)"
   ]
  }
 ],
 "metadata": {
  "kernelspec": {
   "name": "python3",
   "language": "python",
   "display_name": "Python 3 (ipykernel)"
  },
  "language_info": {
   "codemirror_mode": {
    "name": "ipython",
    "version": 3
   },
   "file_extension": ".py",
   "mimetype": "text/x-python",
   "name": "python",
   "nbconvert_exporter": "python",
   "pygments_lexer": "ipython3",
   "version": "3.8.17"
  }
 },
 "nbformat": 4,
 "nbformat_minor": 5
}
