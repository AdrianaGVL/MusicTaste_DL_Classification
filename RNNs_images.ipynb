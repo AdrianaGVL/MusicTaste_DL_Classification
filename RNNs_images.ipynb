{
 "cells": [
  {
   "cell_type": "markdown",
   "id": "bb0d6687ae528b96",
   "metadata": {},
   "source": [
    "# Recurrent Neural Networks\n",
    "The following Recurrent Neural Networks (RNN) will be used for musical genre classification. This is because the task of classify all the new music that is released nowadays it is impossible to be done by a human being."
   ]
  },
  {
   "cell_type": "markdown",
   "id": "eb81561098710186",
   "metadata": {},
   "source": [
    "## Initialization"
   ]
  },
  {
   "cell_type": "markdown",
   "id": "dfb268d9f436970f",
   "metadata": {},
   "source": [
    "### Libraries"
   ]
  },
  {
   "cell_type": "code",
   "execution_count": 1,
   "id": "2fc2d92666dc5b8e",
   "metadata": {
    "collapsed": false,
    "is_executing": true,
    "tags": []
   },
   "outputs": [],
   "source": [
    "# Import general purpose python libraries\n",
    "import os\n",
    "from pathlib import Path\n",
    "import numpy as np\n",
    "import tensorflow as tf\n",
    "from keras.layers import LSTM, Bidirectional, Dense, Attention,Input, Dropout, TimeDistributed\n",
    "from tensorflow.keras.models import Model\n",
    "from keras.optimizers import SGD, Adam\n",
    "from keras.utils import image_dataset_from_directory\n",
    "\n",
    "# Import function to plot the results\n",
    "import plots"
   ]
  },
  {
   "cell_type": "markdown",
   "id": "48172dfa13adaa0a",
   "metadata": {},
   "source": [
    "### Data Configuration Parameters\n",
    "Configuration variables related to the data"
   ]
  },
  {
   "cell_type": "code",
   "execution_count": 2,
   "id": "887f631e6b37e9ae",
   "metadata": {
    "collapsed": false,
    "tags": []
   },
   "outputs": [
    {
     "name": "stdout",
     "output_type": "stream",
     "text": [
      "The classess to classify are: ['Alternative', 'Classical', 'Dance', 'Pop', 'Rock', 'Techno']\n"
     ]
    }
   ],
   "source": [
    "# Randomize the initial network weights\n",
    "random_seed = True\n",
    "\n",
    "# Paths to where training, testing, and validation images are\n",
    "database_dir = 'dataset'\n",
    "train_dir = f'{database_dir}/training/spectrogram'\n",
    "val_dir = f'{database_dir}/val/spectrogram'\n",
    "test_dir = f'{database_dir}/test/spectrogram'\n",
    "\n",
    "# Directory where to store weights of the model and results\n",
    "root_dir = \"results\"\n",
    "# Create root directory for results if it does not exist\n",
    "if not os.path.exists(root_dir):\n",
    "    os.makedirs(root_dir)\n",
    "\n",
    "# Input dimension (number of subjects in our problem)\n",
    "num_classes = 6\n",
    "\n",
    "# Name of each gesture of the database\n",
    "CLASSES = [x for x in os.listdir(train_dir) if os.path.isdir(os.path.join(train_dir, x))]\n",
    "print(f'The classess to classify are: {CLASSES}')\n",
    "\n",
    "# Parameters that characterise the spectrogram\n",
    "img_height = 369\n",
    "img_width = 496\n",
    "img_channels = 3\n",
    "color_mode = 'rgb'"
   ]
  },
  {
   "cell_type": "markdown",
   "id": "7afe71daea5ae029",
   "metadata": {},
   "source": [
    "### Configuration Training Parameters"
   ]
  },
  {
   "cell_type": "code",
   "execution_count": 3,
   "id": "8853fec419604f04",
   "metadata": {
    "collapsed": false,
    "tags": []
   },
   "outputs": [],
   "source": [
    "# Parameters that configures the training process\n",
    "batch_size = 1  # Batch size\n",
    "epochs = 5  # Number of epochs\n",
    "initial_lr = 1e-5   # Learning rate\n",
    "seed = 42  # Random number\n",
    "modelRNN = 'LSTM'  # RNN model which will be used\n",
    "version = f'BS{batch_size}_E{epochs}_LR{initial_lr}'\n",
    "experiment_dir = f'{root_dir}/{modelRNN}'\n",
    "\n",
    "# Create experiment directory if it does not exist\n",
    "if not os.path.exists(experiment_dir):\n",
    "    os.makedirs(experiment_dir)\n",
    "\n",
    "# Set random seed\n",
    "if random_seed:\n",
    "    seed = np.random.randint(0,2*31-1)\n",
    "else:\n",
    "    seed = 5\n",
    "np.random.seed(seed)\n",
    "tf.random.set_seed(seed)"
   ]
  },
  {
   "cell_type": "markdown",
   "id": "ed346f5407b79d14",
   "metadata": {},
   "source": [
    "### Loading of training, validation and test datasets of Audio Vectores\n",
    "1.   Training dataset\n",
    "2.   Validation dataset\n",
    "3.   Test dataset"
   ]
  },
  {
   "cell_type": "code",
   "outputs": [],
   "source": [
    "# 1. Generate train dataset (ds) from directory of samples\n",
    "train_ds = image_dataset_from_directory(directory=train_dir,\n",
    "                                        label_mode = 'int',\n",
    "                                        class_names=CLASSES,\n",
    "                                        batch_size=batch_size,\n",
    "                                        color_mode=color_mode,\n",
    "                                        image_size=(img_width,img_height), shuffle=True)\n",
    "\n",
    "# 2. Generate validation dataset (ds) from directory of samples\n",
    "val_ds  = image_dataset_from_directory(directory=val_dir,\n",
    "                                       label_mode = 'int',\n",
    "                                       class_names=CLASSES,\n",
    "                                       batch_size=batch_size,\n",
    "                                       color_mode=color_mode,\n",
    "                                       image_size=(img_width,img_height), shuffle=True)\n",
    "\n",
    "# 3. Generate test dataset (ds) from directory of samples\n",
    "test_ds = image_dataset_from_directory(directory=test_dir,\n",
    "                                       label_mode = 'int',\n",
    "                                       class_names=CLASSES,\n",
    "                                       batch_size=batch_size,\n",
    "                                       color_mode=color_mode,\n",
    "                                       image_size=(img_width,img_height),\n",
    "                                       shuffle = False)"
   ],
   "metadata": {
    "collapsed": false
   },
   "id": "b4c5f1939bdedd7e"
  },
  {
   "cell_type": "markdown",
   "id": "c9aa25c303dfd0a",
   "metadata": {},
   "source": [
    "# Training process\n",
    "#### Available Models: LSTM & BiLSTM"
   ]
  },
  {
   "cell_type": "markdown",
   "id": "1603ec4ae8ddf8a8",
   "metadata": {},
   "source": [
    "### Long Short-Term Memory (LSTM)"
   ]
  },
  {
   "cell_type": "code",
   "execution_count": 7,
   "id": "57d645b4b6708c8d",
   "metadata": {
    "collapsed": false
   },
   "outputs": [],
   "source": [
    "def lstm(height, width, out_dim):\n",
    "    # Input layer\n",
    "    input_layer = Input(shape=(height, width, 3))\n",
    "    \n",
    "    # First LSTM layer\n",
    "    lstm_layer = TimeDistributed(LSTM(out_dim, activation='tanh', return_sequences=True))(input_layer)\n",
    "\n",
    "    # First Attention layer\n",
    "    attention_layer = Attention(use_scale=True)([lstm_layer, lstm_layer])\n",
    "\n",
    "    # First Dropout layer for regularization\n",
    "    dropout_layer = Dropout(0.2)(attention_layer)\n",
    "\n",
    "    # First Dense layer\n",
    "    dense_layer = TimeDistributed(Dense(units=out_dim, activation='relu'))(dropout_layer)\n",
    "\n",
    "    # Second LSTM layer\n",
    "    lstm_layer_2 = LSTM(out_dim, activation='tanh', return_sequences=True)(dense_layer)\n",
    "\n",
    "    # Second Attention layer\n",
    "    attention_layer_2 = Attention(use_scale=True)([lstm_layer_2, lstm_layer_2])\n",
    "\n",
    "    # Second Dense layer\n",
    "    output_layer = Dense(units=out_dim, activation='softmax')(attention_layer_2)\n",
    "\n",
    "    # Final LSTM model\n",
    "    model_lstm = Model(inputs=input_layer, outputs=output_layer)\n",
    "\n",
    "    return model_lstm"
   ]
  },
  {
   "cell_type": "markdown",
   "id": "16fcf4d8a61976d8",
   "metadata": {},
   "source": [
    "### Bidirectional Long Short-Term Memory (BiLSTM)"
   ]
  },
  {
   "cell_type": "code",
   "execution_count": 8,
   "id": "b925c88eb5734b67",
   "metadata": {
    "collapsed": false
   },
   "outputs": [],
   "source": [
    "def bi_lstm(height, width, out_dim):\n",
    "    # Input layer\n",
    "    input_layer = Input(shape=(height, width, 3))\n",
    "\n",
    "    # First BiLSTM layer\n",
    "    bilstm_layer = TimeDistributed(Bidirectional(LSTM(out_dim, activation='tanh', return_sequences=True)))(input_layer)\n",
    "\n",
    "    # First Attention layer\n",
    "    attention_layer = Attention(use_scale=True)([bilstm_layer, bilstm_layer])\n",
    "\n",
    "    # First Dropout layer for regularization\n",
    "    dropout_layer = Dropout(0.2)(attention_layer)\n",
    "\n",
    "    # First Dense layer\n",
    "    dense_layer = TimeDistributed(Dense(units=out_dim, activation='relu'))(dropout_layer)\n",
    "\n",
    "    # Second BiLSTM layer\n",
    "    bilstm_layer_2 = Bidirectional(LSTM(out_dim, activation='tanh', return_sequences=True))(dense_layer)\n",
    "\n",
    "    # Second Attention layer\n",
    "    attention_layer_2 = Attention(use_scale=True)([bilstm_layer_2, bilstm_layer_2])\n",
    "\n",
    "    # Second Dense layer\n",
    "    output_layer = Dense(units=out_dim, activation='softmax')(attention_layer_2)\n",
    "\n",
    "    # Final LSTM model\n",
    "    model_bilstm = Model(inputs=input_layer, outputs=output_layer)\n",
    "\n",
    "    return model_bilstm"
   ]
  },
  {
   "cell_type": "markdown",
   "id": "716c09b96942b87b",
   "metadata": {},
   "source": [
    "## Model execution"
   ]
  },
  {
   "cell_type": "code",
   "execution_count": 9,
   "id": "527931905fff8484",
   "metadata": {
    "collapsed": false
   },
   "outputs": [
    {
     "name": "stdout",
     "output_type": "stream",
     "text": [
      "WARNING:tensorflow:Layer lstm will not use cuDNN kernels since it doesn't meet the criteria. It will use a generic GPU kernel as fallback when running on GPU.\n",
      "Model: \"sequential\"\n",
      "_________________________________________________________________\n",
      " Layer (type)                Output Shape              Param #   \n",
      "=================================================================\n",
      " embedding (Embedding)       (None, 330750, 128)       768       \n",
      "                                                                 \n",
      " lstm (LSTM)                 (None, 128)               131584    \n",
      "                                                                 \n",
      " dense (Dense)               (None, 128)               16512     \n",
      "                                                                 \n",
      "=================================================================\n",
      "Total params: 148,864\n",
      "Trainable params: 148,864\n",
      "Non-trainable params: 0\n",
      "_________________________________________________________________\n"
     ]
    }
   ],
   "source": [
    "#Model\n",
    "model = ''\n",
    "if modelRNN == 'LSTM':\n",
    "    model = lstm(img_height, img_width, num_classes)\n",
    "elif modelRNN == 'BiLSTM':\n",
    "    model = bi_lstm(img_height, img_width, num_classes)\n",
    "else:\n",
    "    print('Wrong model selection or Model no available\\n')\n",
    "\n",
    "# Print the architecture of the model\n",
    "model.summary()"
   ]
  },
  {
   "cell_type": "markdown",
   "id": "27217df4509fb041",
   "metadata": {},
   "source": [
    "## Set model training process\n",
    "#### Configuration of several training decisions:\n",
    "1. Optimizer using `Adam`\n",
    "2. Model training configuration using `compile` with `categorical_crossentropy` due to the classification labeling"
   ]
  },
  {
   "cell_type": "code",
   "execution_count": 10,
   "id": "219f30ba984cdd19",
   "metadata": {
    "collapsed": false
   },
   "outputs": [],
   "source": [
    "# 1. Configure optimizer\n",
    "adam = Adam(learning_rate=initial_lr)\n",
    "\n",
    "# 2. Configure training process\n",
    "model.compile(loss='sparse_categorical_crossentropy', optimizer=adam, metrics=['categorical_accuracy'])\n"
   ]
  },
  {
   "cell_type": "markdown",
   "id": "efe94cc7505ca778",
   "metadata": {},
   "source": [
    "## Train the model\n",
    "1. Load parameters from previous trainings if they exist.\n",
    "2. Fit the model\n",
    "3. Save the weights"
   ]
  },
  {
   "cell_type": "code",
   "execution_count": null,
   "id": "6cfceea94efd9b8f",
   "metadata": {
    "collapsed": false
   },
   "outputs": [
    {
     "name": "stdout",
     "output_type": "stream",
     "text": [
      "Impossible to find weight path. Returning untrained model\n",
      "Epoch 1/5\n"
     ]
    }
   ],
   "source": [
    "# Load pretrained model\n",
    "weights_path = f\"weights_{version}.h5\" # Name of the file to store the weights\n",
    "weights_file = Path(weights_path)\n",
    "weights_load_path = f'{experiment_dir}/{weights_path}'\n",
    "if weights_load_path:\n",
    "    try:\n",
    "        model.load_weights(weights_load_path)\n",
    "        print(\"Loaded model from {}\".format(weights_load_path))\n",
    "    except:\n",
    "        print(\"Impossible to find weight path. Returning untrained model\")\n",
    "\n",
    "# Fit the model\n",
    "history = model.fit(train_ds, validation_data=val_ds, epochs=epochs, batch_size=batch_size)\n",
    "\n",
    "# Save weights\n",
    "weights_save_path = os.path.join(experiment_dir, weights_path)\n",
    "model.save_weights(weights_save_path)"
   ]
  },
  {
   "cell_type": "markdown",
   "id": "c7b5a0d9448e1867",
   "metadata": {},
   "source": []
  },
  {
   "cell_type": "markdown",
   "id": "54b7b1d4defb43cd",
   "metadata": {},
   "source": [
    "## Training Results\n",
    "Accuracy and Loss obtained along the training process"
   ]
  },
  {
   "cell_type": "code",
   "execution_count": null,
   "id": "188c2061f0390d85",
   "metadata": {
    "collapsed": false
   },
   "outputs": [],
   "source": [
    "plots.accloss(history, modelRNN, experiment_dir, version)"
   ]
  },
  {
   "cell_type": "markdown",
   "id": "92d061710524b2fc",
   "metadata": {},
   "source": [
    "# Testing\n",
    "### Model Testing\n",
    "1. Compute the loss function and accuracy for the test data\n",
    "2. Confusion Matrix obtained from testing results"
   ]
  },
  {
   "cell_type": "code",
   "execution_count": null,
   "id": "5968047ecafdcc8a",
   "metadata": {
    "collapsed": false,
    "tags": []
   },
   "outputs": [],
   "source": [
    "# Evaluate model\n",
    "scores = model.evaluate(test_ds, verbose=0)\n",
    "print(\"Accuracy: %.2f%%\" % (scores[1]*100))\n",
    "print(\"Loss: %.2f\" % scores[0])\n",
    "\n",
    "# Obtain results to present the confusion matrix\n",
    "prob_class = model.predict(test_ds, batch_size=batch_size)\n",
    "# Classified labels\n",
    "y_pred = tf.argmax(prob_class, axis=-1)\n",
    "# Ground truth\n",
    "y_true = tf.argmax(tf.concat([label for image, label in test_ds], axis=0), axis=1)\n",
    "# Visualize confusion matrix                                           \n",
    "plots.cm(y_true, y_pred, modelRNN, CLASSES, experiment_dir, version)"
   ]
  }
 ],
 "metadata": {
  "kernelspec": {
   "display_name": "sagemaker-distribution:Python",
   "language": "python",
   "name": "conda-env-sagemaker-distribution-py"
  },
  "language_info": {
   "codemirror_mode": {
    "name": "ipython",
    "version": 3
   },
   "file_extension": ".py",
   "mimetype": "text/x-python",
   "name": "python",
   "nbconvert_exporter": "python",
   "pygments_lexer": "ipython3",
   "version": "3.8.17"
  }
 },
 "nbformat": 4,
 "nbformat_minor": 5
}
